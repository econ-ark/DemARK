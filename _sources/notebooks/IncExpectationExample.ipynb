{
 "cells": [
  {
   "cell_type": "markdown",
   "metadata": {},
   "source": [
    "## The Persistent Shock Model and Income Expectations\n",
    "\n",
    "[![badge](https://img.shields.io/badge/Launch%20using%20-Econ--ARK-blue)](https://econ-ark.org/materials/incexpectationexample#launch)"
   ]
  },
  {
   "cell_type": "markdown",
   "metadata": {},
   "source": [
    "This module creates an example application extending $\\texttt{PersistentShockConsumerType}$ from $\\texttt{ConsGenIndShockModel}$. It uses the HARK tool $\\texttt{GenIncProcessModel}$ (whose documentation you can find [here](https://github.com/econ-ark/DemARK/blob/master/notebooks/IncExpectationExample.ipynb).)\n",
    "\n",
    "Most simply, it solves a consumption-saving model with shocks that are neither necessarily fully transitory nor fully permanent. Persistent income is tracked as a state variable and follows an AR(1) process."
   ]
  },
  {
   "cell_type": "markdown",
   "metadata": {},
   "source": [
    "###  What if beliefs about persistent income differ from actual ?\n",
    "\n",
    "What if the consumer has beliefs about the persistence of his/her income process which differ from the *actual* persistence?\n",
    "\n",
    "We can use the class $\\texttt{PersistentShockConsumerType}$ to solve the problem of a consumer with a given set of beliefs, but then simulate a population of consumers for whom that actual persistence differs from what they believe.\n",
    "\n",
    "(This thought experiment is motivated by an interesting recennt paper presented at the NBER Summer Institute's _Behavioral Macroeconomics Conference_ <cite data-cite=\"undefined\"></cite>"
   ]
  },
  {
   "cell_type": "code",
   "execution_count": 1,
   "metadata": {
    "code_folding": [],
    "execution": {
     "iopub.execute_input": "2023-01-20T20:50:24.602060Z",
     "iopub.status.busy": "2023-01-20T20:50:24.602060Z",
     "iopub.status.idle": "2023-01-20T20:50:26.262812Z",
     "shell.execute_reply": "2023-01-20T20:50:26.261813Z"
    },
    "lines_to_next_cell": 2
   },
   "outputs": [],
   "source": [
    "# Initial imports and notebook setup, click arrow to show\n",
    "%matplotlib inline\n",
    "import matplotlib.pyplot as plt\n",
    "\n",
    "from copy import copy\n",
    "import numpy as np\n",
    "\n",
    "from HARK.ConsumptionSaving.ConsGenIncProcessModel import PersistentShockConsumerType\n",
    "from HARK.distribution import Uniform\n",
    "from HARK.utilities import get_lorenz_shares, calc_subpop_avg\n",
    "\n",
    "\n",
    "def mystr(number):\n",
    "    return \"{:.4f}\".format(number)"
   ]
  },
  {
   "cell_type": "code",
   "execution_count": 2,
   "metadata": {
    "code_folding": [],
    "execution": {
     "iopub.execute_input": "2023-01-20T20:50:26.265811Z",
     "iopub.status.busy": "2023-01-20T20:50:26.264811Z",
     "iopub.status.idle": "2023-01-20T20:50:26.277811Z",
     "shell.execute_reply": "2023-01-20T20:50:26.277811Z"
    }
   },
   "outputs": [],
   "source": [
    "# This cell makes a subclass of PersistentShockConsumerType including the MPC\n",
    "\n",
    "\n",
    "class PersistentShockConsumerTypeX(PersistentShockConsumerType):\n",
    "    def getControls(self):\n",
    "        cLvl = np.zeros(self.AgentCount) + np.nan\n",
    "        MPCnow = np.zeros(self.AgentCount) + np.nan\n",
    "        for t in range(self.T_cycle):\n",
    "            these = t == self.t_cycle\n",
    "            cLvl[these] = self.solution[t].cFunc(\n",
    "                self.state_now[\"mLvlNow\"][these], self.state_now[\"pLvl\"][these]\n",
    "            )\n",
    "            MPCnow[these] = self.solution[t].cFunc.derivativeX(\n",
    "                self.state_now[\"mLvlNow\"][these], self.state_now[\"pLvl\"][these]\n",
    "            )\n",
    "        self.controls[\"cLvl\"] = cLvl\n",
    "        self.MPCnow = MPCnow"
   ]
  },
  {
   "cell_type": "code",
   "execution_count": 3,
   "metadata": {
    "code_folding": [],
    "execution": {
     "iopub.execute_input": "2023-01-20T20:50:26.280811Z",
     "iopub.status.busy": "2023-01-20T20:50:26.280811Z",
     "iopub.status.idle": "2023-01-20T20:50:26.292812Z",
     "shell.execute_reply": "2023-01-20T20:50:26.292812Z"
    }
   },
   "outputs": [],
   "source": [
    "# This cell defines a dictionary to make an instance of \"persistent shocks\" consumer for the infinite horizon model\n",
    "BaselineDict = {\n",
    "    \"CRRA\": 2.0,  # Coefficient of relative risk aversion\n",
    "    \"Rfree\": 1.01 / (1.0 - 1.0 / 160.0),  # Interest factor on assets\n",
    "    \"DiscFac\": 0.97,  # Default intertemporal discount factor\n",
    "    \"LivPrb\": [1.0 - 1.0 / 160.0],  # Survival probability\n",
    "    # Number of agents of this type (only matters for simulation)\n",
    "    \"AgentCount\": 10000,\n",
    "    \"IndL\": 10.0 / 9.0,  # Labor supply per individual (constant)\n",
    "    \"aNrmInitMean\": np.log(\n",
    "        0.00001\n",
    "    ),  # Mean of log initial assets (only matters for simulation)\n",
    "    # Standard deviation of log initial assets (only for simulation)\n",
    "    \"aNrmInitStd\": 0.0,\n",
    "    # Mean of log initial permanent income (only matters for simulation)\n",
    "    \"pLvlInitMean\": 0.0,\n",
    "    # Standard deviation of log initial permanent income (only matters for simulation)\n",
    "    \"pLvlInitStd\": 0.0,\n",
    "    # Aggregate permanent income growth factor (only matters for simulation)\n",
    "    \"PermGroFacAgg\": 1.0,\n",
    "    \"T_age\": 400,  # Age after which simulated agents are automatically killed\n",
    "    \"T_cycle\": 1,  # Number of periods in the cycle for this agent type\n",
    "    # Number of periods to simulate (idiosyncratic shocks model, perpetual youth)\n",
    "    \"T_sim\": 1200,\n",
    "    \"aXtraMin\": 0.001,  # Minimum end-of-period \"assets above minimum\" value\n",
    "    \"aXtraMax\": 30,  # Maximum end-of-period \"assets above minimum\" value\n",
    "    \"aXtraExtra\": [\n",
    "        0.005,\n",
    "        0.01,\n",
    "    ],  # Some other value of \"assets above minimum\" to add to the grid\n",
    "    # Exponential nesting factor when constructing \"assets above minimum\" grid\n",
    "    \"aXtraNestFac\": 3,\n",
    "    \"aXtraCount\": 48,  # Number of points in the grid of \"assets above minimum\"\n",
    "    \"PermShkCount\": 7,  # Number of points in discrete approximation to permanent income shocks\n",
    "    \"TranShkCount\": 7,  # Number of points in discrete approximation to transitory income shocks\n",
    "    \"PermShkStd\": [\n",
    "        (0.01 * 4 / 11) ** 0.5\n",
    "    ],  # Standard deviation of permanent shocks to income\n",
    "    \"TranShkStd\": [\n",
    "        (0.01 * 4) ** 0.5\n",
    "    ],  # Standard deviation of transitory shocks to income\n",
    "    \"UnempPrb\": 0.05,  # Probability of unemployment while working\n",
    "    \"UnempPrbRet\": 0.005,  # Probability of \"unemployment\" while retired\n",
    "    \"IncUnemp\": 0.3,  # Unemployment benefits replacement rate\n",
    "    \"IncUnempRet\": 0.0,  # \"Unemployment\" benefits when retired\n",
    "    \"tax_rate\": 0.0,  # Flat income tax rate\n",
    "    \"T_retire\": 0,  # Period of retirement (0 --> no retirement)\n",
    "    # Artificial borrowing constraint; imposed minimum level of end-of period assets\n",
    "    \"BoroCnstArt\": 0.0,\n",
    "    # Use cubic spline interpolation when True, linear interpolation when False\n",
    "    \"CubicBool\": False,\n",
    "    \"vFuncBool\": True,  # Whether to calculate the value function during solution\n",
    "    \"cycles\": 0,  # Make this type have an infinite horizon\n",
    "    \"pLvlPctiles\": np.concatenate(\n",
    "        (\n",
    "            [0.001, 0.005, 0.01, 0.03],\n",
    "            np.linspace(0.05, 0.95, num=19),\n",
    "            [0.97, 0.99, 0.995, 0.999],\n",
    "        )\n",
    "    ),\n",
    "    # Permanent income growth factor (no perm growth)\n",
    "    \"PermGroFac\": [1.000**0.25],\n",
    "    \"PrstIncCorr\": 0.99,  # Serial correlation coefficient for persistence of income\n",
    "}"
   ]
  },
  {
   "cell_type": "code",
   "execution_count": 4,
   "metadata": {
    "code_folding": [],
    "execution": {
     "iopub.execute_input": "2023-01-20T20:50:26.295812Z",
     "iopub.status.busy": "2023-01-20T20:50:26.295812Z",
     "iopub.status.idle": "2023-01-20T20:50:26.308813Z",
     "shell.execute_reply": "2023-01-20T20:50:26.308813Z"
    }
   },
   "outputs": [],
   "source": [
    "# This cell defines a function to solve and simulate a consumer misperceiving the correlation of persistent income shocks\n",
    "\n",
    "\n",
    "def runRoszypalSchlaffmanExperiment(CorrAct, CorrPcvd, DiscFac_center, DiscFac_spread):\n",
    "    \"\"\"\n",
    "    Solve and simulate a consumer type who misperceives the extent of serial correlation\n",
    "    of persistent shocks to income.\n",
    "\n",
    "    Parameters\n",
    "    ----------\n",
    "    CorrAct : float\n",
    "        Serial correlation coefficient for *actual* persistent income.\n",
    "    CorrPcvd : float\n",
    "        List or array of *perceived* persistent income.\n",
    "    DiscFac_center : float\n",
    "        A measure of centrality for the distribution of the beta parameter, DiscFac.\n",
    "    DiscFac_spread : float\n",
    "        A measure of spread or diffusion for the distribution of the beta parameter.\n",
    "\n",
    "\n",
    "    Returns\n",
    "    -------\n",
    "    AggWealthRatio: float\n",
    "        Ratio of Aggregate wealth to income.\n",
    "    Lorenz: numpy.array\n",
    "        A list of two 1D array reprensenting the Lorenz curve for assets in the most recent simulated period.\n",
    "    Gini: float\n",
    "        Gini coefficient for assets in the most recent simulated period.\n",
    "    Avg_MPC: numpy.array\n",
    "        Average marginal propensity to consume by income quintile in the latest simulated period.\n",
    "\n",
    "    \"\"\"\n",
    "\n",
    "    # Make a dictionary to construct our consumer type\n",
    "    ThisDict = copy(BaselineDict)\n",
    "    ThisDict[\"PrstIncCorr\"] = CorrAct\n",
    "\n",
    "    # Make a 7 point approximation to a uniform distribution of DiscFac\n",
    "    DiscFac_list = (\n",
    "        Uniform(\n",
    "            bot=DiscFac_center - DiscFac_spread, top=DiscFac_center + DiscFac_spread\n",
    "        )\n",
    "        .discretize(N=7)\n",
    "        .atoms\n",
    "    )\n",
    "\n",
    "    type_list = []\n",
    "    # Make a PersistentShockConsumerTypeX for each value of beta saved in DiscFac_list\n",
    "    for i in range(len(DiscFac_list)):\n",
    "        ThisDict[\"DiscFac\"] = DiscFac_list.flatten()[i]\n",
    "        ThisType = PersistentShockConsumerTypeX(**ThisDict)\n",
    "\n",
    "        # Make the consumer type *believe* he will face a different level of persistence\n",
    "        ThisType.PrstIncCorr = CorrPcvd\n",
    "        # Now he *thinks* E[p_{t+1}] as a function of p_t is different than it is\n",
    "        ThisType.update_pLvlNextFunc()\n",
    "\n",
    "        # Solve the consumer's problem with *perceived* persistence\n",
    "        ThisType.solve()\n",
    "\n",
    "        # Make the consumer type experience the true level of persistence during simulation\n",
    "        ThisType.PrstIncCorr = CorrAct\n",
    "        ThisType.update_pLvlNextFunc()\n",
    "\n",
    "        # Simulate the agents for many periods\n",
    "        ThisType.T_sim = 100\n",
    "        # ThisType.track_vars = ['cLvl','aLvl','pLvl','MPCnow']\n",
    "        ThisType.initialize_sim()\n",
    "        ThisType.simulate()\n",
    "        type_list.append(ThisType)\n",
    "\n",
    "    # Get the most recent simulated values of X = cLvl, MPCnow, aLvl, pLvl for all types\n",
    "    np.concatenate([ThisType.controls[\"cLvl\"] for ThisType in type_list])\n",
    "    aLvl_all = np.concatenate([ThisType.state_now[\"aLvl\"] for ThisType in type_list])\n",
    "    MPC_all = np.concatenate([ThisType.MPCnow for ThisType in type_list])\n",
    "    pLvl_all = np.concatenate([ThisType.state_now[\"pLvl\"] for ThisType in type_list])\n",
    "\n",
    "    # The ratio of aggregate assets over the income\n",
    "    AggWealthRatio = np.mean(aLvl_all) / np.mean(pLvl_all)\n",
    "\n",
    "    # first 1D array: Create points in the range (0,1)\n",
    "    wealth_percentile = np.linspace(0.001, 0.999, 201)\n",
    "\n",
    "    # second 1D array: Compute Lorenz shares for the created points\n",
    "    Lorenz_init = get_lorenz_shares(aLvl_all, percentiles=wealth_percentile)\n",
    "\n",
    "    # Stick 0 and 1 at the boundaries of both arrays to make it inclusive on the range [0,1]\n",
    "    Lorenz_init = np.concatenate([[0], Lorenz_init, [1]])\n",
    "    wealth_percentile = np.concatenate([[0], wealth_percentile, [1]])\n",
    "\n",
    "    # Create a list of wealth_percentile 1D array and Lorenz Shares 1D array\n",
    "    Lorenz = np.stack((wealth_percentile, Lorenz_init))\n",
    "\n",
    "    # Compute the Gini coefficient\n",
    "    Gini = 1.0 - 2.0 * np.mean(Lorenz_init[1])\n",
    "\n",
    "    # Compute the average MPC by income quintile in the latest simulated period\n",
    "    Avg_MPC = calc_subpop_avg(\n",
    "        MPC_all,\n",
    "        pLvl_all,\n",
    "        cutoffs=[(0.0, 0.2), (0.2, 0.4), (0.4, 0.6), (0.6, 0.8), (0.8, 1.0)],\n",
    "    )\n",
    "\n",
    "    return AggWealthRatio, Lorenz, Gini, Avg_MPC"
   ]
  },
  {
   "cell_type": "markdown",
   "metadata": {
    "code_folding": []
   },
   "source": [
    "The user needs to call the function $\\texttt{runRoszypalSchlaffmanExperiment}$ with specific values for $\\texttt{CorrAct}$, $\\texttt{CorrPcvd}$ and estimates of $\\texttt{DiscFac_center}$, $\\texttt{DiscFac_spread}$ to solve the model accordingly.\n",
    "\n"
   ]
  },
  {
   "cell_type": "code",
   "execution_count": 5,
   "metadata": {
    "code_folding": [],
    "execution": {
     "iopub.execute_input": "2023-01-20T20:50:26.311812Z",
     "iopub.status.busy": "2023-01-20T20:50:26.311812Z",
     "iopub.status.idle": "2023-01-20T20:52:21.967157Z",
     "shell.execute_reply": "2023-01-20T20:52:21.967157Z"
    }
   },
   "outputs": [
    {
     "name": "stdout",
     "output_type": "stream",
     "text": [
      "The Lorenz curve for assests is\n"
     ]
    },
    {
     "data": {
      "image/png": "[encoded data removed]",
      "text/plain": [
       "<Figure size 640x480 with 1 Axes>"
      ]
     },
     "metadata": {},
     "output_type": "display_data"
    },
    {
     "name": "stdout",
     "output_type": "stream",
     "text": [
      "The aggregate wealth to income ratio is 1.9763887031145313\n",
      "The Gini Coefficient for assests is 1.0\n",
      "The average MPC by income quintile is [0.10692187291548537, 0.09327176601929006, 0.08810286571670037, 0.07414283841778667, 0.0460267083981944]\n"
     ]
    }
   ],
   "source": [
    "# Call the function with test values for (CorrAct, CorrPcvd, DiscFac_center, DiscFac_spread)\n",
    "AggWealthRatio, Lorenz, Gini, Avg_MPC = runRoszypalSchlaffmanExperiment(\n",
    "    0.97, 0.9831, 0.9867, 0.0067\n",
    ")\n",
    "\n",
    "# Plot the Lorenz curve\n",
    "print(\"The Lorenz curve for assests is\")\n",
    "plt.plot(Lorenz[0], Lorenz[1])\n",
    "plt.xlabel(\"Wealth percentile\")\n",
    "plt.ylabel(\"Cumulative wealth share\")\n",
    "plt.xlim([0.0, 1.0])\n",
    "plt.ylim([0.0, 1.0])\n",
    "plt.show()\n",
    "\n",
    "print(\"The aggregate wealth to income ratio is \" + str(AggWealthRatio))\n",
    "print(\"The Gini Coefficient for assests is \" + str(Gini))\n",
    "print(\"The average MPC by income quintile is \" + str(Avg_MPC))"
   ]
  }
 ],
 "metadata": {
  "jupytext": {
   "cell_metadata_filter": "collapsed,code_folding",
   "cell_metadata_json": true,
   "formats": "ipynb,py:percent",
   "notebook_metadata_filter": "all"
  },
  "kernelspec": {
   "display_name": "Python 3 (ipykernel)",
   "language": "python",
   "name": "python3"
  },
  "language_info": {
   "codemirror_mode": {
    "name": "ipython",
    "version": 3
   },
   "file_extension": ".py",
   "mimetype": "text/x-python",
   "name": "python",
   "nbconvert_exporter": "python",
   "pygments_lexer": "ipython3",
   "version": "3.9.13"
  },
  "latex_envs": {
   "LaTeX_envs_menu_present": true,
   "autoclose": false,
   "autocomplete": true,
   "bibliofile": "biblio.bib",
   "cite_by": "apalike",
   "current_citInitial": 1,
   "eqLabelWithNumbers": true,
   "eqNumInitial": 1,
   "hotkeys": {
    "equation": "Ctrl-E",
    "itemize": "Ctrl-I"
   },
   "labels_anchors": false,
   "latex_user_defs": false,
   "report_style_numbering": false,
   "user_envs_cfg": false
  },
  "toc": {
   "base_numbering": 1,
   "nav_menu": {},
   "number_sections": true,
   "sideBar": true,
   "skip_h1_title": false,
   "title_cell": "Table of Contents",
   "title_sidebar": "Contents",
   "toc_cell": false,
   "toc_position": {},
   "toc_section_display": true,
   "toc_window_display": false
  }
 },
 "nbformat": 4,
 "nbformat_minor": 4
}

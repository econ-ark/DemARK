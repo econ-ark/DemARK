{
 "cells": [
  {
   "cell_type": "markdown",
   "metadata": {},
   "source": [
    "# Lucas Asset Pricing Model\n",
    "\n",
    "## A notebook by [Christopher D. Carroll](http://www.econ2.jhu.edu/people/ccarroll/) and [Mateo Velásquez-Giraldo](https://mv77.github.io/)\n",
    "### Inspired by its [Quantecon counterpart](https://julia.quantecon.org/multi_agent_models/lucas_model.html)\n",
    "\n",
    "This notebook presents simple computational tools to solve Lucas' asset-pricing model when the logarithm of the asset's dividend follows an autoregressive process of order 1,\n",
    "\n",
    "\\begin{equation*}\n",
    "\\ln d_{t+1} = \\alpha \\ln d_t + \\varepsilon_{t+1}.\n",
    "\\end{equation*}\n",
    "\n",
    "A presentation of this model can be found in [Christopher D. Carroll's lecture notes](http://www.econ2.jhu.edu/people/ccarroll/public/lecturenotes/AssetPricing/LucasAssetPrice/). \n",
    "\n",
    "Those notes [derive](http://www.econ2.jhu.edu/people/ccarroll/public/lecturenotes/AssetPricing/LucasAssetPrice/#pofc) from the Bellman equation a relationship between the price of the asset in the current period $t$ and the next period $t+1$:  \n",
    "\n",
    "\\begin{equation*}\n",
    "P_{t} = \n",
    "\\overbrace{\\left(\\frac{1}{1+\\vartheta}\\right)}\n",
    "^{\\beta}\\mathbb{E}_{t}\\left[ \\frac{u^{\\prime}(d_{t+1})}{u^{\\prime}(d_t)} (P_{t+1} + d_{t+1}) \\right]\n",
    "\\end{equation*}\n",
    "\n",
    "The equilibrium pricing equation is a relationship between prices and dividend (a \"pricing kernel\") $P^{*}(d)$ such that, if everyone _believes_ that to be the pricing kernel, everyone's Euler equation will be satisfied:\n",
    "\n",
    "\\begin{equation*}\n",
    "P^*(d_t) = \\left(\\frac{1}{1+\\vartheta}\\right)\\mathbb{E}_{t}\\left[ \\frac{u^{\\prime}(d_{t+1})}{u^{\\prime}(d_t)} (P^*(d_{t+1}) + d_{t+1}) \\right]\n",
    "\\end{equation*}\n",
    "\n",
    "As noted in the handout, there are some special circumstances in which it is possible to solve for $P^{*}$ analytically:\n",
    "\n",
    "| Shock Process | CRRA | Solution for Pricing Kernel | \n",
    "| --- | --- | --- |\n",
    "| bounded | 1 (log) | $P^*(d) = \\frac{d}{\\vartheta}$ |\n",
    "| lognormal, mean 1 | $\\rho$ | $P^*(d) = d_t^\\rho\\ e^{\\rho(\\rho-1)\\sigma^2/2}\\frac{\\beta}{1-\\beta}$ |\n",
    "\n",
    "However, under less special circumstances, the only way to obtain the pricing function $P^{*}$ is by solving for it numerically, as outlined below."
   ]
  },
  {
   "cell_type": "markdown",
   "metadata": {},
   "source": [
    "# Finding the equilibrium pricing function.\n",
    "\n",
    "We know that the equilibrium pricing function must satisfy the equation above. Let's define an operator that allows us to evaluate whether any candidate pricing function satisfies this requirement.\n",
    "\n",
    "Let $T$ be an operator which takes as argument a function and returns another function (these are usually called [functionals or higher-order functions](https://en.wikipedia.org/wiki/Functional_(mathematics))). For some function $f$, denote with $T[f]$ the function that results from applying $T$ to $f$. Then, for any real number $x$, $T[f](x)$ will be the real number that one obtains when the function $T[f]$ is given $x$ as an input.\n",
    "\n",
    "We define our particular operator as follows. For any function $g:\\mathbb{R}\\rightarrow\\mathbb{R}$, $T[g]$ is obtained as\n",
    "\n",
    "\\begin{equation*}\n",
    "\\forall d_t \\in \\mathbb{R},\\,\\,\\,\\, T[g](d_t) := \\beta\\mathbb{E}_{t}\\left[ \\frac{u^{\\prime}(d_{t+1})}{u^{\\prime}(d_t)} (f(d_{t+1}) + d_{t+1}) \\right].\n",
    "\\end{equation*}\n",
    "\n",
    "\n",
    "We can use $T$ to re-express our pricing equation. If $P^*(\\cdot)$ is our equilibrium pricing funtion, it must satisfy\n",
    "\n",
    "\\begin{equation*}\n",
    "\\forall d_t,\\,\\,\\,\\,P^*(d_t) = \\beta\\mathbb{E}_{t}\\left[ \\frac{u^{\\prime}(d_{t+1})}{u^{\\prime}(d_t)} (P^*(d_{t+1}) + d_{t+1}) \\right] = T[P^*](d_t).\n",
    "\\end{equation*}\n",
    "or, expressed differently,\n",
    "\\begin{equation*}\n",
    "P^* = T[P^*].\n",
    "\\end{equation*}\n",
    "\n",
    "Our equilibrium pricing function is therefore a *fixed point* of the operator $T$.\n",
    "\n",
    "It turns out that $T$ is a [contraction mapping](https://en.wikipedia.org/wiki/Contraction_mapping). This is useful because it implies, through [Banach's fixed-point theorem](https://en.wikipedia.org/wiki/Contraction_mapping), that:\n",
    "- $T$ has **exactly one** fixed point.\n",
    "- Starting from an arbitrary function $f$, the sequence $\\{T^n[f]\\}_{n=1}^{\\infty}$ converges to such fixed point.\n",
    "\n",
    "For our purposes, this translates to:\n",
    "- Our equilibrium pricing function not only exists, but it is unique.\n",
    "- We can get arbitrarily close to the equilibrium pricing function by making some initial guess $f$ and applying the operator $T$ to it repeatedly. \n",
    "\n",
    "The code below creates a representation of our model and implements a solution routine to find $P^*$. The main components of this routine are:\n",
    "\n",
    "- `priceOnePeriod`: this is operator $T$ from above. It takes a function $f$, computes $\\beta\\mathbb{E}_{t}\\left[ \\frac{u^{\\prime}(d_{t+1})}{u^{\\prime}(d_t)} (f(d_{t+1}) + d_{t+1}) \\right]$ for a grid of $d_t$ values, and uses the result to construct a linear interpolator that approximates $T[f]$.\n",
    "\n",
    "- `solve`: this is our iterative solution procedure. It generates an initial guess $f$ and applies `priceOnePeriod` to it iteratively. At each application, it constructs a measure of how much the candidate pricing function changed. Once changes between successive iterations are small enough, it declares that the solution has converged."
   ]
  },
  {
   "cell_type": "markdown",
   "metadata": {},
   "source": [
    "# A computational representation of the problem and its solution."
   ]
  },
  {
   "cell_type": "code",
   "execution_count": 1,
   "metadata": {
    "code_folding": [
     0
    ],
    "lines_to_next_cell": 1,
    "title": "Preamble"
   },
   "outputs": [],
   "source": [
    "# Setup\n",
    "import numpy as np\n",
    "import matplotlib.pyplot as plt\n",
    "from copy import copy\n",
    "\n",
    "from HARK.utilities import CRRAutilityP\n",
    "from HARK.distribution import Normal\n",
    "from HARK.interpolation import LinearInterp, ConstantFunction"
   ]
  },
  {
   "cell_type": "code",
   "execution_count": 2,
   "metadata": {
    "code_folding": [
     0
    ],
    "title": "Definitions"
   },
   "outputs": [],
   "source": [
    "# A class representing log-AR1 dividend processes.\n",
    "class DivProcess:\n",
    "    \n",
    "    def __init__(self, alpha, shock_sd, shock_mean = 0.0, nApprox = 7):\n",
    "        \n",
    "        self.alpha = alpha\n",
    "        self.shock_sd = shock_sd\n",
    "        self.shock_mean = shock_mean\n",
    "        self.nApprox = nApprox\n",
    "        \n",
    "        # Create a discrete approximation to the random shock\n",
    "        self.ShkAppDstn = Normal(mu = shock_mean, sigma = shock_sd).approx(N = nApprox)\n",
    "        \n",
    "    def getLogdGrid(self, n = 100):\n",
    "        '''\n",
    "        A method for creating a reasonable grid for log-dividends.\n",
    "        '''\n",
    "        uncond_sd = self.shock_sd / np.sqrt(1 - self.alpha**2)\n",
    "        uncond_mean = self.shock_mean/(1-self.alpha)\n",
    "        logDGrid = np.linspace(-5*uncond_sd, 5*uncond_sd, n) + uncond_mean\n",
    "        return(logDGrid)\n",
    "        \n",
    "# A class representing economies with Lucas' trees.\n",
    "class LucasEconomy:\n",
    "    '''\n",
    "    A representation of an economy in which there are Lucas trees\n",
    "    whose dividends' logarithm follows an AR1 process.\n",
    "    '''\n",
    "    def __init__(self, CRRA, DiscFac, DivProcess):\n",
    "        \n",
    "        self.CRRA = CRRA\n",
    "        self.DiscFac = DiscFac\n",
    "        self.DivProcess = DivProcess\n",
    "        self.uP = lambda c: CRRAutilityP(c, self.CRRA)\n",
    "        \n",
    "    def priceOnePeriod(self, Pfunc_next, logDGrid):\n",
    "        \n",
    "        # Create 'tiled arrays' rows are state today, columns are value of\n",
    "        # tomorrow's shock\n",
    "        dGrid_N = len(logDGrid)\n",
    "        shock_N = self.DivProcess.nApprox\n",
    "        \n",
    "        # Today's dividends\n",
    "        logD_now = np.tile(np.reshape(logDGrid, (dGrid_N,1)),\n",
    "                           (1,shock_N))\n",
    "        d_now = np.exp(logD_now)\n",
    "        \n",
    "        # Tomorrow's dividends\n",
    "        Shk_next = np.tile(self.DivProcess.ShkAppDstn.X,\n",
    "                               (dGrid_N, 1))\n",
    "        Shk_next_pmf = np.tile(self.DivProcess.ShkAppDstn.pmf,\n",
    "                               (dGrid_N, 1))\n",
    "        \n",
    "        logD_next = self.DivProcess.alpha * logD_now + Shk_next\n",
    "        d_next = np.exp(logD_next)\n",
    "        \n",
    "        # Tomorrow's prices\n",
    "        P_next = Pfunc_next(logD_next)\n",
    "        \n",
    "        # Compute the RHS of the pricing equation, pre-expectation\n",
    "        SDF = self.DiscFac * self.uP(d_next / d_now)\n",
    "        Payoff_next = P_next + d_next\n",
    "        \n",
    "        # Take expectation and discount\n",
    "        P_now = np.sum(SDF*Payoff_next*Shk_next_pmf, axis = 1, keepdims=True)\n",
    "        \n",
    "        # Create new interpolating price function\n",
    "        Pfunc_now = LinearInterp(logDGrid, P_now.flatten(), lower_extrap=True)\n",
    "        \n",
    "        return(Pfunc_now)\n",
    "        \n",
    "    def solve(self, Pfunc_0 = None, logDGrid = None, tol = 1e-5, maxIter = 500, disp = False):\n",
    "        \n",
    "        # Initialize the norm\n",
    "        norm = tol + 1\n",
    "        \n",
    "        # Initialize Pfunc if initial guess is not provided\n",
    "        if Pfunc_0 is None:\n",
    "            Pfunc_0 = ConstantFunction(0.0)\n",
    "        \n",
    "        # Create a grid for log-dividends if one is not provided\n",
    "        if logDGrid is None:\n",
    "            logDGrid = self.DivProcess.getLogdGrid()\n",
    "        \n",
    "        # Initialize function and compute prices on the grid\n",
    "        Pf_0 = copy(Pfunc_0)\n",
    "        P_0 = Pf_0(logDGrid)\n",
    "        \n",
    "        it = 0\n",
    "        while norm > tol and it < maxIter:\n",
    "            \n",
    "            # Apply the pricing equation\n",
    "            Pf_next = self.priceOnePeriod(Pf_0, logDGrid)\n",
    "            # Find new prices on the grid\n",
    "            P_next = Pf_next(logDGrid)\n",
    "            # Measure the change between price vectors\n",
    "            norm = np.linalg.norm(P_0 - P_next)\n",
    "            # Update price function and vector\n",
    "            Pf_0 = Pf_next\n",
    "            P_0  = P_next\n",
    "            it = it + 1\n",
    "            # Print iteration information\n",
    "            if disp:\n",
    "                print('Iter:' + str(it) + '   Norm = '+ str(norm))\n",
    "        \n",
    "        if disp:\n",
    "            if norm <= tol:\n",
    "                print('Price function converged!')\n",
    "            else:\n",
    "                print('Maximum iterations exceeded!')\n",
    "        \n",
    "        self.EqlogPfun = Pf_0\n",
    "        self.EqPfun = lambda d: self.EqlogPfun(np.log(d))"
   ]
  },
  {
   "cell_type": "markdown",
   "metadata": {},
   "source": [
    "# Creating and solving an example economy\n",
    "\n",
    "An economy is fully specified by:\n",
    "- **The dividend process for the assets (trees)**: we assume that $\\ln d_{t+1} = \\alpha \\ln d_t + \\varepsilon_{t+1}$. We must create a dividend process specifying $\\alpha$ and $\\sigma_{\\varepsilon}$.\n",
    "- **The coefficient of relative risk aversion (CRRA).**\n",
    "- **The time-discount factor ($\\beta$).**"
   ]
  },
  {
   "cell_type": "code",
   "execution_count": 3,
   "metadata": {
    "code_folding": [
     0
    ],
    "lines_to_next_cell": 2,
    "title": "Example"
   },
   "outputs": [],
   "source": [
    "# Create a log-AR1 process for dividends\n",
    "DivProc = DivProcess(alpha = 0.90, shock_sd = 0.1)\n",
    "\n",
    "# Create an example economy\n",
    "economy = LucasEconomy(CRRA = 2, DiscFac = 0.95, DivProcess = DivProc)"
   ]
  },
  {
   "cell_type": "markdown",
   "metadata": {},
   "source": [
    "Once created, the economy can be 'solved', which means finding the equilibrium price kernel. The distribution of dividends at period $t+1$ depends on the value of dividends at $t$, which also determines the resources agents have available to buy trees. Thus, $d_t$ is a state variable for the economy. The pricing function gives the price of trees that equates their demand and supply at every level of current dividends $d_t$."
   ]
  },
  {
   "cell_type": "code",
   "execution_count": 4,
   "metadata": {
    "code_folding": [
     0
    ],
    "lines_to_next_cell": 2,
    "title": "Solution"
   },
   "outputs": [
    {
     "name": "stdout",
     "output_type": "stream",
     "text": [
      "Iter:1   Norm = 15.078492707888971\n",
      "Iter:2   Norm = 15.364187550629122\n",
      "Iter:3   Norm = 15.574184260513519\n",
      "Iter:4   Norm = 15.705321834094176\n",
      "Iter:5   Norm = 15.758153638835239\n",
      "Iter:6   Norm = 15.73588081854969\n",
      "Iter:7   Norm = 15.643515942992448\n",
      "Iter:8   Norm = 15.487249547338951\n",
      "Iter:9   Norm = 15.273939284634384\n",
      "Iter:10   Norm = 15.010720323462312\n",
      "Iter:11   Norm = 14.704712752277215\n",
      "Iter:12   Norm = 14.362808402479406\n",
      "Iter:13   Norm = 13.991522607681395\n",
      "Iter:14   Norm = 13.59689781058941\n",
      "Iter:15   Norm = 13.18444788932241\n",
      "Iter:16   Norm = 12.759133681902245\n",
      "Iter:17   Norm = 12.325361778696157\n",
      "Iter:18   Norm = 11.887000083698242\n",
      "Iter:19   Norm = 11.447404920433039\n",
      "Iter:20   Norm = 11.009455566257232\n",
      "Iter:21   Norm = 10.575593039092091\n",
      "Iter:22   Norm = 10.147860743036276\n",
      "Iter:23   Norm = 9.727945217684864\n",
      "Iter:24   Norm = 9.317215747420896\n",
      "Iter:25   Norm = 8.916761989301403\n",
      "Iter:26   Norm = 8.527429088845741\n",
      "Iter:27   Norm = 8.149849988184098\n",
      "Iter:28   Norm = 7.784474805011756\n",
      "Iter:29   Norm = 7.4315972860846085\n",
      "Iter:30   Norm = 7.0913784261129065\n",
      "Iter:31   Norm = 6.7638674006095245\n",
      "Iter:32   Norm = 6.449019996648295\n",
      "Iter:33   Norm = 6.14671474430672\n",
      "Iter:34   Norm = 5.856766958330836\n",
      "Iter:35   Norm = 5.578940897797847\n",
      "Iter:36   Norm = 5.312960243979353\n",
      "Iter:37   Norm = 5.0585170852813786\n",
      "Iter:38   Norm = 4.815279584591967\n",
      "Iter:39   Norm = 4.582898489725015\n",
      "Iter:40   Norm = 4.3610126327120255\n",
      "Iter:41   Norm = 4.1492535490197655\n",
      "Iter:42   Norm = 3.9472493337338275\n",
      "Iter:43   Norm = 3.7546278385768024\n",
      "Iter:44   Norm = 3.5710193014570693\n",
      "Iter:45   Norm = 3.396058489127927\n",
      "Iter:46   Norm = 3.2293864234827776\n",
      "Iter:47   Norm = 3.0706517529885966\n",
      "Iter:48   Norm = 2.919511822717988\n",
      "Iter:49   Norm = 2.775633489310917\n",
      "Iter:50   Norm = 2.638693720909024\n",
      "Iter:51   Norm = 2.5083800165800216\n",
      "Iter:52   Norm = 2.3843906749157835\n",
      "Iter:53   Norm = 2.2664349372679156\n",
      "Iter:54   Norm = 2.1542330274153847\n",
      "Iter:55   Norm = 2.0475161062743097\n",
      "Iter:56   Norm = 1.9460261575025615\n",
      "Iter:57   Norm = 1.84951581747116\n",
      "Iter:58   Norm = 1.757748161020183\n",
      "Iter:59   Norm = 1.6704964526515995\n",
      "Iter:60   Norm = 1.5875438712918462\n",
      "Iter:61   Norm = 1.5086832154568137\n",
      "Iter:62   Norm = 1.4337165945370702\n",
      "Iter:63   Norm = 1.362455110968488\n",
      "Iter:64   Norm = 1.2947185372413987\n",
      "Iter:65   Norm = 1.23033499100836\n",
      "Iter:66   Norm = 1.1691406109627087\n",
      "Iter:67   Norm = 1.1109792356593937\n",
      "Iter:68   Norm = 1.0557020870281593\n",
      "Iter:69   Norm = 1.0031674599693072\n",
      "Iter:70   Norm = 0.9532404191223034\n",
      "Iter:71   Norm = 0.9057925036428145\n",
      "Iter:72   Norm = 0.8607014406123662\n",
      "Iter:73   Norm = 0.8178508675250673\n",
      "Iter:74   Norm = 0.777130064149846\n",
      "Iter:75   Norm = 0.7384336939430914\n",
      "Iter:76   Norm = 0.7016615550855273\n",
      "Iter:77   Norm = 0.6667183411342025\n",
      "Iter:78   Norm = 0.6335134112141001\n",
      "Iter:79   Norm = 0.6019605696177373\n",
      "Iter:80   Norm = 0.5719778546400012\n",
      "Iter:81   Norm = 0.5434873364404882\n",
      "Iter:82   Norm = 0.5164149236987929\n",
      "Iter:83   Norm = 0.4906901788103252\n",
      "Iter:84   Norm = 0.4662461413552101\n",
      "Iter:85   Norm = 0.4430191595627692\n",
      "Iter:86   Norm = 0.4209487294896927\n",
      "Iter:87   Norm = 0.3999773416260161\n",
      "Iter:88   Norm = 0.3800503346438185\n",
      "Iter:89   Norm = 0.36111575600511053\n",
      "Iter:90   Norm = 0.3431242291491914\n",
      "Iter:91   Norm = 0.32602882698451596\n",
      "Iter:92   Norm = 0.3097849514162512\n",
      "Iter:93   Norm = 0.294350218648084\n",
      "Iter:94   Norm = 0.27968435000273195\n",
      "Iter:95   Norm = 0.26574906801566756\n",
      "Iter:96   Norm = 0.2525079975627075\n",
      "Iter:97   Norm = 0.23992657179175733\n",
      "Iter:98   Norm = 0.22797194263737228\n",
      "Iter:99   Norm = 0.21661289570420109\n",
      "Iter:100   Norm = 0.20581976931505658\n",
      "Iter:101   Norm = 0.19556437752756273\n",
      "Iter:102   Norm = 0.18581993693056242\n",
      "Iter:103   Norm = 0.17656099703984054\n",
      "Iter:104   Norm = 0.1677633741217996\n",
      "Iter:105   Norm = 0.15940408827906893\n",
      "Iter:106   Norm = 0.15146130364147728\n",
      "Iter:107   Norm = 0.1439142715113105\n",
      "Iter:108   Norm = 0.13674327631975033\n",
      "Iter:109   Norm = 0.12992958425762588\n",
      "Iter:110   Norm = 0.12345539444965622\n",
      "Iter:111   Norm = 0.11730379254805946\n",
      "Iter:112   Norm = 0.1114587066266214\n",
      "Iter:113   Norm = 0.10590486526291548\n",
      "Iter:114   Norm = 0.10062775770001436\n",
      "Iter:115   Norm = 0.09561359598672066\n",
      "Iter:116   Norm = 0.09084927899739298\n",
      "Iter:117   Norm = 0.08632235823979646\n",
      "Iter:118   Norm = 0.08202100536185937\n",
      "Iter:119   Norm = 0.07793398127349448\n",
      "Iter:120   Norm = 0.07405060680421076\n",
      "Iter:121   Norm = 0.07036073481929397\n",
      "Iter:122   Norm = 0.06685472372353021\n",
      "Iter:123   Norm = 0.06352341228279501\n",
      "Iter:124   Norm = 0.06035809569867241\n",
      "Iter:125   Norm = 0.057350502873534576\n",
      "Iter:126   Norm = 0.05449277480729317\n",
      "Iter:127   Norm = 0.05177744406948195\n",
      "Iter:128   Norm = 0.04919741529334438\n",
      "Iter:129   Norm = 0.04674594664087607\n",
      "Iter:130   Norm = 0.04441663219091813\n",
      "Iter:131   Norm = 0.04220338520417634\n",
      "Iter:132   Norm = 0.04010042222165487\n",
      "Iter:133   Norm = 0.03810224795504113\n",
      "Iter:134   Norm = 0.036203640929377674\n",
      "Iter:135   Norm = 0.03439963984120001\n",
      "Iter:136   Norm = 0.0326855305960183\n",
      "Iter:137   Norm = 0.031056833991241317\n",
      "Iter:138   Norm = 0.029509294013048384\n",
      "Iter:139   Norm = 0.02803886671595934\n",
      "Iter:140   Norm = 0.02664170965637178\n",
      "Iter:141   Norm = 0.025314171852987212\n",
      "Iter:142   Norm = 0.024052784246501993\n",
      "Iter:143   Norm = 0.02285425063543841\n",
      "Iter:144   Norm = 0.02171543906304843\n",
      "Iter:145   Norm = 0.020633373633658535\n",
      "Iter:146   Norm = 0.01960522673650031\n",
      "Iter:147   Norm = 0.018628311656877516\n",
      "Iter:148   Norm = 0.017700075556095977\n",
      "Iter:149   Norm = 0.01681809280034165\n",
      "Iter:150   Norm = 0.015980058622359784\n",
      "Iter:151   Norm = 0.01518378309922698\n",
      "Iter:152   Norm = 0.014427185429405995\n",
      "Iter:153   Norm = 0.013708288495860104\n",
      "Iter:154   Norm = 0.013025213699242175\n",
      "Iter:155   Norm = 0.012376176049185275\n",
      "Iter:156   Norm = 0.011759479499690126\n",
      "Iter:157   Norm = 0.011173512517372195\n",
      "Iter:158   Norm = 0.010616743870051496\n",
      "Iter:159   Norm = 0.010087718625645793\n",
      "Iter:160   Norm = 0.009585054350193944\n",
      "Iter:161   Norm = 0.009107437495073919\n",
      "Iter:162   Norm = 0.008653619965116741\n",
      "Iter:163   Norm = 0.008222415856479134\n",
      "Iter:164   Norm = 0.007812698358082112\n",
      "Iter:165   Norm = 0.0074233968070428\n",
      "Iter:166   Norm = 0.007053493890810302\n",
      "Iter:167   Norm = 0.006702022988676632\n",
      "Iter:168   Norm = 0.006368065646018529\n",
      "Iter:169   Norm = 0.006050749174048002\n",
      "Iter:170   Norm = 0.005749244369611467\n",
      "Iter:171   Norm = 0.005462763348030211\n",
      "Iter:172   Norm = 0.005190557484364176\n",
      "Iter:173   Norm = 0.004931915457112754\n",
      "Iter:174   Norm = 0.004686161389500017\n",
      "Iter:175   Norm = 0.004452653083105882\n",
      "Iter:176   Norm = 0.004230780340025857\n",
      "Iter:177   Norm = 0.004019963367865433\n",
      "Iter:178   Norm = 0.0038196512649842566\n",
      "Iter:179   Norm = 0.003629320580780694\n",
      "Iter:180   Norm = 0.003448473947869851\n",
      "Iter:181   Norm = 0.0032766387823187086\n",
      "Iter:182   Norm = 0.0031133660487141146\n",
      "Iter:183   Norm = 0.0029582290868419873\n",
      "Iter:184   Norm = 0.002810822496598419\n",
      "Iter:185   Norm = 0.0026707610786803736\n",
      "Iter:186   Norm = 0.0025376788281412537\n",
      "Iter:187   Norm = 0.0024112279776201634\n",
      "Iter:188   Norm = 0.0022910780889947324\n",
      "Iter:189   Norm = 0.0021769151894216144\n",
      "Iter:190   Norm = 0.0020684409512630505\n",
      "Iter:191   Norm = 0.001965371912341053\n",
      "Iter:192   Norm = 0.0018674387351128349\n",
      "Iter:193   Norm = 0.001774385503059461\n",
      "Iter:194   Norm = 0.0016859690517595238\n",
      "Iter:195   Norm = 0.0016019583334339167\n",
      "Iter:196   Norm = 0.0015221338134622437\n",
      "Iter:197   Norm = 0.0014462868962516382\n",
      "Iter:198   Norm = 0.0013742193805968913\n",
      "Iter:199   Norm = 0.001305742941326569\n",
      "Iter:200   Norm = 0.001240678637559162\n",
      "Iter:201   Norm = 0.0011788564448671581\n",
      "Iter:202   Norm = 0.0011201148109929524\n",
      "Iter:203   Norm = 0.0010643002336428481\n",
      "Iter:204   Norm = 0.0010112668597027931\n",
      "Iter:205   Norm = 0.0009608761035358945\n",
      "Iter:206   Norm = 0.0009129962852601468\n",
      "Iter:207   Norm = 0.0008675022865696877\n",
      "Iter:208   Norm = 0.0008242752235950647\n",
      "Iter:209   Norm = 0.000783202136514188\n",
      "Iter:210   Norm = 0.0007441756940859759\n",
      "Iter:211   Norm = 0.000707093913338775\n",
      "Iter:212   Norm = 0.000671859893111979\n",
      "Iter:213   Norm = 0.0006383815607183245\n",
      "Iter:214   Norm = 0.0006065714313622345\n",
      "Iter:215   Norm = 0.0005763463796863215\n",
      "Iter:216   Norm = 0.0005476274222568175\n",
      "Iter:217   Norm = 0.0005203395113877266\n",
      "Iter:218   Norm = 0.0004944113389892669\n",
      "Iter:219   Norm = 0.0004697751502526029\n",
      "Iter:220   Norm = 0.00044636656641791644\n",
      "Iter:221   Norm = 0.00042412441676137097\n",
      "Iter:222   Norm = 0.0004029905786897142\n",
      "Iter:223   Norm = 0.00038290982569547\n",
      "Iter:224   Norm = 0.0003638296833351196\n",
      "Iter:225   Norm = 0.00034570029175126654\n",
      "Iter:226   Norm = 0.0003284742757549766\n",
      "Iter:227   Norm = 0.0003121066206805196\n",
      "Iter:228   Norm = 0.00029655455495021315\n",
      "Iter:229   Norm = 0.00028177743838430193\n",
      "Iter:230   Norm = 0.00026773665573606747\n",
      "Iter:231   Norm = 0.0002543955159406151\n",
      "Iter:232   Norm = 0.00024171915628376633\n",
      "Iter:233   Norm = 0.00022967445117304619\n",
      "Iter:234   Norm = 0.00021822992580876867\n",
      "Iter:235   Norm = 0.00020735567350390417\n",
      "Iter:236   Norm = 0.0001970232779252552\n",
      "Iter:237   Norm = 0.0001872057387810324\n",
      "Iter:238   Norm = 0.00017787740111104093\n",
      "Iter:239   Norm = 0.00016901388830792538\n",
      "Iter:240   Norm = 0.00016059203848669895\n",
      "Iter:241   Norm = 0.00015258984384671046\n",
      "Iter:242   Norm = 0.00014498639323542832\n",
      "Iter:243   Norm = 0.00013776181753150983\n",
      "Iter:244   Norm = 0.00013089723762664616\n",
      "Iter:245   Norm = 0.0001243747151673472\n",
      "Iter:246   Norm = 0.00011817720564092735\n",
      "Iter:247   Norm = 0.00011228851398188839\n",
      "Iter:248   Norm = 0.0001066932518749241\n",
      "Iter:249   Norm = 0.00010137679801445978\n",
      "Iter:250   Norm = 9.632525943205395e-05\n",
      "Iter:251   Norm = 9.152543572425052e-05\n",
      "Iter:252   Norm = 8.696478403278947e-05\n",
      "Iter:253   Norm = 8.263138658783529e-05\n",
      "Iter:254   Norm = 7.851391944320142e-05\n",
      "Iter:255   Norm = 7.460162298074915e-05\n",
      "Iter:256   Norm = 7.088427361592918e-05\n",
      "Iter:257   Norm = 6.735215737352282e-05\n",
      "Iter:258   Norm = 6.399604404087815e-05\n",
      "Iter:259   Norm = 6.080716368004633e-05\n",
      "Iter:260   Norm = 5.7777183045776195e-05\n",
      "Iter:261   Norm = 5.489818440711308e-05\n",
      "Iter:262   Norm = 5.216264430161164e-05\n",
      "Iter:263   Norm = 4.956341437834568e-05\n",
      "Iter:264   Norm = 4.709370236453343e-05\n",
      "Iter:265   Norm = 4.474705443520412e-05\n",
      "Iter:266   Norm = 4.2517338421445116e-05\n",
      "Iter:267   Norm = 4.039872767403319e-05\n",
      "Iter:268   Norm = 3.838568590126034e-05\n",
      "Iter:269   Norm = 3.647295264578699e-05\n",
      "Iter:270   Norm = 3.4655529659061604e-05\n",
      "Iter:271   Norm = 3.292866758577782e-05\n",
      "Iter:272   Norm = 3.128785394014937e-05\n",
      "Iter:273   Norm = 2.9728800983237223e-05\n",
      "Iter:274   Norm = 2.8247434525698872e-05\n",
      "Iter:275   Norm = 2.683988365650665e-05\n",
      "Iter:276   Norm = 2.5502470072273455e-05\n",
      "Iter:277   Norm = 2.4231698898470055e-05\n",
      "Iter:278   Norm = 2.3024249440011007e-05\n",
      "Iter:279   Norm = 2.187696637957304e-05\n",
      "Iter:280   Norm = 2.0786851663575015e-05\n",
      "Iter:281   Norm = 1.9751056650159408e-05\n",
      "Iter:282   Norm = 1.8766874624519344e-05\n",
      "Iter:283   Norm = 1.78317337223524e-05\n",
      "Iter:284   Norm = 1.6943190286867308e-05\n",
      "Iter:285   Norm = 1.609892234645736e-05\n",
      "Iter:286   Norm = 1.5296723737510196e-05\n",
      "Iter:287   Norm = 1.4534498154511558e-05\n",
      "Iter:288   Norm = 1.3810253713081922e-05\n",
      "Iter:289   Norm = 1.3122098001368902e-05\n",
      "Iter:290   Norm = 1.2468232533587619e-05\n",
      "Iter:291   Norm = 1.1846948762596811e-05\n",
      "Iter:292   Norm = 1.1256623186719781e-05\n",
      "Iter:293   Norm = 1.0695713117563068e-05\n"
     ]
    },
    {
     "name": "stdout",
     "output_type": "stream",
     "text": [
      "Iter:294   Norm = 1.016275285571779e-05\n",
      "Iter:295   Norm = 9.656349631538816e-06\n",
      "Price function converged!\n",
      "P(1) = 19.46757396451111\n"
     ]
    }
   ],
   "source": [
    "# Solve the economy\n",
    "economy.solve(disp = True)\n",
    "\n",
    "# After the economy is solved, we can use its Equilibrium price function\n",
    "d = 1\n",
    "print('P({}) = {}'.format(d, economy.EqPfun(d)))"
   ]
  },
  {
   "cell_type": "markdown",
   "metadata": {},
   "source": [
    "## The effect of risk aversion.\n",
    "\n",
    "[The notes](http://www.econ2.jhu.edu/people/ccarroll/public/lecturenotes/AssetPricing/LucasAssetPrice/) discuss the surprising implication that an increase in the coefficient of relative risk aversion $\\rho$ leads to higher prices for the risky trees! This is demonstrated below."
   ]
  },
  {
   "cell_type": "code",
   "execution_count": 5,
   "metadata": {
    "code_folding": [
     0
    ]
   },
   "outputs": [
    {
     "data": {
      "text/plain": [
       "Text(0, 0.5, '$P_t$')"
      ]
     },
     "execution_count": 5,
     "metadata": {},
     "output_type": "execute_result"
    },
    {
     "data": {
      "image/png": "[encoded data removed]",
      "text/plain": [
       "<Figure size 432x288 with 1 Axes>"
      ]
     },
     "metadata": {
      "needs_background": "light"
     },
     "output_type": "display_data"
    }
   ],
   "source": [
    "# Create two economies with different risk aversion\n",
    "Disc = 0.95\n",
    "LowCrraEcon  = LucasEconomy(CRRA = 2, DiscFac = Disc, DivProcess = DivProc)\n",
    "HighCrraEcon = LucasEconomy(CRRA = 4, DiscFac = Disc, DivProcess = DivProc)\n",
    "\n",
    "# Solve both\n",
    "LowCrraEcon.solve()\n",
    "HighCrraEcon.solve()\n",
    "\n",
    "# Plot the pricing functions for both\n",
    "dGrid = np.linspace(0.5,2.5,30)\n",
    "plt.plot(dGrid, LowCrraEcon.EqPfun(dGrid), label = 'Low CRRA')\n",
    "plt.plot(dGrid, HighCrraEcon.EqPfun(dGrid), label = 'High CRRA')\n",
    "plt.legend()\n",
    "plt.xlabel('$d_t$')\n",
    "plt.ylabel('$P_t$')"
   ]
  },
  {
   "cell_type": "markdown",
   "metadata": {},
   "source": [
    "# Testing our analytical solutions"
   ]
  },
  {
   "cell_type": "markdown",
   "metadata": {},
   "source": [
    "## 1. Log-utility\n",
    "\n",
    "The lecture notes show that with log-utility (a CRRA of $1$), the pricing kernel has a closed form expression: $$P^*(d_t) = \\frac{d_t}{\\vartheta}$$.\n",
    "\n",
    "We now compare our numerical solution with this analytical expression."
   ]
  },
  {
   "cell_type": "code",
   "execution_count": 6,
   "metadata": {
    "code_folding": [
     0
    ]
   },
   "outputs": [
    {
     "data": {
      "text/plain": [
       "Text(0, 0.5, '$P^*(d_t)$')"
      ]
     },
     "execution_count": 6,
     "metadata": {},
     "output_type": "execute_result"
    },
    {
     "data": {
      "image/png": "[encoded data removed]",
      "text/plain": [
       "<Figure size 432x288 with 1 Axes>"
      ]
     },
     "metadata": {
      "needs_background": "light"
     },
     "output_type": "display_data"
    }
   ],
   "source": [
    "# Create an economy with log utility and the same dividend process from before\n",
    "logUtilEcon = LucasEconomy(CRRA = 1, DiscFac = Disc, DivProcess = DivProc)\n",
    "# Solve it\n",
    "logUtilEcon.solve()\n",
    "\n",
    "# Generate a function with our analytical solution\n",
    "theta = 1/Disc - 1\n",
    "aSol = lambda d: d/theta\n",
    "\n",
    "# Get a grid for d over which to compare them\n",
    "dGrid = np.exp(DivProc.getLogdGrid())\n",
    "\n",
    "# Plot both\n",
    "plt.plot(dGrid, aSol(dGrid), '*',label = 'Analytical solution')\n",
    "plt.plot(dGrid, logUtilEcon.EqPfun(dGrid), label = 'Numerical solution')\n",
    "plt.legend()\n",
    "plt.xlabel('$d_t$')\n",
    "plt.ylabel('$P^*(d_t)$')"
   ]
  },
  {
   "cell_type": "markdown",
   "metadata": {},
   "source": [
    " ## 2. I.I.D dividends\n",
    " \n",
    " We also found that, if $\\ln d_{t+n}\\sim \\mathcal{N}(-\\sigma^2/2, \\sigma^2)$ for all $n$, the pricing kernel is exactly\n",
    " \\begin{equation*}\n",
    " P^*(d_t) = d_t^\\rho\\times e^{\\rho(\\rho-1)\\sigma^2/2}\\frac{\\beta}{1-\\beta}.\n",
    " \\end{equation*}\n",
    " \n",
    " We now our numerical solution for this case."
   ]
  },
  {
   "cell_type": "code",
   "execution_count": 7,
   "metadata": {
    "code_folding": [
     0
    ]
   },
   "outputs": [
    {
     "data": {
      "text/plain": [
       "Text(0, 0.5, '$P^*(d_t)$')"
      ]
     },
     "execution_count": 7,
     "metadata": {},
     "output_type": "execute_result"
    },
    {
     "data": {
      "image/png": "[encoded data removed]",
      "text/plain": [
       "<Figure size 432x288 with 1 Axes>"
      ]
     },
     "metadata": {
      "needs_background": "light"
     },
     "output_type": "display_data"
    }
   ],
   "source": [
    "# Create an i.i.d. dividend process\n",
    "shock_sd = 0.1\n",
    "iidDivs = DivProcess(alpha = 0.0, shock_mean = -shock_sd**2/2, shock_sd = shock_sd)\n",
    "\n",
    "# And an economy that embeds it\n",
    "CRRA = 2\n",
    "Disc = 0.9\n",
    "\n",
    "iidEcon = LucasEconomy(CRRA = CRRA, DiscFac = Disc, DivProcess = iidDivs)\n",
    "iidEcon.solve()\n",
    "\n",
    "# Generate a function with our analytical solution\n",
    "dTil = np.exp((shock_sd**2)/2*CRRA*(CRRA-1))\n",
    "aSolIID = lambda d: d**CRRA * dTil * Disc/(1 - Disc)\n",
    "\n",
    "# Get a grid for d over which to compare them\n",
    "dGrid = np.exp(iidDivs.getLogdGrid())\n",
    "\n",
    "# Plot both\n",
    "plt.plot(dGrid, aSolIID(dGrid), '*',label = 'Analytical solution')\n",
    "plt.plot(dGrid, iidEcon.EqPfun(dGrid), label = 'Numerical solution')\n",
    "plt.legend()\n",
    "plt.xlabel('$d_t$')\n",
    "plt.ylabel('$P^*(d_t)$')"
   ]
  },
  {
   "cell_type": "markdown",
   "metadata": {},
   "source": [
    "# Testing our approximation of the dividend process\n",
    "\n",
    "Hidden in the solution method implemented above is the fact that, in order to make expectations easy to compute, we discretize the random shock $\\varepsilon_t$, which is to say, we create a discrete variable $\\tilde{\\varepsilon}$ that approximates the behavior of $\\varepsilon_t$. This is done using a [Gauss-Hermite quadrature](https://en.wikipedia.org/wiki/Gauss%E2%80%93Hermite_quadrature).\n",
    "\n",
    "A parameter for the numerical solution is the number of different values that we allow our discrete approximation $\\tilde{\\varepsilon}$ to take, $n^{\\#}$. We would expect a higher $n^#$ to improve our solution, as the discrete approximation of $\\varepsilon_t$ improves. We test this below."
   ]
  },
  {
   "cell_type": "code",
   "execution_count": 8,
   "metadata": {
    "code_folding": [
     0
    ]
   },
   "outputs": [
    {
     "data": {
      "text/plain": [
       "Text(0, 0.5, '$P^*(d_t)$')"
      ]
     },
     "execution_count": 8,
     "metadata": {},
     "output_type": "execute_result"
    },
    {
     "data": {
      "image/png": "[encoded data removed]",
      "text/plain": [
       "<Figure size 432x288 with 1 Axes>"
      ]
     },
     "metadata": {
      "needs_background": "light"
     },
     "output_type": "display_data"
    }
   ],
   "source": [
    "# Increase CRRA to make the effect of uncertainty more evident.\n",
    "CRRA = 10\n",
    "Disc = 0.9\n",
    "shock_sd = 0.1\n",
    "ns = [1,2,10]\n",
    "\n",
    "# \n",
    "dTil = np.exp((shock_sd**2)/2*CRRA*(CRRA-1))\n",
    "fact = dTil*Disc\n",
    "aSolIID = lambda d: d**CRRA * dTil * Disc/(1 - Disc)\n",
    "\n",
    "plt.figure()\n",
    "for n in ns:\n",
    "    iidDivs = DivProcess(alpha = 0.0, shock_mean = -shock_sd**2/2, shock_sd = shock_sd, nApprox = n)\n",
    "    iidEcon = LucasEconomy(CRRA = CRRA, DiscFac = Disc, DivProcess = iidDivs)\n",
    "    iidEcon.solve()\n",
    "    plt.plot(dGrid, iidEcon.EqPfun(dGrid), label = 'Num.Sol. $n^\\#$ = {}'.format(n))\n",
    "\n",
    "# Plot both\n",
    "plt.plot(dGrid, aSolIID(dGrid), '*',label = 'Analytical solution')\n",
    "plt.legend()\n",
    "plt.xlabel('$d_t$')\n",
    "plt.ylabel('$P^*(d_t)$')"
   ]
  }
 ],
 "metadata": {
  "jupytext": {
   "encoding": "# -*- coding: utf-8 -*-",
   "formats": "ipynb,py:percent"
  },
  "kernelspec": {
   "display_name": "Python 3",
   "language": "python",
   "name": "python3"
  },
  "language_info": {
   "codemirror_mode": {
    "name": "ipython",
    "version": 3
   },
   "file_extension": ".py",
   "mimetype": "text/x-python",
   "name": "python",
   "nbconvert_exporter": "python",
   "pygments_lexer": "ipython3",
   "version": "3.7.9"
  },
  "latex_envs": {
   "LaTeX_envs_menu_present": true,
   "autoclose": false,
   "autocomplete": true,
   "bibliofile": "biblio.bib",
   "cite_by": "apalike",
   "current_citInitial": 1,
   "eqLabelWithNumbers": true,
   "eqNumInitial": 1,
   "hotkeys": {
    "equation": "Ctrl-E",
    "itemize": "Ctrl-I"
   },
   "labels_anchors": false,
   "latex_user_defs": false,
   "report_style_numbering": false,
   "user_envs_cfg": false
  }
 },
 "nbformat": 4,
 "nbformat_minor": 4
}

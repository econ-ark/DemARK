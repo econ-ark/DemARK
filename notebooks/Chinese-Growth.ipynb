{
 "cells": [
  {
   "cell_type": "markdown",
   "metadata": {},
   "source": [
    "# Do Precautionary Motives Explain China's High Saving Rate?\n",
    "\n",
    "[![badge](https://img.shields.io/badge/Launch%20using%20-Econ--ARK-blue)](https://econ-ark.org/materials/chinese-growth#launch)\n",
    "\n",
    "The notebook [Nondurables-During-Great-Recession](http://econ-ark.org/notebooks/) shows that the collapse in consumer spending in the U.S. during the Great Recession could easily have been caused by a moderate and plausible increase in the degree of uncertainty.\n",
    "\n",
    "But that exercise might make you worry that invoking difficult-to-measure \"uncertainty\" can explain anything (e.g. \"the stock market fell today because the risk aversion of the representative agent increased\").\n",
    "\n",
    "The next exercise is designed to show that there are limits to the phenomena that can be explained by invoking plausible changes in uncertainty.\n",
    "\n",
    "The specific question is whether a high degree of uncertainty can explain China's very high saving rate (approximately 25 percent), as some papers have proposed.  Specifically, we ask \"what beliefs about uncertainty would Chinese consumers need to hold in order to generate a saving rate of 25 percent, given the rapid pace of Chinese growth?\"\n",
    "\n",
    "### The Thought Experiment\n",
    "\n",
    "In more detail, our consumers will initially live in a stationary, low-growth environment (intended to approximate China before 1978).  Then, unexpectedly, income growth will surge at the same time that income uncertainty increases (intended to approximate the effect of economic reforms in China since 1978.)  Consumers believe the high-growth, high-uncertainty state is highly persistent, but that ultimately growth will slow to a \"normal\" pace matching that of other advanced countries.\n"
   ]
  },
  {
   "cell_type": "markdown",
   "metadata": {},
   "source": [
    "### The Baseline Model\n",
    "\n",
    "We want the model to have these elements:\n",
    "1. \"Standard\" infinite horizon consumption/savings model, with mortality and permanent and temporary shocks to income\n",
    "0. The capacity to provide a reasonable match to the distribution of wealth inequality in advanced economies\n",
    "0. Ex-ante heterogeneity in consumers' discount factors (to capture wealth inequality)\n",
    "\n",
    "All of these are features of the model in the paper [\"The Distribution of Wealth and the Marginal Propensity to Consume\" by Carroll, Slacalek, Tokuoka, and White (2017)](http://www.econ2.jhu.edu/people/ccarroll/papers/cstwMPC), for which all of the computational results were produced using the HARK toolkit.  The results for that paper are available in the $\\texttt{cstwMPC}$ directory.\n",
    "\n",
    "### But With A Different ConsumerType\n",
    "\n",
    "One feature that was not present in that model is important here:\n",
    "- A Markov state that represents the state of the Chinese economy (to be detailed later)\n",
    "\n",
    "HARK's $\\texttt{MarkovConsumerType}$ is the right tool for this experiment.  So we need to prepare the parameters to create that ConsumerType, and then create it."
   ]
  },
  {
   "cell_type": "code",
   "execution_count": 1,
   "metadata": {},
   "outputs": [],
   "source": [
    "# Initial imports and notebook setup, click arrow to show\n",
    "import matplotlib.pyplot as plt\n",
    "import numpy as np\n",
    "from copy import deepcopy\n",
    "from tqdm import tqdm"
   ]
  },
  {
   "cell_type": "code",
   "execution_count": 10,
   "metadata": {},
   "outputs": [],
   "source": [
    "# Initialize the cstwMPC parameters\n",
    "init_China_parameters = {\n",
    "    \"CRRA\": 1.0,  # Coefficient of relative risk aversion\n",
    "    \"Rfree\": [np.array(2*[1.01 / (1.0 - 1.0 / 160.0)])],  # Interest factor,\n",
    "    \"PermShkStd\": np.array([2*[(0.01 * 4 / 11) ** 0.5]]),  # Standard deviation of permanent shocks to income\n",
    "    \"PermShkCount\": 5,  # Number of points in permanent income shock grid\n",
    "    \"TranShkStd\": np.array([2*[(0.01 * 4) ** 0.5]]),  # Standard deviation of transitory shocks to income,\n",
    "    \"TranShkCount\": 5,  # Number of points in transitory income shock grid\n",
    "    \"UnempPrb\": np.array([[0.07, 0.07]]),  # Probability of unemployment while working\n",
    "    \"IncUnemp\": np.array([[0.15, 0.15]]),  # Unemployment benefit replacement rate\n",
    "    \"LivPrb\": [np.array(2*[1.0 - 1.0 / 160.0])],  # Survival probability\n",
    "    \"DiscFac\": 0.97,  # Default intertemporal discount factor\n",
    "    \"cycles\": 0,\n",
    "    \"T_sim\": 1200,  # Number of periods to simulate (idiosyncratic shocks model, perpetual youth)\n",
    "    \"T_age\": 400,  # Automatically kill and replace anyone who lives \"too long\"\n",
    "    \"IndL\": 10.0 / 9.0,  # Labor supply per individual (constant),\n",
    "    \"kLogInitMean\": np.log(0.00001),\n",
    "    \"kLogInitStd\": 0.0,\n",
    "    \"pLogInitMean\": 0.0,\n",
    "    \"pLogInitStd\": 0.0,\n",
    "    \"AgentCount\": 10000,  # will be overwritten by parameter distributor\n",
    "    \"track_vars\": [\"aNrm\", \"cNrm\", \"pLvl\"]  # Names of variables to be tracked in simulation\n",
    "}"
   ]
  },
  {
   "cell_type": "markdown",
   "metadata": {},
   "source": [
    "### Set Up the Growth Process\n",
    "\n",
    "For a Markov model, we need a Markov transition process.  Here, we create that array. Remember, for this simple example, we just have a low-growth state and a high-growth state. The default constructor for `MrkvArray` is already a two-state process, so we just need to set the probability of *remaining* in the high growth state and the probability of remaining in the stagnant state (once there)."
   ]
  },
  {
   "cell_type": "code",
   "execution_count": 11,
   "metadata": {},
   "outputs": [],
   "source": [
    "StateCount = 2  # number of discrete Markov states\n",
    "ProbGrowthEnds = (1.0 / 160.0) # probability agents assign to the high-growth state ending\n",
    "GrowthFastAnn = 1.06  # Six percent annual growth\n",
    "GrowthSlowAnn = 1.00  # Stagnation\n",
    "\n",
    "Chinese_growth_params = {\n",
    "    \"PermGroFac\": [np.array([GrowthSlowAnn, GrowthFastAnn ** (0.25)])],\n",
    "    \"Mrkv_p11\": [1.0],\n",
    "    \"Mrkv_p22\": [1.0 - ProbGrowthEnds],\n",
    "    \"MrkvPrbsInit\": np.array([0.0, 1.0]),  # everyone starts low growth, see below\n",
    "}\n",
    "init_China_parameters.update(Chinese_growth_params)"
   ]
  },
  {
   "cell_type": "markdown",
   "metadata": {},
   "source": [
    "Other parameters that are not used during initialization can also be assigned here, by changing the appropriate value in the $\\texttt{init\\_China\\_parameters\\_dictionary}$; however, they can also be changed later, by altering the appropriate attribute of the initialized $\\texttt{MarkovConsumerType}$."
   ]
  },
  {
   "cell_type": "markdown",
   "metadata": {},
   "source": [
    "### Import and initialize the Agents\n",
    "\n",
    "Here, we bring in an agent making a consumption/savings decision every period, subject to transitory and permanent income shocks, AND a Markov shock"
   ]
  },
  {
   "cell_type": "code",
   "execution_count": 12,
   "metadata": {},
   "outputs": [],
   "source": [
    "from HARK.ConsumptionSaving.ConsMarkovModel import MarkovConsumerType\n",
    "ChinaExample = MarkovConsumerType(**init_China_parameters)"
   ]
  },
  {
   "cell_type": "markdown",
   "metadata": {},
   "source": [
    "Now, add in ex-ante heterogeneity in consumers' discount factors.\n",
    "\n",
    "The cstwMPC parameters do not define a single discount factor; instead, there is ex-ante heterogeneity in the discount factor.  To prepare to create this ex-ante heterogeneity, first create the desired number of consumer types:\n"
   ]
  },
  {
   "cell_type": "code",
   "execution_count": 13,
   "metadata": {},
   "outputs": [],
   "source": [
    "num_consumer_types = 7  # declare the number of types we want\n",
    "ChineseConsumerTypes = []  # initialize an empty list\n",
    "\n",
    "for nn in range(num_consumer_types):\n",
    "    # Now create the types, and append them to the list ChineseConsumerTypes\n",
    "    newType = deepcopy(ChinaExample)\n",
    "    ChineseConsumerTypes.append(newType)"
   ]
  },
  {
   "cell_type": "markdown",
   "metadata": {},
   "source": [
    "\n",
    "Now, generate the desired ex-ante heterogeneity, by giving the different consumer types each their own discount factor.\n",
    "\n",
    "First, decide the discount factors to assign:"
   ]
  },
  {
   "cell_type": "code",
   "execution_count": 14,
   "metadata": {},
   "outputs": [],
   "source": [
    "from HARK.distributions import Uniform\n",
    "\n",
    "bottomDiscFac = 0.9800\n",
    "topDiscFac = 0.9934\n",
    "DiscFac_list = (\n",
    "    Uniform(bot=bottomDiscFac, top=topDiscFac).discretize(N=num_consumer_types).atoms[0]\n",
    ")\n",
    "\n",
    "# Now, assign the discount factors we want to the ChineseConsumerTypes\n",
    "for j in range(num_consumer_types):\n",
    "    ChineseConsumerTypes[j].DiscFac = DiscFac_list[j]"
   ]
  },
  {
   "cell_type": "markdown",
   "metadata": {},
   "source": [
    "## Setting Up the Experiment\n",
    "\n",
    "The experiment is performed by a function we will now write.\n",
    "\n",
    "Recall that all parameters have been assigned appropriately, except for the income process.\n",
    "\n",
    "This is because we want to see how much uncertainty needs to accompany the high-growth state to generate the desired high savings rate.\n",
    "\n",
    "Therefore, among other things, this function will have to initialize and assign the appropriate income process."
   ]
  },
  {
   "cell_type": "code",
   "execution_count": 20,
   "metadata": {},
   "outputs": [],
   "source": [
    "# First create the income distribution in the low-growth state, which we will not change\n",
    "from HARK.ConsumptionSaving.ConsIndShockModel import IndShockConsumerType, construct_lognormal_income_process_unemployment\n",
    "\n",
    "low_growth_model = IndShockConsumerType()\n",
    "LowGrowthIncomeDstn = low_growth_model.IncShkDstn[0]\n",
    "\n",
    "# Remember the standard deviation of the permanent income shock in the low-growth state for later\n",
    "LowGrowth_PermShkStd = low_growth_model.PermShkStd\n",
    "\n",
    "\n",
    "def calcNatlSavingRate(PrmShkVar_multiplier, RNG_seed=0):\n",
    "    \"\"\"\n",
    "    This function actually performs the experiment we want.\n",
    "\n",
    "    Remember, this experiment is: get consumers into the steady-state associated with the low-growth\n",
    "    regime. Then, give them an unanticipated shock that increases the income growth rate\n",
    "    and permanent income uncertainty at the same time.  What happens to the path for\n",
    "    the national saving rate?  Can an increase in permanent income uncertainty\n",
    "    explain the high Chinese saving rate since economic reforms began?\n",
    "\n",
    "    The inputs are:\n",
    "        * PrmShkVar_multiplier, the number by which we want to multiply the variance\n",
    "          of the permanent shock in the low-growth state to get the variance of the\n",
    "          permanent shock in the high-growth state\n",
    "        * RNG_seed, an integer to seed the random number generator for simulations.  This useful\n",
    "          because we are going to run this function for different values of PrmShkVar_multiplier,\n",
    "          and we may not necessarily want the simulated agents in each run to experience\n",
    "          the same (normalized) shocks.\n",
    "    \"\"\"\n",
    "\n",
    "    # First, make a deepcopy of the ChineseConsumerTypes (each with their own discount factor),\n",
    "    # because we are going to alter them\n",
    "    ChineseConsumerTypesNew = deepcopy(ChineseConsumerTypes)\n",
    "\n",
    "    # Set the uncertainty in the high-growth state to the desired amount, keeping in mind\n",
    "    # that PermShkStd is a list of length 1\n",
    "    PrmShkStd_multiplier = PrmShkVar_multiplier**0.5\n",
    "    low_growth_model.PermShkStd = [LowGrowth_PermShkStd[0] * PrmShkStd_multiplier]\n",
    "\n",
    "    # Construct the appropriate income distributions\n",
    "    low_growth_model.update()\n",
    "    HighGrowthIncomeDstn = low_growth_model.IncShkDstn[0]\n",
    "\n",
    "    # To calculate the national saving rate, we need national income and national consumption\n",
    "    # To get those, we are going to start national income and consumption at 0, and then\n",
    "    # loop through each agent type and see how much they contribute to income and consumption.\n",
    "    NatlIncome = 0.0\n",
    "    NatlCons = 0.0\n",
    "\n",
    "    for ThisType in ChineseConsumerTypesNew:\n",
    "        # For each consumer type (i.e. each discount factor), calculate total income and consumption\n",
    "\n",
    "        # First give each ConsumerType their own random number seed\n",
    "        RNG_seed += 19\n",
    "        ThisType.seed = RNG_seed\n",
    "\n",
    "        # Set the income distribution in each Markov state appropriately\n",
    "        ThisType.IncShkDstn = [[LowGrowthIncomeDstn, HighGrowthIncomeDstn]]\n",
    "\n",
    "        # Solve the problem for this ChineseConsumerTypeNew\n",
    "        ThisType.solve()\n",
    "\n",
    "        \"\"\"\n",
    "        Now we are ready to simulate.\n",
    "        \n",
    "        This case will be a bit different than most, because agents' *perceptions* of the probability\n",
    "        of changes in the Chinese economy will differ from the actual probability of changes.  \n",
    "        Specifically, agents think there is a 0% chance of moving out of the low-growth state, and \n",
    "        that there is a  (1./160) chance of moving out of the high-growth state.  In reality, we \n",
    "        want the Chinese economy to reach the low growth steady state, and then move into the \n",
    "        high growth state with probability 1.  Then we want it to persist in the high growth \n",
    "        state for 40 years. \n",
    "        \"\"\"\n",
    "\n",
    "        # Now, simulate 500 quarters to get to steady state, then 40 years of high growth\n",
    "        ThisType.T_sim = 660\n",
    "\n",
    "        # Ordinarily, the simulate method for a MarkovConsumerType randomly draws Markov states\n",
    "        # according to the transition probabilities in MrkvArray *independently* for each simulated\n",
    "        # agent.  In this case, however, we want the discrete state to be *perfectly coordinated*\n",
    "        # across agents-- it represents a macroeconomic state, not a microeconomic one!  In fact,\n",
    "        # we don't want a random history at all, but rather a specific, predetermined history: 125\n",
    "        # years of low growth, followed by 40 years of high growth.\n",
    "\n",
    "        # To do this, we're going to \"hack\" our consumer type a bit. Because we do not want the\n",
    "        # Markov state to change during this time, we change its MrkvArray to always be in the\n",
    "        # low growth state with probability 1. Then we initialize the simulation and run it for\n",
    "        # 500 quarters.  \n",
    "        ThisType.MrkvArray[0] = np.array(\n",
    "            [[1.0, 0.0], [1.0, 0.0]]\n",
    "        )  # Stay in low growth state\n",
    "        ThisType.initialize_sim()  # Clear the history and make all newborn agents\n",
    "        ThisType.simulate(500)  # Simulate 500 quarters of data\n",
    "\n",
    "        # Now we want the high growth state to occur for the next 160 periods.  We change the initial\n",
    "        # Markov probabilities so that any agents born during this time (to replace an agent who\n",
    "        # died) is born in the high growth state.  Moreover, we change the MrkvArray to *always* be\n",
    "        # in the high growth state with probability 1.  Then we simulate 160 more quarters.\n",
    "        ThisType.MrkvPrbsInit = np.array([0.0, 1.0])\n",
    "        ThisType.MrkvArray[0] = np.array(\n",
    "            [[0.0, 1.0], [0.0, 1.0]]\n",
    "        )  # Stay in high growth state\n",
    "        ThisType.simulate(160)  # Simulate 160 quarters of data\n",
    "\n",
    "        # Now, get the aggregate income and consumption of this ConsumerType over time\n",
    "        A = ThisType.history[\"aNrm\"]\n",
    "        P = ThisType.history[\"pLvl\"]\n",
    "        C = ThisType.history[\"cNrm\"]\n",
    "        r = (ThisType.Rfree[0][0] - 1.0)\n",
    "        IncomeOfThisConsumerType = np.sum((A*P* r) + P, axis=1)\n",
    "        ConsOfThisConsumerType = np.sum(C*P, axis=1)\n",
    "\n",
    "        # Add the income and consumption of this ConsumerType to national income and consumption\n",
    "        NatlIncome += IncomeOfThisConsumerType\n",
    "        NatlCons += ConsOfThisConsumerType\n",
    "\n",
    "    # After looping through all the ConsumerTypes, calculate and return the path of the national\n",
    "    # saving rate\n",
    "    NatlSavingRate = (NatlIncome - NatlCons) / NatlIncome\n",
    "\n",
    "    return NatlSavingRate"
   ]
  },
  {
   "cell_type": "markdown",
   "metadata": {},
   "source": [
    "Now we can use the function we just defined to calculate the path of the national saving rate following the economic reforms, for a given value of the increase to the variance of permanent income accompanying the reforms.  We are going to graph this path for various values for this increase.\n",
    "\n",
    "Remember, we want to see if a plausible value for this increase in uncertainty can explain the high Chinese saving rate."
   ]
  },
  {
   "cell_type": "code",
   "execution_count": 21,
   "metadata": {},
   "outputs": [
    {
     "name": "stderr",
     "output_type": "stream",
     "text": [
      "100%|████████████████████████████████████████████████████████████████████████████████| 5/5 [2:08:23<00:00, 1540.60s/it]\n"
     ]
    }
   ],
   "source": [
    "# Declare the number of periods before the reforms to plot in the graph\n",
    "quarters_before_reform_to_plot = 5\n",
    "\n",
    "# Declare the quarters we want to plot results for\n",
    "quarters_to_plot = np.arange(-quarters_before_reform_to_plot, 160, 1)\n",
    "\n",
    "# Create a list to hold the paths of the national saving rate\n",
    "NatlSavingsRates = []\n",
    "\n",
    "# Create a list of floats to multiply the variance of the permanent shock to income by\n",
    "PermShkVarMultipliers = (1.0, 2.0, 4.0, 8.0, 11.0)\n",
    "\n",
    "# Loop through the desired multipliers, then get the path of the national saving rate\n",
    "# following economic reforms, assuming that the variance of the permanent income shock\n",
    "# was multiplied by the given multiplier\n",
    "index = 0\n",
    "for PermShkVarMultiplier in tqdm(PermShkVarMultipliers):\n",
    "    NatlSavingsRates.append(\n",
    "        calcNatlSavingRate(PermShkVarMultiplier, RNG_seed=index)[\n",
    "            -160 - quarters_before_reform_to_plot :\n",
    "        ]\n",
    "    )\n",
    "    index += 1"
   ]
  },
  {
   "cell_type": "markdown",
   "metadata": {},
   "source": [
    "We've calculated the path of the national saving rate as we wanted. All that's left is to graph the results!"
   ]
  },
  {
   "cell_type": "code",
   "execution_count": 22,
   "metadata": {},
   "outputs": [
    {
     "data": {
      "image/png": "[encoded data removed]",
      "text/plain": [
       "<Figure size 640x480 with 1 Axes>"
      ]
     },
     "metadata": {},
     "output_type": "display_data"
    }
   ],
   "source": [
    "plt.ylabel(\"Natl Saving Rate\")\n",
    "plt.xlabel(\"Quarters Since Economic Reforms\")\n",
    "plt.plot(\n",
    "    quarters_to_plot,\n",
    "    NatlSavingsRates[0],\n",
    "    label=str(PermShkVarMultipliers[0]) + \" x variance\",\n",
    ")\n",
    "plt.plot(\n",
    "    quarters_to_plot,\n",
    "    NatlSavingsRates[1],\n",
    "    label=str(PermShkVarMultipliers[1]) + \" x variance\",\n",
    ")\n",
    "plt.plot(\n",
    "    quarters_to_plot,\n",
    "    NatlSavingsRates[2],\n",
    "    label=str(PermShkVarMultipliers[2]) + \" x variance\",\n",
    ")\n",
    "plt.plot(\n",
    "    quarters_to_plot,\n",
    "    NatlSavingsRates[3],\n",
    "    label=str(PermShkVarMultipliers[3]) + \" x variance\",\n",
    ")\n",
    "plt.plot(\n",
    "    quarters_to_plot,\n",
    "    NatlSavingsRates[4],\n",
    "    label=str(PermShkVarMultipliers[4]) + \" x variance\",\n",
    ")\n",
    "plt.legend(\n",
    "    bbox_to_anchor=(0.0, 1.02, 1.0, 0.102),\n",
    "    loc=3,\n",
    "    ncol=2,\n",
    "    mode=\"expand\",\n",
    "    borderaxespad=0.0,\n",
    ")  # put the legend on top\n",
    "plt.show(block=False)"
   ]
  },
  {
   "cell_type": "markdown",
   "metadata": {},
   "source": [
    "The figure shows that, if the rate of growth increases the way Chinese growth did, but is not accompanied by any change in the degree of uncertainty, the model's predicted saving rate declines drastically, from an initial (calibrated) value of about 0.1 (ten percent) to close to zero.  For this model to have any hope of predicting an increase in the saving rate, it is clear that the increase in uncertainty that accompanies the increase in growth will have to be substantial.\n",
    "\n",
    "The red line shows that a mere doubling of uncertainty from its baseline value is not enough: The steady state saving rate is still below its slow-growth value.\n",
    "\n",
    "When we assume that the degree of uncertainty quadruples, the model does finally predict that the new steady-state saving rate will be higher than before, but not much higher, and not remotely approaching 25 percent.\n",
    "\n",
    "Only when the degree of uncertainty increases by a factor of 8 is the model capable of producing a new equilbrium saving rate in the ballpark of the Chinese value.\n",
    "\n",
    "But this is getting close to a point where the model starts to break down (for both numerical and conceptual reasons), as shown by the erratic path of the saving rate when we multiply the initial variance by 11.\n",
    "\n",
    "We do not have historical data on the magnitude of permanent income shocks in China in the pre-1978 period; it would be remarkable if the degree of uncertainty increased by such a large amount, but in the absence of good data it is hard to know for sure.\n",
    "\n",
    "What the experiment does demonstrate, though, is that it is _not_ the case that \"it is easy to explain anything by invoking some plausible but unmeasurable change in uncertainty.\"  Substantial differences in the degree of permanent (or highly persistent) income uncertainty across countries, across periods, and across people have been measured in the literature, and those differences could in principle be compared to differences in saving rates to get a firmer fix on the quantitative importance of the \"precautionary saving\" explanation in the Chinese context."
   ]
  }
 ],
 "metadata": {
  "jupytext": {
   "cell_metadata_json": true,
   "formats": "ipynb,py:percent",
   "notebook_metadata_filter": "all"
  },
  "kernelspec": {
   "display_name": "Python 3 (ipykernel)",
   "language": "python",
   "name": "python3"
  },
  "language_info": {
   "codemirror_mode": {
    "name": "ipython",
    "version": 3
   },
   "file_extension": ".py",
   "mimetype": "text/x-python",
   "name": "python",
   "nbconvert_exporter": "python",
   "pygments_lexer": "ipython3",
   "version": "3.12.9"
  },
  "latex_envs": {
   "LaTeX_envs_menu_present": true,
   "autoclose": false,
   "autocomplete": true,
   "bibliofile": "biblio.bib",
   "cite_by": "apalike",
   "current_citInitial": 1,
   "eqLabelWithNumbers": true,
   "eqNumInitial": 1,
   "hotkeys": {
    "equation": "Ctrl-E",
    "itemize": "Ctrl-I"
   },
   "labels_anchors": false,
   "latex_user_defs": false,
   "report_style_numbering": false,
   "user_envs_cfg": false
  },
  "toc": {
   "base_numbering": 1,
   "nav_menu": {},
   "number_sections": true,
   "sideBar": true,
   "skip_h1_title": false,
   "title_cell": "Table of Contents",
   "title_sidebar": "Contents",
   "toc_cell": false,
   "toc_position": {},
   "toc_section_display": true,
   "toc_window_display": false
  }
 },
 "nbformat": 4,
 "nbformat_minor": 4
}

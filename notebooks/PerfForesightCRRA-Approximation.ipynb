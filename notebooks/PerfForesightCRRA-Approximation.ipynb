{
 "cells": [
  {
   "cell_type": "markdown",
   "metadata": {},
   "source": [
    "# Perfect Foresight CRRA Model - Approximation\n",
    "\n",
    "[![badge](https://img.shields.io/badge/Launch%20using%20-Econ--ARK-blue)](https://econ-ark.org/materials/perfforesightcrra-approximation#launch)\n"
   ]
  },
  {
   "cell_type": "code",
   "execution_count": null,
   "metadata": {},
   "outputs": [],
   "source": [
    "# Initial notebook set up\n",
    "%matplotlib inline\n",
    "from HARK.ConsumptionSaving.ConsIndShockModel import (\n",
    "    PerfForesightConsumerType,\n",
    "    init_perfect_foresight,\n",
    ")  # Import the consumer type\n",
    "import matplotlib.pyplot as plt\n",
    "\n",
    "import numpy as np\n",
    "from copy import deepcopy\n",
    "\n",
    "\n",
    "def mystr(number):\n",
    "    return \"{:.4f}\".format(number)\n",
    "\n",
    "\n",
    "# These last two will make our charts look nice\n",
    "plt.style.use(\"seaborn-darkgrid\")\n",
    "palette = plt.get_cmap(\"Dark2\")"
   ]
  },
  {
   "cell_type": "markdown",
   "metadata": {},
   "source": [
    "[PerfectForesightCRRA](http://www.econ2.jhu.edu/people/ccarroll/public/lecturenotes/Consumption/PerfForesightCRRA) derives a number of results as approximations; for instance, the exact formula for the consumption function is derived as $$c_t = \\left(\\frac{R - (R\\beta)^{1/\\rho}}{R}\\right)o_t$$\n",
    "and approximated by $$c_t \\approx (r-\\rho^{-1}(r-\\theta))o_t$$.\n",
    "\n",
    "Your task is to make a series of plots that show how the quality of the approximation deteriorates as you change various model parameters. The notebook aims to make this easier by showing that under the baseline parameter values, the percentage amount of the error is pretty much constant across different values of market resources, so you can assume that is generically true.\n",
    "\n",
    "To get you started, we show how to conduct the exercise under particularly simple parameterization (the Deaton/Friedman model where $R = \\frac{1}{\\beta}$, in which the only relevant parameter is the interest rate).\n",
    "\n",
    "Your specific assignment is:\n",
    "\n",
    "1. Starting with the default parameterization of the model, show how the approximation quality changes with values of other parameters\n",
    "1. Explain, mathematically, why you get the patterns you do for how the solutions deteriorate as you change the parameter values\n",
    "\n",
    "Hints:\n",
    "\n",
    "1. [MathFactsList](http://www.econ2.jhu.edu/people/ccarroll/public/lecturenotes/MathFacts/MathFactsList.pdf) describes the conditions under which the approximations will be good; you want to find conditions under which the approximations get bad\n",
    "2. An interesting question is the extent to which the size of approximation errors is related to the degree of impatience according to alternative metrics"
   ]
  },
  {
   "cell_type": "code",
   "execution_count": null,
   "metadata": {},
   "outputs": [],
   "source": [
    "# Set up a HARK Perfect Foresight Consumer called PFagent\n",
    "\n",
    "\n",
    "# Now we need to give our consumer parameter values that allow us to solve the consumer's problem\n",
    "\n",
    "# Invoke it to create a dictionary called Paramod (Params that we will modify)\n",
    "# deepcopy prevents later overwriting\n",
    "Paramod = deepcopy(init_perfect_foresight)\n",
    "\n",
    "# Extract the parameters from the dictionary to make them easy to reference\n",
    "CRRA = Paramod[\"CRRA\"]  # Coefficient of relative risk aversion\n",
    "Rfree = Paramod[\"Rfree\"]  # Interest factor on assets\n",
    "DiscFac = Paramod[\"DiscFac\"]  # Intertemporal discount factor\n",
    "PermGroFac = Paramod[\"PermGroFac\"]  # Permanent income growth factor\n",
    "LivPrb = Paramod[\"LivPrb\"] = [1.0]  # Survival probability of 100 percent\n",
    "# This says that it is an infinite horizon model\n",
    "cycles = Paramod[\"cycles\"] = 0"
   ]
  },
  {
   "cell_type": "code",
   "execution_count": null,
   "metadata": {},
   "outputs": [],
   "source": [
    "# Now let's pass our dictionary to our consumer class to create an instance\n",
    "PFagent = PerfForesightConsumerType(\n",
    "    **Paramod\n",
    ")  # Any parameters we did not modify get their default values\n",
    "\n",
    "# Solve the agent's problem\n",
    "PFagent.solve()"
   ]
  },
  {
   "cell_type": "code",
   "execution_count": null,
   "metadata": {},
   "outputs": [],
   "source": [
    "# Plot the consumption function approximation versus the \"true\" consumption function\n",
    "\n",
    "# Set out some range of market resources that we want to plot consumption for\n",
    "mMin = 0\n",
    "mMax = 10\n",
    "numPoints = 100\n",
    "m_range = np.linspace(\n",
    "    mMin, mMax, numPoints\n",
    ")  # This creates an array of points in the given range\n",
    "\n",
    "wealthHmn = PFagent.solution[\n",
    "    0\n",
    "].hNrm  # normalized human wealth is constructed when we .solve()\n",
    "wealthMkt = m_range  # bank balances plus current income\n",
    "wealthTot = wealthHmn + wealthMkt  # Total wealth is the sum of human and market\n",
    "\n",
    "# Feed our range of market resources into our consumption function in order to get consumption at each point\n",
    "# (Remember, after doing .solve(), the consumption function is stored as PFagent.solution[0].cFunc)\n",
    "cHARK = PFagent.solution[0].cFunc(\n",
    "    m_range\n",
    ")  # Because the input m_range is an array, the output cHARK is too\n",
    "cMax = (\n",
    "    cHARK[-1] * 1.2\n",
    ")  # The last point will be the largest; add 20 percent for visual appeal\n",
    "\n",
    "# Use matplotlib package (imported in first cell) to plot the consumption function\n",
    "plt.figure(figsize=(9, 6))  # set the figure size\n",
    "plt.plot(\n",
    "    m_range, cHARK, \"b\", label=\"Consumption Function from HARK\"\n",
    ")  # m on the x axis vs c on the y axis\n",
    "# 'b' is for blue\n",
    "plt.xlabel(\"Market resources m\")  # x axis label\n",
    "plt.ylabel(\"Consumption c\")  # y axis label\n",
    "plt.ylim(0, cMax)\n",
    "\n",
    "# The plot is named plt and it hangs around like a variable\n",
    "# but is not displayed until you do a plt.show()\n",
    "\n",
    "# Construct the approximate consumption function\n",
    "# Also, recall that in the \"true\" consumption function what matters is total wealth,\n",
    "# not just market resources so we need to add in human wealth\n",
    "\n",
    "# Use the values of R, beta, and rho that we used above to construct rates\n",
    "rfree = Rfree - 1\n",
    "discRte = (\n",
    "    1 / DiscFac\n",
    ") - 1  # See handout for why this is approximately the time preference rate\n",
    "cApprox = wealthTot * (rfree - (1 / CRRA) * (rfree - discRte))\n",
    "plt.plot(\n",
    "    m_range, cApprox, \"k\", label=\"c function approximated\"\n",
    ")  # Add true consumption function line\n",
    "plt.legend()  # show the legend\n",
    "\n",
    "plt.show()  # show the plot"
   ]
  },
  {
   "cell_type": "markdown",
   "metadata": {},
   "source": [
    "The size of the error looks pretty stable, which we can show by calculating it in percentage terms"
   ]
  },
  {
   "cell_type": "code",
   "execution_count": null,
   "metadata": {},
   "outputs": [],
   "source": [
    "# Plot the deviations\n",
    "approximationError = 100 * (cHARK - cApprox) / cHARK\n",
    "plt.figure(figsize=(9, 6))  # set the figure size\n",
    "plt.plot(m_range, approximationError, label=\"cHARK - cApprox\")\n",
    "plt.xlabel(\"Market resources\")  # x axis label\n",
    "plt.ylabel(\"Percent deviation of approximation\")  # y axis label\n",
    "plt.legend()\n",
    "plt.show()"
   ]
  },
  {
   "cell_type": "markdown",
   "metadata": {},
   "source": [
    "Now we want to calculate how the approximation quality depends on the interest factor.  We proceed as follows:\n",
    "1. Create arrays of R values, such that the return patience factor is increasing as you descend through the array\n",
    "2. Set up a for loop in which we will:\n",
    "    1. Input the new value of $R$\n",
    "    0. Solve the HARK model for the consumption function\n",
    "    0. Calculate the approximate consumption function\n",
    "    0. Save the average deviation between the two functions\n",
    "3. Then we can plot average deviation against the $R$ factor"
   ]
  },
  {
   "cell_type": "code",
   "execution_count": null,
   "metadata": {},
   "outputs": [],
   "source": [
    "# Create array of Rfree values, and calculate the patience factor\n",
    "howMany = 30\n",
    "Rfree_min = Rfree\n",
    "Rfree_max = Rfree**20\n",
    "Rfree_array = np.linspace(Rfree_min, Rfree_max, howMany)\n",
    "\n",
    "Pat_array = (Rfree_array * DiscFac) ** (1 / CRRA)\n",
    "PatR_array = Pat_array / Rfree_array"
   ]
  },
  {
   "cell_type": "code",
   "execution_count": null,
   "metadata": {},
   "outputs": [],
   "source": [
    "# Set the time preference factor to match the interest factor so that $(R \\beta) = 1$\n",
    "\n",
    "Paramod[\"DiscFac\"] = 1 / Rfree"
   ]
  },
  {
   "cell_type": "code",
   "execution_count": null,
   "metadata": {},
   "outputs": [],
   "source": [
    "# Plot average deviation from true consumption function\n",
    "PFagent = PerfForesightConsumerType(\n",
    "    **Paramod\n",
    ")  # construct a consumer with our previous parameters\n",
    "\n",
    "plt.figure(figsize=(9, 6))  # set the figure size\n",
    "mean_dev = np.zeros(30)\n",
    "\n",
    "for i in range(len(Rfree_array)):\n",
    "    PFagent.Rfree = Rfree_array[i]\n",
    "\n",
    "    # Now we just copy the lines of code from above that we want\n",
    "    PFagent.solve()\n",
    "    cHARK = PFagent.solution[0].cFunc(m_range)\n",
    "    wealthHmn = PFagent.solution[0].hNrm\n",
    "    wealthTot = wealthHmn + m_range\n",
    "    rfree = Rfree - 1\n",
    "    discRte = (1 / DiscFac) - 1\n",
    "    cApprox = wealthTot * (rfree - (1 / CRRA) * (rfree - discRte))\n",
    "    deviation = np.mean(np.abs(cApprox / cHARK))\n",
    "    mean_dev[i] = deviation\n",
    "\n",
    "plt.plot(Rfree_array, mean_dev)\n",
    "plt.xlabel(\"Return Factor\")  # x axis label\n",
    "plt.ylabel(\" Average deviation along consumption function\")  # y axis label\n",
    "plt.show()"
   ]
  },
  {
   "cell_type": "markdown",
   "metadata": {},
   "source": [
    "So, when the return factor gets to roughly 1.4, the error in the approximation is almost 80 percent.  It looks like the value for $R$ where the approximation almost exactly matches the truth is about 1.035."
   ]
  }
 ],
 "metadata": {
  "jupytext": {
   "cell_metadata_json": true,
   "formats": "py:percent,ipynb",
   "notebook_metadata_filter": "all"
  },
  "kernelspec": {
   "display_name": "Python 3",
   "language": "python",
   "name": "python3"
  },
  "language_info": {
   "codemirror_mode": {
    "name": "ipython",
    "version": 3
   },
   "file_extension": ".py",
   "mimetype": "text/x-python",
   "name": "python",
   "nbconvert_exporter": "python",
   "pygments_lexer": "ipython3"
  }
 },
 "nbformat": 4,
 "nbformat_minor": 4
}

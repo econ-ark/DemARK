{
 "cells": [
  {
   "cell_type": "code",
   "execution_count": null,
   "metadata": {
    "collapsed": false
   },
   "outputs": [],
   "source": [
    "# Initial imports and notebook setup\n",
    "%matplotlib inline\n",
    "import matplotlib.pyplot as plt\n",
    "\n",
    "import sys\n",
    "import os\n",
    "from copy import copy\n",
    "\n",
    "from Demos.ConsumptionSaving.ConsGenIncProcessModel import *\n",
    "import Demos.ConsumptionSaving.ConsumerParameters as Params\n",
    "\n",
    "from HARK.utilities import plotFuncs"
   ]
  },
  {
   "cell_type": "markdown",
   "metadata": {},
   "source": [
    "Classes to solve consumption-saving models with idiosyncratic shocks to income in which shocks are not necessarily fully transitory or fully permanent. This model extends $\\texttt{ConsIndShockModel}$ by tracking persistent income $p_t$ as a state variable.\n",
    "\n",
    "However, unlike in $\\texttt{ConsIndShockModel}$, consumers do not necessarily have expected persistent income growth that is constant with respect to their current persistent income level. Instead, this model allows a generic function $\\gimel$ to translate current persistent income into expected persistent income next period (subject to shocks). \n",
    "\n",
    "\n",
    "\n",
    "### Mathematical representation of GenIncProcess model:\n",
    "\n",
    "The agent's problem can be written in Bellman form as:\n",
    "\n",
    "\\begin{eqnarray*}\n",
    "v_t(M_t,p_t) &=& \\max_{c_t} U(c_t) + \\beta (1-\\mathsf{D}_{t+1}) \\mathbb{E} [v_{t+1}(M_{t+1}, p_{t+1}) ], \\\\\n",
    "a_t &=& M_t - c_t, \\\\\n",
    "a_t &\\geq& \\underline{a}, \\\\\n",
    "M_{t+1} &=& R a_t + \\theta_{t+1}, \\\\\n",
    "p_{t+1} &=& \\gimel_{t+1}(p_t)\\psi_{t+1}, \\\\\n",
    "\\psi_t \\sim F_{\\psi t} &\\qquad&  \\theta_t \\sim F_{\\theta t}, \\mathbb{E} [F_{\\psi t}] = 1, \\\\\n",
    "U(c) &=& \\frac{c^{1-\\rho}}{1-\\rho}.\n",
    "\\end{eqnarray*}"
   ]
  },
  {
   "cell_type": "markdown",
   "metadata": {},
   "source": [
    "The one period problem for this model is solved by the function $\\texttt{solveConsGenIncProcess}$, which creates an instance of the class $\\texttt{ConsGenIncProcessSolver}$. The class $\\texttt{GenIncProcessConsumerType}$ extends $\\texttt{IndShockConsumerType}$ to represents agents in this model. To construct an instance of this class, several  additional parameters must be passed to the constructor as shown in the table below (parameters can be either \"primitive\" or \"constructed\" if they have already built-in capabilities from previous codes).\n",
    "\n",
    "| Param | Description | Code | Value | Constructed |\n",
    "| :---: | --- | --- | --- | :---: |\n",
    "| $\\beta$ |Intertemporal discount factor  | $\\texttt{DiscFac}$ | 0.96 | |\n",
    "| $\\rho $ |Coefficient of relative risk aversion | $\\texttt{CRRA}$ | 2.0 | |\n",
    "| $R $ | Risk free interest factor | $\\texttt{Rfree}$ | 1.03 | |\n",
    "| $1 - \\mathsf{D}$ |Survival probability | $\\texttt{LivPrb}$ | [list] | |\n",
    "| $\\underline{a} $ |Artificial borrowing constraint | $\\texttt{BoroCnstArt}$ | 0.0 | | \n",
    "| $(none) $ |Indicator of whether $\\texttt{vFunc}$ should be computed | $\\texttt{vFuncBool}$ | 'True' | |\n",
    "| $(none)$ |Indicator of whether $\\texttt{cFunc}$ should use cubic lines | $\\texttt{CubicBool}$ | 'False' |  |\n",
    "| :---: | --- | --- | --- | :---: |\n",
    "|$F $ |A list containing three arrays of floats, representing a discrete <br> approximation to the income process: <br>event probabilities, persistent shocks, transitory shocks | $\\texttt{IncomeDstn}$ | - |$\\surd$ |\n",
    "| $\\gimel$ |Expected persistent income next period | $\\texttt{pLvlNextFunc}$ | - | $\\surd$ |\n",
    "| $ (none) $ | Array of \"extra\" end-of-period asset values | $\\texttt{aXtraGrid}$ | - |$\\surd$ |\n",
    "| $ (none) $ |Array of time-varying persistent income levels | $\\texttt{pLvlGrid}$ | - |$\\surd$ |"
   ]
  },
  {
   "cell_type": "markdown",
   "metadata": {},
   "source": [
    "To specify the income shock distribution in this model, we use some constructed inputs which are built from the expected attributes and have some parametric assumptions as shown in the table below.\n",
    "\n",
    "*For each constructed input, below is a table listing the expected attribute to construct it and what parametric assumptions is used.*\n",
    "\n",
    "| Constructed Input | Expected Attribute | Assumption | \n",
    "| :---: | --- | :---: |\n",
    "|IncomeDstn| $\\texttt{PermIncCount}$: Number of permanent income gridpoints in \"body\" <br> $\\texttt{PermInc_tail_N}$: Number of permanent income gridpoints in each \"tail\"| PermIncCount =12 <br> PermInc_tail_N = 4 |\n",
    "|pLvlNextFunc|$\\texttt{pLvlInitMean}$: Mean of log initial *permanent* income <br> $\\texttt{pLvlInitStd}$: Standard deviation of log initial permanent income|pLvlInitMean = 0.0 <br> pLvlInitStd  = 0.0 |\n",
    "|pLvlGrid|$\\texttt{pLvlPctiles}$: Percentiles of the distribution of persistent income <br> $\\texttt{pLvl}$ in each period|Log normal distribution|\n",
    "|aXtraGrid|$\\texttt{aNrmInitMean}$: Mean of log initial assets <br> $\\texttt{aNrmInitStd}$: Standard deviation of log initial assets |aNrmInitMean = 0.0  <br> aNrmInitStd  = 1.0 |\n"
   ]
  },
  {
   "cell_type": "markdown",
   "metadata": {},
   "source": [
    "### Consumer with explicit Permanent income\n",
    "\n",
    "Let's make a generic example of an **\"explicit permanent income\"** consumer with idiosyncratic shocks and create a specific parameter dictionary.\n",
    "\n",
    "This agent type is identical to an $\\texttt{IndShockConsumerType}$ but for explicitly tracking $\\texttt{pLvl}$ as a state variable during solution."
   ]
  },
  {
   "cell_type": "code",
   "execution_count": null,
   "metadata": {
    "collapsed": false
   },
   "outputs": [],
   "source": [
    "GenIncDictionary = { \n",
    "    \"CRRA\": 2.0,                           # Coefficient of relative risk aversion\n",
    "    \"Rfree\": 1.03,                         # Interest factor on assets\n",
    "    \"DiscFac\": 0.96,                       # Intertemporal discount factor\n",
    "    \"LivPrb\" : [0.98],                     # Survival probability\n",
    "    \"PermGroFac\" : [1.0],                  # Permanent income growth factor - long run permanent income growth doesn't work yet\n",
    "    \"AgentCount\" : 10000,                  # Number of agents of this type (only matters for simulation)\n",
    "    \"aNrmInitMean\" : 0.0,                  # Mean of log initial assets (only matters for simulation)\n",
    "    \"aNrmInitStd\"  : 1.0,                  # Standard deviation of log initial assets (only for simulation)\n",
    "    \"pLvlInitMean\" : 0.0,                  # Mean of log initial permanent income (only matters for simulation)\n",
    "    \"pLvlInitStd\"  : 0.0,                  # Standard deviation of log initial permanent income (only matters for simulation)\n",
    "    \"PermGroFacAgg\" : 1.0,                 # Aggregate permanent income growth factor (only matters for simulation)\n",
    "    \"T_age\" : None,                        # Age after which simulated agents are automatically killed\n",
    "    \"T_cycle\" : 1,                         # Number of periods in the cycle for this agent type\n",
    "# Parameters for constructing the \"assets above minimum\" grid\n",
    "    \"aXtraMin\" : 0.001,                    # Minimum end-of-period \"assets above minimum\" value\n",
    "    \"aXtraMax\" : 30,                       # Maximum end-of-period \"assets above minimum\" value               \n",
    "    \"aXtraExtra\" : [0.005,0.01],           # Some other value of \"assets above minimum\" to add to the grid\n",
    "    \"aXtraNestFac\" : 3,                    # Exponential nesting factor when constructing \"assets above minimum\" grid\n",
    "    \"aXtraCount\" : 48,                     # Number of points in the grid of \"assets above minimum\"\n",
    "# Parameters describing the income process\n",
    "    \"PermShkCount\" : 7,                    # Number of points in discrete approximation to permanent income shocks\n",
    "    \"TranShkCount\" : 7,                    # Number of points in discrete approximation to transitory income shocks\n",
    "    \"PermShkStd\" : [0.1],                  # Standard deviation of log permanent income shocks\n",
    "    \"TranShkStd\" : [0.1],                  # Standard deviation of log transitory income shocks\n",
    "    \"UnempPrb\" : 0.05,                     # Probability of unemployment while working\n",
    "    \"UnempPrbRet\" : 0.005,                 # Probability of \"unemployment\" while retired\n",
    "    \"IncUnemp\" : 0.3,                      # Unemployment benefits replacement rate\n",
    "    \"IncUnempRet\" : 0.0,                   # \"Unemployment\" benefits when retired\n",
    "    \"tax_rate\" : 0.0,                      # Flat income tax rate\n",
    "    \"T_retire\" : 0,                        # Period of retirement (0 --> no retirement)\n",
    "    \"BoroCnstArt\" : 0.0,                  # Artificial borrowing constraint; imposed minimum level of end-of period assets\n",
    "    \"CubicBool\" : False,                  # Use cubic spline interpolation when True, linear interpolation when False\n",
    "    \"vFuncBool\" : True,                   # Whether to calculate the value function during solution    \n",
    "# More parameters specific to \"Explicit Permanent income\" shock model\n",
    "    \"cycles\": 0,\n",
    "    \"PermIncCount\" : 12,                    # Number of permanent income gridpoints in \"body\"\n",
    "    \"PermInc_tail_N\" : 4,                   # Number of permanent income gridpoints in each \"tail\"  \n",
    "}"
   ]
  },
  {
   "cell_type": "markdown",
   "metadata": {},
   "source": [
    "Let's now create an instance of the type of consumer we are interested in and solve this agent's problem with an infinite horizon (cycles=0)."
   ]
  },
  {
   "cell_type": "code",
   "execution_count": null,
   "metadata": {
    "collapsed": false
   },
   "outputs": [],
   "source": [
    "print('The infinite horizon examples presented here use a grid of persistent income levels (pLvlGrid)')\n",
    "print('based on percentiles of the long run distribution of pLvl for the given parameters. These percentiles')\n",
    "print('are specified in the attribute pLvlPctiles. Here, the lowest percentile is ' + str(GenIncDictionary['pLvlPctiles'][0]*100) + ' and the highest')\n",
    "print('percentile is ' + str(GenIncDictionary['pLvlPctiles'][-1]*100) + '.\\n')\n",
    "\n",
    "ExplicitExample = IndShockExplicitPermIncConsumerType(**GenIncDictionary)\n",
    "ExplicitExample.solve()"
   ]
  },
  {
   "cell_type": "markdown",
   "metadata": {},
   "source": [
    "In the cell below, we generate a plot of the consumption function at different permanent income levels."
   ]
  },
  {
   "cell_type": "code",
   "execution_count": null,
   "metadata": {
    "collapsed": true
   },
   "outputs": [],
   "source": [
    "print('Consumption function by pLvl for explicit permanent income consumer:')\n",
    "pLvlGrid = ExplicitExample.pLvlGrid[0]\n",
    "mLvlGrid = np.linspace(0,20,300)\n",
    "for p in pLvlGrid:\n",
    "    M_temp = mLvlGrid + ExplicitExample.solution[0].mLvlMin(p)\n",
    "    C = ExplicitExample.solution[0].cFunc(M_temp,p*np.ones_like(M_temp))\n",
    "    plt.plot(M_temp,C)\n",
    "plt.xlim(0.,20.)\n",
    "plt.xlabel('Market resource level mLvl')\n",
    "plt.ylabel('Consumption level cLvl')\n",
    "plt.show()"
   ]
  },
  {
   "cell_type": "markdown",
   "metadata": {
    "collapsed": true
   },
   "source": [
    "### Permanent income normalized\n",
    "\n",
    "An alternative model is to normalized it by dividing all variables by permanent income $p_t$ and solve the model again."
   ]
  },
  {
   "cell_type": "code",
   "execution_count": null,
   "metadata": {
    "collapsed": true
   },
   "outputs": [],
   "source": [
    "NormalizedExample = IndShockConsumerType(**GenIncDictionary)\n",
    "NormalizedExample.solve()"
   ]
  },
  {
   "cell_type": "code",
   "execution_count": null,
   "metadata": {
    "collapsed": true
   },
   "outputs": [],
   "source": [
    "# Compare the normalized problem with and without explicit permanent income\n",
    "print('Normalized consumption function by pLvl for explicit permanent income consumer:')\n",
    "pLvlGrid = ExplicitExample.pLvlGrid[0]\n",
    "mNrmGrid = np.linspace(0,20,300)\n",
    "for p in pLvlGrid:\n",
    "    M_temp = mNrmGrid*p + ExplicitExample.solution[0].mLvlMin(p)\n",
    "    C = ExplicitExample.solution[0].cFunc(M_temp,p*np.ones_like(M_temp))\n",
    "    plt.plot(M_temp/p,C/p)\n",
    "\n",
    "plt.xlim(0.,20.)\n",
    "plt.xlabel('Normalized market resources mNrm')\n",
    "plt.ylabel('Normalized consumption cNrm')\n",
    "plt.show()\n",
    "\n",
    "print('Consumption function for normalized problem (without explicit permanent income):')\n",
    "mNrmMin = NormalizedExample.solution[0].mNrmMin\n",
    "plotFuncs(NormalizedExample.solution[0].cFunc,mNrmMin,mNrmMin+20.)"
   ]
  },
  {
   "cell_type": "markdown",
   "metadata": {
    "collapsed": true
   },
   "source": [
    "The figures show that the normalized consumption function for the \"explicit permanent income\" consumer is almost identical for every permanent income level (and the same as the normalized problem's $\\texttt{cFunc}$), but is less accurate due to extrapolation outside the bounds of $\\texttt{pLvlGrid}$. \n",
    "\n",
    "The \"explicit permanent income\" solution deviates from the solution to the normalized problem because of errors from extrapolating beyond the bounds of the $\\texttt{pLvlGrid}$. The error is largest for $\\texttt{pLvl}$ values near the upper and lower bounds, and propagates toward the center of the distribution.\n"
   ]
  },
  {
   "cell_type": "code",
   "execution_count": null,
   "metadata": {
    "collapsed": true
   },
   "outputs": [],
   "source": [
    "# Simulate many periods to get to the stationary distribution\n",
    "ExplicitExample.T_sim = 500\n",
    "ExplicitExample.track_vars = ['mLvlNow','cLvlNow','pLvlNow']\n",
    "ExplicitExample.initializeSim()\n",
    "ExplicitExample.simulate()\n",
    "plt.plot(np.mean(ExplicitExample.mLvlNow_hist,axis=1))\n",
    "plt.xlabel('Simulated time period')\n",
    "plt.ylabel('Average market resources mLvl')\n",
    "plt.show()\n"
   ]
  },
  {
   "cell_type": "markdown",
   "metadata": {
    "collapsed": true
   },
   "source": [
    "### Persistent income shock consumer\n",
    "\n",
    "*--> On a separate Notebook ?*\n",
    "\n",
    "Class to solve consumption-saving models with idiosyncratic shocks to income in which shocks are persistent and transitory. This model extends $\\texttt{ConsGenIndShockModel}$ by allowing (log) persistent income to follow an AR(1) process.\n",
    "\n",
    "The agent's problem can be written in Bellman form as:\n",
    "\n",
    "\\begin{eqnarray*}\n",
    "v_t(M_t,p_t) &=& \\max_{c_t} U(c_t) + \\beta (1-\\mathsf{D}_{t+1}) \\mathbb{E} [v_{t+1}(M_{t+1}, p_{t+1}) ], \\\\\n",
    "a_t &=& M_t - c_t, \\\\\n",
    "a_t &\\geq& \\underline{a}, \\\\\n",
    "M_{t+1} &=& R a_t + \\theta_{t+1}, \\\\\n",
    "log(p_{t+1}) &=& \\varphi log(p_t)+(1-\\varphi log( ) +log(\\Gamma_{t+1})+log(\\psi_{t+1}), \\\\\n",
    "\\\\\n",
    "\\psi_t \\sim F_{\\psi t} &\\qquad&  \\theta_t \\sim F_{\\theta t}, \\mathbb{E} [F_{\\psi t}] = 1 \\\\\n",
    "\\end{eqnarray*}\n",
    "\n",
    "| Param | Description | Code | Value | Constructed |\n",
    "| :---: | --- | --- | --- | :---: |\n",
    "||||||\n",
    "||||||\n",
    "\n"
   ]
  },
  {
   "cell_type": "code",
   "execution_count": null,
   "metadata": {
    "collapsed": true
   },
   "outputs": [],
   "source": [
    "# Make a dictionary for the \"persistent idiosyncratic shocks\" model\n",
    "PermIncCorr = 0.98       # Serial correlation coefficient for permanent income\n",
    "\n",
    "persistent_shocks = copy(GenIncDictionary)\n",
    "persistent_shocks['PermIncCorr'] = PermIncCorr\n"
   ]
  },
  {
   "cell_type": "code",
   "execution_count": null,
   "metadata": {
    "collapsed": true
   },
   "outputs": [],
   "source": []
  }
 ],
 "metadata": {
  "kernelspec": {
   "display_name": "Python 2",
   "language": "python",
   "name": "python2"
  },
  "language_info": {
   "codemirror_mode": {
    "name": "ipython",
    "version": 2
   },
   "file_extension": ".py",
   "mimetype": "text/x-python",
   "name": "python",
   "nbconvert_exporter": "python",
   "pygments_lexer": "ipython2",
   "version": "2.7.13"
  }
 },
 "nbformat": 4,
 "nbformat_minor": 2
}

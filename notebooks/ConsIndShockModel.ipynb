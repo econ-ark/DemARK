{
 "cells": [
  {
   "cell_type": "code",
   "execution_count": null,
   "metadata": {
    "code_folding": []
   },
   "outputs": [],
   "source": [
    "# Initial imports and notebook setup, click arrow to show\n",
    "import sys \n",
    "import os\n",
    "\n",
    "from HARK.ConsumptionSaving.ConsIndShockModel import *\n",
    "from HARK.utilities import plotFuncsDer, plotFuncs"
   ]
  },
  {
   "cell_type": "markdown",
   "metadata": {},
   "source": [
    "This module contains models to solve canonical consumption-saving models with idiosyncratic shocks to income.  All models here assume CRRA utility with geometric discounting, no bequest motive, and income shocks are fully transitory or fully permanent.\n",
    "\n",
    "$\\texttt{ConsIndShockModel}$ currently solves three types of models:\n",
    "1. A very basic \"perfect foresight\" consumption-saving model with no uncertainty.\n",
    "2. A consumption-saving model with risk over transitory and permanent income shocks.\n",
    "3. The model described in (2), with an interest rate for debt that differs from the interest rate for savings.\n",
    "\n",
    "See [NARK](https://github.com/econ-ark/NARK) for information on variable naming conventions.\n",
    "See [HARK documentation](https://github.com/econ-ark/HARK/Documentation) for brief mathematical descriptions of the models being solved.  Detailed mathematical references are referenced _in situ_ below."
   ]
  },
  {
   "cell_type": "markdown",
   "metadata": {},
   "source": [
    "## Perfect Foresight Consumer\n",
    "\n",
    "This model represents a consumer who has no uncertainty other than mortality. His problem is defined by a coefficient of relative risk aversion, an intertemporal discount factor, interest factor, and time sequences of the permanent income growth rate and survival probability.\n",
    "\n",
    "The solution of this model is described in details here [PerfForesightCRRA](http://econ.jhu.edu/people/ccarroll/public/lecturenotes/consumption/PerfForesightCRRA)\n",
    "\n",
    "\n",
    "The agent's problem can be written in Bellman form as:\n",
    "\n",
    "\\begin{eqnarray*}\n",
    "V_t(M_t) &=& \\max_{C_t} U(C_t) + \\beta (1-\\mathsf{D}_{t+1}) \\mathbb{E} [V_{t+1}(M_{t+1}) ], \\\\\n",
    "A_t &=& M_t - C_t, \\\\\n",
    "M_{t+1} &=& R A_t + Y_{t+1}, \\\\\n",
    "Y_{t+1} &=& \\Gamma_{t+1}Y_{t+1}, \\\\\n",
    "U(C) &=& \\frac{C^{1-\\rho}}{1-\\rho}.\n",
    "\\end{eqnarray*}"
   ]
  },
  {
   "cell_type": "markdown",
   "metadata": {},
   "source": [
    "The one period problem for this model is solved by the function $\\texttt{solveConsPerfForesight}$, which creates an instance of the class $\\texttt{ConsPerfForesightSolver}$. The class $\\texttt{PerfForesightConsumerType}$ extends $\\texttt{AgentType}$ to represents agents in this model. To construct an instance of this class, several parameters must be passed to the constructor as shown in the table below. \n",
    "\n",
    "Parameters can be either \"primitive\" if they are directly specified by the user or \"constructed\" if they are built by a class method using simple parameters specified by the user. "
   ]
  },
  {
   "cell_type": "markdown",
   "metadata": {},
   "source": [
    "### Example parameter values to solve an instance of PerfForesightConsumerType\n",
    "\n",
    "| Param | Description | Code | Value | Constructed |\n",
    "| :---: | --- | --- | --- | :---: |\n",
    "| $\\beta$ |Intertemporal discount factor  | $\\texttt{DiscFac}$ | 0.96 | |\n",
    "| $\\rho $ |Coefficient of relative risk aversion | $\\texttt{CRRA}$ | 2.0 | |\n",
    "| $R $ | Risk free interest factor | $\\texttt{Rfree}$ | 1.03 | |\n",
    "| $1 - \\mathsf{D}$ |Survival probability | $\\texttt{LivPrb}$ | [0.98] | |\n",
    "|$\\Gamma$|Permanent income growth factor|$\\texttt{PermGroFac}$|[1.01]||\n",
    "|(none)|Number of agents of this type|$\\texttt{AgentCount}$|10000|||"
   ]
  },
  {
   "cell_type": "code",
   "execution_count": null,
   "metadata": {
    "code_folding": [
     1
    ]
   },
   "outputs": [],
   "source": [
    "# This cell defines a dictionary to make an instance of a \"perfect foresight\" consumer.\n",
    "PerfForesightDict={\n",
    "    \"CRRA\": 2.0,                           # Coefficient of relative risk aversion\n",
    "    \"Rfree\": 1.03,                         # Interest factor on assets\n",
    "    \"DiscFac\": 0.96,                       # Default intertemporal discount factor\n",
    "    \"LivPrb\" : [0.98],                     # Survival probability\n",
    "    \"AgentCount\" : 10000,                  # Number of agents of this type (only matters for simulation)\n",
    "    \"PermGroFac\" :[1.01],                  # Permanent income growth factor   \n",
    "\n",
    "    # Parameters for constructing the \"assets above minimum\" grid\n",
    "    \"aNrmInitMean\" : 0.0,                  # Mean of log initial assets (only matters for simulation)\n",
    "    \"aNrmInitStd\"  : 1.0,                  # Standard deviation of log initial assets (only for simulation)\n",
    "    \"pLvlInitMean\" : 0.0,                  # Mean of log initial permanent income (only matters for simulation)\n",
    "    \"pLvlInitStd\"  : 0.0,                  # Standard deviation of log initial permanent income (only matters for simulation)\n",
    "    \"PermGroFacAgg\" : 1.0,                 # Aggregate permanent income growth factor (only matters for simulation)\n",
    "    \"T_age\" : None,                        # Age after which simulated agents are automatically killed\n",
    "    \"T_cycle\" : 1,                         # Number of periods in the cycle for this agent type\n",
    "}"
   ]
  },
  {
   "cell_type": "code",
   "execution_count": null,
   "metadata": {},
   "outputs": [],
   "source": [
    "# Make and solve an example of a \"perfect foresight\" consumer\n",
    "PFexample = PerfForesightConsumerType(**PerfForesightDict)   \n",
    "PFexample.cycles = 0 # Make this type have an infinite horizon\n",
    "PFexample.solve()"
   ]
  },
  {
   "cell_type": "markdown",
   "metadata": {},
   "source": [
    "After this model has been solved, the consumption functions reside in the attribute $\\texttt{cFunc}$ of each element of $\\texttt{ConsumerType.solution}$.  This method creates a (time varying) attribute $\\texttt{cFunc}$ that contains a list of consumption functions."
   ]
  },
  {
   "cell_type": "code",
   "execution_count": null,
   "metadata": {},
   "outputs": [],
   "source": [
    "# Unpack the consumption functions into their own field for easier access\n",
    "PFexample.unpackcFunc()"
   ]
  },
  {
   "cell_type": "code",
   "execution_count": null,
   "metadata": {},
   "outputs": [],
   "source": [
    "# Plot the perfect foresight consumption function\n",
    "print('Linear consumption function:')\n",
    "mMin = PFexample.solution[0].mNrmMin\n",
    "plotFuncs(PFexample.cFunc[0],mMin,mMin+10)"
   ]
  },
  {
   "cell_type": "code",
   "execution_count": null,
   "metadata": {},
   "outputs": [],
   "source": [
    "# Simulate some data\n",
    "PFexample.timeFwd()\n",
    "PFexample.T_sim = 120 # Set number of simulation periods\n",
    "PFexample.track_vars = ['mNrmNow']\n",
    "PFexample.initializeSim()\n",
    "PFexample.simulate()"
   ]
  },
  {
   "cell_type": "markdown",
   "metadata": {},
   "source": [
    "## Consumer with idiosyncratic income shocks\n",
    "\n",
    "This model represents a consumer with idiosyncratic shocks to her/his permanent and transitory income. Most specifically, the agent foresses that s/he will experience shocks to income that are fully transitory or fully permanent. That is, this agent is identical to the perfect foresight agent except that income is subsject to permanent, $\\psi$, and transitory shocks, $\\theta$, and s/he might have an artificial borrowing constraint $\\underline{a}$.\n",
    "\n",
    "\n",
    "Solve a model like the one analyzed in [BufferStockTheory](http://econ.jhu.edu/people/ccarroll/papers/BufferStockTheory/)"
   ]
  },
  {
   "cell_type": "markdown",
   "metadata": {},
   "source": [
    "The agent's problem can be written in (normalized) Bellman form as:\n",
    "\n",
    "\\begin{eqnarray*}\n",
    "v_t(m_t) &=& \\max_{c_t} u(c_t) + \\beta (1-\\mathsf{D}_{t+1}) \\mathbb{E} [(\\Gamma_{t+1}\\psi_{t+1})^{1-\\rho} v_{t+1}(m_{t+1}) ], \\\\\n",
    "a_t &=& m_t - c_t, \\\\\n",
    "a_t &\\geq& \\underline{a}, \\\\\n",
    "m_{t+1} &=& R/(\\Gamma_{t+1}\\psi_{t+1}) a_t + \\theta_{t+1}, \\\\\n",
    "\\psi_{t},\\theta_{t} \\sim F_{t}, &\\qquad& \\mathbb{E} [F_{\\psi t}] = 1, \\\\\n",
    "u(c) &=& \\frac{c^{1-\\rho}}{1-\\rho}\n",
    "\\end{eqnarray*}\n"
   ]
  },
  {
   "cell_type": "code",
   "execution_count": null,
   "metadata": {
    "code_folding": [
     1
    ]
   },
   "outputs": [],
   "source": [
    "# This cell defines a dictionary to make an instance of a \"idiosyncratic shock\" consumer.\n",
    "IdiosyncDict={\n",
    "    \"CRRA\": 2.0,                           # Coefficient of relative risk aversion\n",
    "    \"Rfree\": 1.03,                         # Interest factor on assets\n",
    "    \"DiscFac\": 0.96,                       # Default intertemporal discount factor\n",
    "    \"LivPrb\" : [0.98],                     # Survival probability\n",
    "    \"AgentCount\" : 10000,                  # Number of agents of this type (only matters for simulation)\n",
    "    \"PermGroFac\" :[1.01],                  # Permanent income growth factor   \n",
    "\n",
    "    # Parameters for constructing the \"assets above minimum\" grid\n",
    "    \"aNrmInitMean\" : 0.0,                  # Mean of log initial assets (only matters for simulation)\n",
    "    \"aNrmInitStd\"  : 1.0,                  # Standard deviation of log initial assets (only for simulation)\n",
    "    \"pLvlInitMean\" : 0.0,                  # Mean of log initial permanent income (only matters for simulation)\n",
    "    \"pLvlInitStd\"  : 0.0,                  # Standard deviation of log initial permanent income (only matters for simulation)\n",
    "    \"PermGroFacAgg\" : 1.0,                 # Aggregate permanent income growth factor (only matters for simulation)\n",
    "    \"T_age\" : None,                        # Age after which simulated agents are automatically killed\n",
    "    \"T_cycle\" : 1,                         # Number of periods in the cycle for this agent type\n",
    "    \"aXtraMin\" : 0.001,                    # Minimum end-of-period \"assets above minimum\" value\n",
    "    \"aXtraMax\" : 20,                       # Maximum end-of-period \"assets above minimum\" value               \n",
    "    \"aXtraExtra\" : [None],                   # Some other value of \"assets above minimum\" to add to the grid\n",
    "    \"aXtraNestFac\" : 3,                    # Exponential nesting factor when constructing \"assets above minimum\" grid\n",
    "    \"aXtraCount\" : 48,                     # Number of points in the grid of \"assets above minimum\"\n",
    "    \n",
    "    # Parameters describing the income process\n",
    "    \"PermShkCount\" : 7,                    # Number of points in discrete approximation to permanent income shocks\n",
    "    \"TranShkCount\" : 7,                    # Number of points in discrete approximation to transitory income shocks\n",
    "    \"PermShkStd\" : [0.1],                  # Standard deviation of log permanent shocks to income\n",
    "    \"TranShkStd\" : [0.1],                  # Standard deviation of log transitory shocks to income\n",
    "    \"UnempPrb\" : 0.05,                     # Probability of unemployment while working\n",
    "    \"UnempPrbRet\" : 0.005,                 # Probability of \"unemployment\" while retired\n",
    "    \"IncUnemp\" : 0.3,                      # Unemployment benefits replacement rate\n",
    "    \"IncUnempRet\" : 0.0,                   # \"Unemployment\" benefits when retired\n",
    "    \"tax_rate\" : 0.0,                      # Flat income tax rate\n",
    "    \"T_retire\" : 0,                        # Period of retirement (0 --> no retirement)\n",
    "    \n",
    "    # A few other paramaters\n",
    "    \"BoroCnstArt\" : 0.0,                   # Artificial borrowing constraint; imposed minimum level of end-of period assets\n",
    "    \"CubicBool\" : False,                   # Preference shocks currently only compatible with linear cFunc\n",
    "    \"vFuncBool\" : False,                    # Whether to calculate the value function during solution          \n",
    "}"
   ]
  },
  {
   "cell_type": "code",
   "execution_count": null,
   "metadata": {},
   "outputs": [],
   "source": [
    "# Make an example of an idiosyncratic income shock consumer\n",
    "IndShockExample = IndShockConsumerType(**IdiosyncDict)\n",
    "IndShockExample.cycles = 0 # Make this type have an infinite horizon"
   ]
  },
  {
   "cell_type": "markdown",
   "metadata": {},
   "source": [
    "The one period problem for this model is solved by the function $\\texttt{solveConsIndShock}$, which creates an instance of the class $\\texttt{ConsIndShockSolver}$. The class $\\texttt{IndShockConsumerType}$ extends $\\texttt{PerfForesightConsumerType}$ to represents agents in this model. To construct an instance of this class, several parameters must be passed to the constructor as shown in the table below. "
   ]
  },
  {
   "cell_type": "markdown",
   "metadata": {},
   "source": [
    "Note that most of these parameters are *indirect* inputs to the consumer's model - they are used to construct direct inputs to the one period problem.\n",
    "\n",
    "### Example parameter values to solve an instance of IndShockConsumerType\n",
    "\n",
    "| Param | Description | Code | Value | Constructed |\n",
    "| :---: | --- | --- | --- | :---: |\n",
    "| $ (none) $ | Grid of \"assets above minimum\" | $\\texttt{aXtraGrid}$ | - |$\\surd$ |\n",
    "|$F $ |A list containing three arrays of floats, representing a discrete <br> approximation to the income process: <br>event probabilities, permanent shocks, transitory shocks | $\\texttt{IncomeDstn}$ | - |$\\surd$ |\n",
    "| $\\sigma_\\theta $ | Minimum of \"assets above minimum\" grid | $\\texttt{TranShkStd}$ | - |$\\surd$ |\n",
    "| $ \\sigma_\\psi $ | Minimum of \"assets above minimum\" grid | $\\texttt{PermShkStd}$ | - |$\\surd$ |\n",
    "| $\\underline{a} $ |Artificial borrowing constraint, as asset-to-persistent income ratio | $\\texttt{BoroCnstArt}$ | 0.0 | | \n",
    "| $(none) $ |Indicator of whether $\\texttt{vFunc}$ should be computed | $\\texttt{vFuncBool}$ | 'True' | |\n",
    "| $(none)$ |Indicator of whether $\\texttt{cFunc}$ should use cubic lines | $\\texttt{CubicBool}$ | 'False' |  |"
   ]
  },
  {
   "cell_type": "markdown",
   "metadata": {},
   "source": [
    "### Constructed inputs to solve IndShockExample\n",
    "\n",
    "To construct the \"assets above minimum grid\", $\\texttt{aXtraGrid}$, the following attributes can be used and changed easily as needed:\n",
    "\n",
    "| Param | Description | Type | Value|\n",
    "| :---: | --- | --- | --- | :---: |\n",
    "| $\\texttt{aXtraMin}$ | Minimum of \"assets above minimum\" grid | float | 0.001  | \n",
    "| $\\texttt{aXtraMax}$ | Maximum of \"assets above minimum\" grid | int | 20  | \n",
    "| $\\texttt{aXtraCount}$  | Number of points in \"assets above minimum\" grid | int| 48 | \n",
    "| $\\texttt{aXtraNestFac}$  | Exponential nesting factor when constructing \"assets above minimum\" grid | int | 3 | "
   ]
  },
  {
   "cell_type": "markdown",
   "metadata": {},
   "source": [
    "To construct the income process, ($F_{\\psi t}$, $F_{\\theta t}$), the following attributes can be used and changed easily as needed:\n",
    "\n",
    "| Param | Description | Type | Value|\n",
    "| :---: | --- | --- | --- | :---: |\n",
    "| $\\texttt{TranShkCount}$  | Number of discrete values in transitory shock distribution, $ N_{\\theta} $ | int | 7 | \n",
    "| $\\texttt{PermShkCount}$ | Number of discrete values in permanent shock distribution, $ N_{\\psi} $ | int | 7 | \n",
    "| $\\texttt{PermShkStd}$ | List of standard deviations in log permanent income shocks  | [float]  | [0.1] | \n",
    "| $\\texttt{TranShkStd}$ |  List of standard deviations in log transitory income shocks | [float]  | [0.1] | \n",
    "| $\\texttt{UnempPrb}$ | Probability of unemployment while working| float | 0.05  | \n",
    "| $\\texttt{UnempPrbRet}$ | Probability of \"unemployment\" while retired | float | 0.005   | \n",
    "| $\\texttt{IncUnemp}$ | Unemployment benefits replacement rate | float | 0.3  | \n",
    "| $\\texttt{IncUnempRet}$ | \"Unemployment\" benefits when retired | float | 0.0  | "
   ]
  },
  {
   "cell_type": "code",
   "execution_count": null,
   "metadata": {},
   "outputs": [],
   "source": [
    "# Solve the model and unpack the consumption functions\n",
    "IndShockExample.solve()\n",
    "IndShockExample.unpackcFunc()"
   ]
  },
  {
   "cell_type": "code",
   "execution_count": null,
   "metadata": {},
   "outputs": [],
   "source": [
    "# Plot the consumption function and MPC for the infinite horizon consumer\n",
    "print('Concave consumption function:')\n",
    "plotFuncs(IndShockExample.cFunc[0],IndShockExample.solution[0].mNrmMin,5)\n",
    "print('Marginal propensity to consume function:')\n",
    "plotFuncsDer(IndShockExample.cFunc[0],IndShockExample.solution[0].mNrmMin,5)"
   ]
  },
  {
   "cell_type": "code",
   "execution_count": null,
   "metadata": {},
   "outputs": [],
   "source": [
    "# Compare the consumption functions for the perfect foresight and idiosyncratic shock types. \n",
    "# Risky income cFunc asymptotically approaches perfect foresight cFunc.\n",
    "print('Consumption functions for perfect foresight vs idiosyncratic shocks:')            \n",
    "plotFuncs([PFexample.cFunc[0],IndShockExample.cFunc[0]],IndShockExample.solution[0].mNrmMin,100)"
   ]
  },
  {
   "cell_type": "code",
   "execution_count": null,
   "metadata": {},
   "outputs": [],
   "source": [
    "# Compare the value functions for the two types\n",
    "if IndShockExample.vFuncBool:\n",
    "    print('Value functions for perfect foresight vs idiosyncratic shocks:')\n",
    "    plotFuncs([PFexample.solution[0].vFunc,IndShockExample.solution[0].vFunc],\n",
    "                  IndShockExample.solution[0].mNrmMin+0.5,10)"
   ]
  },
  {
   "cell_type": "code",
   "execution_count": null,
   "metadata": {},
   "outputs": [],
   "source": [
    "# Simulate some data; results stored in mNrmNow_hist, cNrmNow_hist, and pLvlNow_hist\n",
    "IndShockExample.T_sim = 120\n",
    "IndShockExample.track_vars = ['mNrmNow','cNrmNow','pLvlNow']\n",
    "IndShockExample.makeShockHistory() # This is optional, simulation will draw shocks on the fly if it isn't run.\n",
    "IndShockExample.initializeSim()\n",
    "IndShockExample.simulate()"
   ]
  },
  {
   "cell_type": "markdown",
   "metadata": {},
   "source": [
    "## Idiosyncratic shocks consumer with a finite lifecycle"
   ]
  },
  {
   "cell_type": "markdown",
   "metadata": {},
   "source": [
    "This model represents a consumer with idiosyncratic shocks to permanent and transitory income. Her/is problem is defined by a sequence of income distributions, survival probabilities, and permanent income growth rates, as well as time invariant values for risk aversion, discount factor, the interest rate, the grid of end-of-period assets, and an artificial borrowing constraint."
   ]
  },
  {
   "cell_type": "code",
   "execution_count": null,
   "metadata": {
    "code_folding": [
     1
    ]
   },
   "outputs": [],
   "source": [
    "# This cell defines a dictionary to make an instance of a \"lifecycle idiosyncratic shock\" consumer.\n",
    "LifecycleDict={\n",
    "    \"CRRA\": 2.0,                           # Coefficient of relative risk aversion\n",
    "    \"Rfree\": 1.03,                         # Interest factor on assets\n",
    "    \"DiscFac\": 0.96,                       # Default intertemporal discount factor\n",
    "    \"LivPrb\" : [0.99,0.9,0.8,0.7,0.6,0.5,0.4,0.3,0.2,0.1],                  # Survival probability\n",
    "    \"AgentCount\" : 10000,                  # Number of agents of this type (only matters for simulation)\n",
    "    \"PermGroFac\" :[1.01,1.01,1.01,1.01,1.01,1.02,1.02,1.02,1.02,1.02],      # Permanent income growth factor   \n",
    "\n",
    "    # Parameters for constructing the \"assets above minimum\" grid\n",
    "    \"aNrmInitMean\" : 0.0,                  # Mean of log initial assets (only matters for simulation)\n",
    "    \"aNrmInitStd\"  : 1.0,                  # Standard deviation of log initial assets (only for simulation)\n",
    "    \"pLvlInitMean\" : 0.0,                  # Mean of log initial permanent income (only matters for simulation)\n",
    "    \"pLvlInitStd\"  : 0.0,                  # Standard deviation of log initial permanent income (only matters for simulation)\n",
    "    \"PermGroFacAgg\" : 1.0,                 # Aggregate permanent income growth factor (only matters for simulation)\n",
    "    \"T_retire\" : 7,                        # Period of retirement \n",
    "    \"T_age\" : 11,                          # Make sure that old people die at terminal age and don't turn into newborns!\n",
    "    \"T_cycle\" : 10,                        # Number of periods in the cycle for this agent type\n",
    "    \"aXtraMin\" : 0.001,                    # Minimum end-of-period \"assets above minimum\" value\n",
    "    \"aXtraMax\" : 20,                       # Maximum end-of-period \"assets above minimum\" value               \n",
    "    \"aXtraExtra\" : [None],                 # Some other value of \"assets above minimum\" to add to the grid\n",
    "    \"aXtraNestFac\" : 3,                    # Exponential nesting factor when constructing \"assets above minimum\" grid\n",
    "    \"aXtraCount\" : 48,                     # Number of points in the grid of \"assets above minimum\"\n",
    "    \n",
    "    # Parameters describing the income process\n",
    "    \"PermShkCount\" : 7,                    # Number of points in discrete approximation to permanent income shocks\n",
    "    \"TranShkCount\" : 7,                    # Number of points in discrete approximation to transitory income shocks\n",
    "    \"PermShkStd\" : [0.1,0.2,0.1,0.2,0.1,0.2,0.1,0,0,0],                  # Standard deviation of log permanent shocks to income\n",
    "    \"TranShkStd\" : [0.3,0.2,0.1,0.3,0.2,0.1,0.3,0,0,0],                  # Standard deviation of log transitory shocks to income\n",
    "    \"UnempPrb\" : 0.05,                     # Probability of unemployment while working\n",
    "    \"UnempPrbRet\" : 0.005,                 # Probability of \"unemployment\" while retired\n",
    "    \"IncUnemp\" : 0.3,                      # Unemployment benefits replacement rate\n",
    "    \"IncUnempRet\" : 0.0,                   # \"Unemployment\" benefits when retired\n",
    "    \"tax_rate\" : 0.0,                      # Flat income tax rate\n",
    "    \n",
    "    # A few other paramaters\n",
    "    \"BoroCnstArt\" : 0.0,                   # Artificial borrowing constraint; imposed minimum level of end-of period assets\n",
    "    \"CubicBool\" : False,                   # Preference shocks currently only compatible with linear cFunc\n",
    "    \"vFuncBool\" : False,                    # Whether to calculate the value function during solution          \n",
    "}"
   ]
  },
  {
   "cell_type": "code",
   "execution_count": null,
   "metadata": {},
   "outputs": [],
   "source": [
    "# Make an idiosyncratic shocks consumer with a finite lifecycle\n",
    "LifecycleExample = IndShockConsumerType(**LifecycleDict)\n",
    "LifecycleExample.cycles = 1 # Make this consumer live a sequence of periods -- a lifetime -- exactly once"
   ]
  },
  {
   "cell_type": "code",
   "execution_count": null,
   "metadata": {},
   "outputs": [],
   "source": [
    "# Solve the model\n",
    "LifecycleExample.solve()\n",
    "LifecycleExample.unpackcFunc()"
   ]
  },
  {
   "cell_type": "code",
   "execution_count": null,
   "metadata": {},
   "outputs": [],
   "source": [
    "# Plot the consumption functions during working life\n",
    "print('Consumption functions while working:')\n",
    "mMin = min([LifecycleExample.solution[t].mNrmMin for t in range(LifecycleExample.T_cycle)])\n",
    "plotFuncs(LifecycleExample.cFunc[:LifecycleExample.T_retire],mMin,5)\n",
    "\n",
    "# Plot the consumption functions during retirement\n",
    "print('Consumption functions while retired:')\n",
    "plotFuncs(LifecycleExample.cFunc[LifecycleExample.T_retire:],0,5)\n",
    "LifecycleExample.timeRev()"
   ]
  },
  {
   "cell_type": "code",
   "execution_count": null,
   "metadata": {},
   "outputs": [],
   "source": [
    "# Simulate some data; results stored in mNrmNow_hist, cNrmNow_hist, pLvlNow_hist, and t_age_hist\n",
    "LifecycleExample.T_sim = 120\n",
    "LifecycleExample.track_vars = ['mNrmNow','cNrmNow','pLvlNow','t_age']\n",
    "LifecycleExample.initializeSim()\n",
    "LifecycleExample.simulate()"
   ]
  },
  {
   "cell_type": "markdown",
   "metadata": {},
   "source": [
    "## \"Cyclical\" consumer type \n",
    "This model solves a \"cyclical\" consumer type who lives the same four quarters repeatedly.\n",
    "The consumer has income that greatly fluctuates throughout the year."
   ]
  },
  {
   "cell_type": "code",
   "execution_count": null,
   "metadata": {
    "code_folding": [
     2
    ]
   },
   "outputs": [],
   "source": [
    "# This cell defines a dictionary to make an instance of a \"cyclical\" consumer, \n",
    "# an infinite consumer with a four period cycle\n",
    "CyclicalDict={\n",
    "    \"CRRA\": 2.0,                           # Coefficient of relative risk aversion\n",
    "    \"Rfree\": 1.03,                         # Interest factor on assets\n",
    "    \"DiscFac\": 0.96,                       # Default intertemporal discount factor\n",
    "    \"LivPrb\" : 4*[0.98],                     # Survival probability\n",
    "    \"AgentCount\" : 10000,                  # Number of agents of this type (only matters for simulation)\n",
    "    \"PermGroFac\" :[1.082251, 2.8, 0.3, 1.1],                  # Permanent income growth factor   \n",
    "\n",
    "    # Parameters for constructing the \"assets above minimum\" grid\n",
    "    \"aNrmInitMean\" : 0.0,                  # Mean of log initial assets (only matters for simulation)\n",
    "    \"aNrmInitStd\"  : 1.0,                  # Standard deviation of log initial assets (only for simulation)\n",
    "    \"pLvlInitMean\" : 0.0,                  # Mean of log initial permanent income (only matters for simulation)\n",
    "    \"pLvlInitStd\"  : 0.0,                  # Standard deviation of log initial permanent income (only matters for simulation)\n",
    "    \"PermGroFacAgg\" : 1.0,                 # Aggregate permanent income growth factor (only matters for simulation)\n",
    "    \"T_age\" : None,                        # Age after which simulated agents are automatically killed\n",
    "    \"T_cycle\" : 4,                         # Number of periods in the cycle for this agent type\n",
    "    \"aXtraMin\" : 0.001,                    # Minimum end-of-period \"assets above minimum\" value\n",
    "    \"aXtraMax\" : 20,                       # Maximum end-of-period \"assets above minimum\" value               \n",
    "    \"aXtraExtra\" : [None],                   # Some other value of \"assets above minimum\" to add to the grid\n",
    "    \"aXtraNestFac\" : 3,                    # Exponential nesting factor when constructing \"assets above minimum\" grid\n",
    "    \"aXtraCount\" : 48,                     # Number of points in the grid of \"assets above minimum\"\n",
    "    \n",
    "    # Parameters describing the income process\n",
    "    \"PermShkCount\" : 7,                    # Number of points in discrete approximation to permanent income shocks\n",
    "    \"TranShkCount\" : 7,                    # Number of points in discrete approximation to transitory income shocks\n",
    "    \"PermShkStd\" : [0.1,0.1,0.1,0.1],                  # Standard deviation of log permanent shocks to income\n",
    "    \"TranShkStd\" : [0.1,0.1,0.1,0.1],                  # Standard deviation of log transitory shocks to income\n",
    "    \"UnempPrb\" : 0.05,                     # Probability of unemployment while working\n",
    "    \"UnempPrbRet\" : 0.005,                 # Probability of \"unemployment\" while retired\n",
    "    \"IncUnemp\" : 0.3,                      # Unemployment benefits replacement rate\n",
    "    \"IncUnempRet\" : 0.0,                   # \"Unemployment\" benefits when retired\n",
    "    \"tax_rate\" : 0.0,                      # Flat income tax rate\n",
    "    \"T_retire\" : 0,                        # Period of retirement (0 --> no retirement)\n",
    "    \n",
    "    # A few other paramaters\n",
    "    \"BoroCnstArt\" : 0.0,                   # Artificial borrowing constraint; imposed minimum level of end-of period assets\n",
    "    \"CubicBool\" : False,                   # Preference shocks currently only compatible with linear cFunc\n",
    "    \"vFuncBool\" : False,                    # Whether to calculate the value function during solution          \n",
    "}"
   ]
  },
  {
   "cell_type": "code",
   "execution_count": null,
   "metadata": {},
   "outputs": [],
   "source": [
    "# Make a \"cyclical\" consumer type\n",
    "CyclicalExample = IndShockConsumerType(**CyclicalDict)\n",
    "CyclicalExample.cycles = 0"
   ]
  },
  {
   "cell_type": "code",
   "execution_count": null,
   "metadata": {},
   "outputs": [],
   "source": [
    "# Solve the model\n",
    "CyclicalExample.solve()\n",
    "CyclicalExample.unpackcFunc()"
   ]
  },
  {
   "cell_type": "code",
   "execution_count": null,
   "metadata": {},
   "outputs": [],
   "source": [
    "# Plot the consumption functions for the cyclical consumer type\n",
    "print('Quarterly consumption functions:')\n",
    "mMin = min([X.mNrmMin for X in CyclicalExample.solution])\n",
    "plotFuncs(CyclicalExample.cFunc,mMin,5)"
   ]
  },
  {
   "cell_type": "code",
   "execution_count": null,
   "metadata": {},
   "outputs": [],
   "source": [
    "# Simulate some data; results stored in cHist, mHist, bHist, aHist, MPChist, and pHist\n",
    "CyclicalExample.T_sim = 480\n",
    "CyclicalExample.track_vars = ['mNrmNow','cNrmNow','pLvlNow','t_cycle']\n",
    "CyclicalExample.initializeSim()\n",
    "CyclicalExample.simulate()"
   ]
  },
  {
   "cell_type": "markdown",
   "metadata": {},
   "source": [
    "## Agent with a kinky interest rate (Rboro > RSave)"
   ]
  },
  {
   "cell_type": "markdown",
   "metadata": {},
   "source": [
    "This model represents a consumer that faces idiosyncratic shocks to income and has a different interest factor on saving and on borrowing.  It extends $\\texttt{IndShockConsumerType}$, with very small changes.  The solver for this class, $\\texttt{solveConsKinkedR}$, is currently only compatible with linear spline interpolation."
   ]
  },
  {
   "cell_type": "code",
   "execution_count": null,
   "metadata": {
    "code_folding": [
     1
    ]
   },
   "outputs": [],
   "source": [
    "# This cell defines a dictionary to make an instance of a \"kinked R\" idiosyncratic shock consumer.\n",
    "KinkedRDict={\n",
    "    \"CRRA\": 2.0,                           # Coefficient of relative risk aversion\n",
    "    \"Rfree\": 1.03,                         # Interest factor on assets\n",
    "    \"DiscFac\": 0.96,                       # Default intertemporal discount factor\n",
    "    \"LivPrb\" : [0.98],                     # Survival probability\n",
    "    \"AgentCount\" : 10000,                  # Number of agents of this type (only matters for simulation)\n",
    "    \"PermGroFac\" :[1.01],                  # Permanent income growth factor   \n",
    "\n",
    "    # Parameters for constructing the \"assets above minimum\" grid\n",
    "    \"aNrmInitMean\" : 0.0,                  # Mean of log initial assets (only matters for simulation)\n",
    "    \"aNrmInitStd\"  : 1.0,                  # Standard deviation of log initial assets (only for simulation)\n",
    "    \"pLvlInitMean\" : 0.0,                  # Mean of log initial permanent income (only matters for simulation)\n",
    "    \"pLvlInitStd\"  : 0.0,                  # Standard deviation of log initial permanent income (only matters for simulation)\n",
    "    \"PermGroFacAgg\" : 1.0,                 # Aggregate permanent income growth factor (only matters for simulation)\n",
    "    \"T_age\" : None,                        # Age after which simulated agents are automatically killed\n",
    "    \"T_cycle\" : 1,                         # Number of periods in the cycle for this agent type\n",
    "    \"aXtraMin\" : 0.001,                    # Minimum end-of-period \"assets above minimum\" value\n",
    "    \"aXtraMax\" : 20,                       # Maximum end-of-period \"assets above minimum\" value               \n",
    "    \"aXtraExtra\" : [None],                   # Some other value of \"assets above minimum\" to add to the grid\n",
    "    \"aXtraNestFac\" : 3,                    # Exponential nesting factor when constructing \"assets above minimum\" grid\n",
    "    \n",
    "    # Parameters describing the income process\n",
    "    \"PermShkCount\" : 7,                    # Number of points in discrete approximation to permanent income shocks\n",
    "    \"TranShkCount\" : 7,                    # Number of points in discrete approximation to transitory income shocks\n",
    "    \"PermShkStd\" : [0.1],                  # Standard deviation of log permanent shocks to income\n",
    "    \"TranShkStd\" : [0.1],                  # Standard deviation of log transitory shocks to income\n",
    "    \"UnempPrb\" : 0.05,                     # Probability of unemployment while working\n",
    "    \"UnempPrbRet\" : 0.005,                 # Probability of \"unemployment\" while retired\n",
    "    \"IncUnemp\" : 0.3,                      # Unemployment benefits replacement rate\n",
    "    \"IncUnempRet\" : 0.0,                   # \"Unemployment\" benefits when retired\n",
    "    \"tax_rate\" : 0.0,                      # Flat income tax rate\n",
    "    \"T_retire\" : 0,                        # Period of retirement (0 --> no retirement)\n",
    "    \n",
    "    # A few other paramaters\n",
    "    \"BoroCnstArt\" : None,                   # kinked R is a bit silly if borrowing not allowed\n",
    "    \"CubicBool\" : False,                   # kinked R currently only compatible with linear cFunc...\n",
    "    \"aXtraCount\" : 48,                     # ...so need lots of extra gridpoints to make up for it\n",
    "    \"vFuncBool\" : True,                    # Whether to calculate the value function during solution        \n",
    "    \n",
    "    'Rboro' : 1.20,           # Interest factor on assets when borrowing, a < 0\n",
    "    'Rsave' : 1.02,           # Interest factor on assets when saving, a > 0   \n",
    "}\n",
    "del KinkedRDict['Rfree'] # get rid of constant interest factor"
   ]
  },
  {
   "cell_type": "code",
   "execution_count": null,
   "metadata": {},
   "outputs": [],
   "source": [
    "# Make an agent with a kinky interest rate\n",
    "KinkyExample = KinkedRconsumerType(**KinkedRDict)\n",
    "KinkyExample.cycles = 0 # Make the Example infinite horizon"
   ]
  },
  {
   "cell_type": "code",
   "execution_count": null,
   "metadata": {},
   "outputs": [],
   "source": [
    "# Solve the model\n",
    "KinkyExample.solve()\n",
    "KinkyExample.unpackcFunc()"
   ]
  },
  {
   "cell_type": "code",
   "execution_count": null,
   "metadata": {},
   "outputs": [],
   "source": [
    "# Plot the Kinky consumption function\n",
    "print('Kinky consumption function:')\n",
    "plotFuncs(KinkyExample.cFunc[0],KinkyExample.solution[0].mNrmMin,5)"
   ]
  },
  {
   "cell_type": "code",
   "execution_count": null,
   "metadata": {},
   "outputs": [],
   "source": [
    "# Simulate some data\n",
    "KinkyExample.T_sim = 120\n",
    "KinkyExample.track_vars = ['mNrmNow','cNrmNow','pLvlNow']\n",
    "KinkyExample.initializeSim()\n",
    "KinkyExample.simulate()"
   ]
  }
 ],
 "metadata": {
  "kernelspec": {
   "display_name": "Python 2",
   "language": "python",
   "name": "python2"
  },
  "language_info": {
   "codemirror_mode": {
    "name": "ipython",
    "version": 2
   },
   "file_extension": ".py",
   "mimetype": "text/x-python",
   "name": "python",
   "nbconvert_exporter": "python",
   "pygments_lexer": "ipython2",
   "version": "2.7.13"
  }
 },
 "nbformat": 4,
 "nbformat_minor": 2
}

{
 "cells": [
  {
   "cell_type": "code",
   "execution_count": null,
   "metadata": {},
   "outputs": [],
   "source": [
    "# Initial imports and notebook setup, click arrow to show\n",
    "import sys \n",
    "import os\n",
    "\n",
    "from HARK.ConsumptionSaving.ConsPrefShockModel import *\n",
    "\n",
    "import matplotlib.pyplot as plt"
   ]
  },
  {
   "cell_type": "markdown",
   "metadata": {},
   "source": [
    "This module defines consumption-saving models in which agents have CRRA utility over a unitary consumption good, geometric discounting, who face idiosyncratic shocks to income and to their utility or preferences. That is, this module contains models that extend $\\texttt{ConsIndShockModel}$ with preference shocks.\n",
    "\n",
    "$\\texttt{ConsPrefShockModel}$ currently solves two types of models:\n",
    "1. An extension of $\\texttt{ConsIndShock}$, but with an iid lognormal multiplicative shock each period.\n",
    "2. A combination of (1) and $\\texttt{ConsKinkedR}$, demonstrating how to construct a new model\n",
    "   by inheriting from multiple classes."
   ]
  },
  {
   "cell_type": "markdown",
   "metadata": {},
   "source": [
    "### Multiplicative Shocks to Utility\n",
    "\n",
    "In this model, an agent is very similar to the one in the \"idiosyncratic shocks\" model, except that in $\\texttt{ConsPrefShockModel}$ an agent receives an iid multiplicative shock to his/her utility at the beginning of each period, before making the consumption decision. \n",
    "\n",
    "The agent's problem can be written in (normalized) Bellman form as:\n",
    "\n",
    "\\begin{eqnarray*}\n",
    "v_t(m_t,\\eta_t) &=& \\max_{c_t} u(\\eta_t.c_t) + \\beta (1-\\mathsf{D}_{t+1}) \\mathbb{E} [(\\Gamma_{t+1}\\psi_{t+1})^{1-\\rho} v_{t+1}(m_{t+1}, \\eta_{t+1}) ], \\\\\n",
    "a_t &=& m_t - c_t, \\\\\n",
    "a_t &\\geq& \\underline{a}, \\\\\n",
    "m_{t+1} &=& R/(\\Gamma_{t+1}\\psi_{t+1}) a_t + \\theta_{t+1}, \\\\\n",
    "\\psi_{t},\\theta_{t} \\sim F_{t}, &\\qquad& \\mathbb{E} [F_{\\psi t}] = 1, \\\\\n",
    "u(c) &=& \\frac{c^{1-\\rho}}{1-\\rho}, \\eta_t \\sim F_{\\eta t}\n",
    "\\end{eqnarray*}\n"
   ]
  },
  {
   "cell_type": "markdown",
   "metadata": {},
   "source": [
    "The one period problem for this model is solved by the function $\\texttt{solveConsPrefShock}$, which creates an instance of the class $\\texttt{ConsPrefShockSolver}$. The class $\\texttt{PrefShockConsumerType}$ extends $\\texttt{IndShockConsumerType}$ to represents agents in this model. \n",
    "\n",
    "To construct an instance of this class, 3 additional attributes must be passed to the constructor as shown in the table below (parameters can be either \"primitive\" if they are directly specified by the user or \"constructed\" if they are built by a class method using simple parameters specified by the user)."
   ]
  },
  {
   "cell_type": "markdown",
   "metadata": {},
   "source": [
    "### Additional parameter values to solve an instance of PrefShockConsumerType\n",
    "\n",
    "| Param | Description | Code | Value | Constructed |\n",
    "| :---: | --- | --- | --- | :---: |\n",
    "| $N{\\eta}$ |Number of discrete points in \"body\" of preference shock distribution  | $\\texttt{PerfShkCount}$ | 12 |$\\surd$ |\n",
    "| $N{\\eta}$ |Number of discrete points in \"tails\" of preference shock distribution  | $\\texttt{PrefShk_tail_N}$ |4|$\\surd$ |\n",
    "| $\\sigma_{\\eta}$ |Log standard deviation of multiplicative utility shocks  | $\\texttt{PerfShkStd}$ | [0.30] |$\\surd$ |\n",
    "\n"
   ]
  },
  {
   "cell_type": "markdown",
   "metadata": {},
   "source": [
    "### Constructed inputs to solve ConsPrefShockModel\n",
    "\n",
    "* The tails of the preference shock distribution are of great importance for the accuracy of the solution and are underrepresented by the default equiprobable discrete approximation (unless a very large number of points are used). \n",
    "To fix this issue, the attribute $\\texttt{PerfShk_tail_N}$ specifies the number of points in each \" augmented tail\" section of the preference shock discrete approximation. \n",
    "See [HARK.utilities.approxLognormal](https://github.com/econ-ark/HARK/blob/master/HARK/utilities.py) for more details.\n",
    "\n",
    "\n",
    "* The standard deviation of preference shocks might vary by period. Therefore, $\\texttt{PerShkStd}$ should be input as a list."
   ]
  },
  {
   "cell_type": "markdown",
   "metadata": {},
   "source": [
    "Note that the $\\texttt{solve}$ method of $\\texttt{PerfShockConsumerType}$ populates the $\\texttt{solution}$ with a list of $\\texttt{ConsumerSolution}$ instances. These single-period-solution objects have the same attributes as the \"idiosyncratic shocks\" model, but the attribute $\\texttt{cFunc}$ is defined over the space of ($m_{t}$, $\\eta_{t}$) rather than just $m_{t}$.\n",
    "\n",
    "The value function $\\texttt{vFunc}$ and marginal value $\\texttt{vPfunc}$, however, are defined *only* over $m_{t}$, as they represent expected (marginal) value *just before* the preference shock $\\eta_{t}$ is realized."
   ]
  },
  {
   "cell_type": "code",
   "execution_count": null,
   "metadata": {
    "code_folding": [
     1
    ]
   },
   "outputs": [],
   "source": [
    "# This cell defines a dictionary to make an instance of a \"preference shock\" consumer.\n",
    "PrefShkDict = {\n",
    "    \"CRRA\": 2.0,                           # Coefficient of relative risk aversion\n",
    "    \"Rfree\": 1.03,                         # Interest factor on assets\n",
    "    \"DiscFac\": 0.96,                       # Default intertemporal discount factor\n",
    "    \"LivPrb\" : [0.98],                     # Survival probability\n",
    "    \"AgentCount\" : 10000,                  # Number of agents of this type (only matters for simulation)\n",
    "    \"PermGroFac\" :[1.01],                  # Permanent income growth factor   \n",
    "\n",
    "    # Parameters for constructing the \"assets above minimum\" grid\n",
    "    \"aNrmInitMean\" : 0.0,                  # Mean of log initial assets (only matters for simulation)\n",
    "    \"aNrmInitStd\"  : 1.0,                  # Standard deviation of log initial assets (only for simulation)\n",
    "    \"pLvlInitMean\" : 0.0,                  # Mean of log initial permanent income (only matters for simulation)\n",
    "    \"pLvlInitStd\"  : 0.0,                  # Standard deviation of log initial permanent income (only matters for simulation)\n",
    "    \"PermGroFacAgg\" : 1.0,                 # Aggregate permanent income growth factor (only matters for simulation)\n",
    "    \"T_age\" : None,                        # Age after which simulated agents are automatically killed\n",
    "    \"T_cycle\" : 1,                         # Number of periods in the cycle for this agent type\n",
    "    \"aXtraMin\" : 0.001,                    # Minimum end-of-period \"assets above minimum\" value\n",
    "    \"aXtraMax\" : 20,                       # Maximum end-of-period \"assets above minimum\" value               \n",
    "    \"aXtraExtra\" : [None],                   # Some other value of \"assets above minimum\" to add to the grid\n",
    "    \"aXtraNestFac\" : 3,                    # Exponential nesting factor when constructing \"assets above minimum\" grid\n",
    "    \"aXtraCount\" : 48,                     # Number of points in the grid of \"assets above minimum\"\n",
    "    \n",
    "    # Parameters describing the income process\n",
    "    \"PermShkCount\" : 7,                    # Number of points in discrete approximation to permanent income shocks\n",
    "    \"TranShkCount\" : 7,                    # Number of points in discrete approximation to transitory income shocks\n",
    "    \"PermShkStd\" : [0.1],                  # Standard deviation of log permanent shocks to income\n",
    "    \"TranShkStd\" : [0.1],                  # Standard deviation of log transitory shocks to income\n",
    "    \"UnempPrb\" : 0.05,                     # Probability of unemployment while working\n",
    "    \"UnempPrbRet\" : 0.005,                 # Probability of \"unemployment\" while retired\n",
    "    \"IncUnemp\" : 0.3,                      # Unemployment benefits replacement rate\n",
    "    \"IncUnempRet\" : 0.0,                   # \"Unemployment\" benefits when retired\n",
    "    \"tax_rate\" : 0.0,                      # Flat income tax rate\n",
    "    \"T_retire\" : 0,                        # Period of retirement (0 --> no retirement)\n",
    "    \n",
    "    # A few other paramaters\n",
    "    \"BoroCnstArt\" : 0.0,                   # Artificial borrowing constraint; imposed minimum level of end-of period assets\n",
    "    \"CubicBool\" : False,                   # Preference shocks currently only compatible with linear cFunc\n",
    "    \"vFuncBool\" : True,                    # Whether to calculate the value function during solution        \n",
    "    \n",
    "    \"PrefShkCount\" : 12,        # Number of points in discrete approximation to preference shock distribution\n",
    "    \"PrefShk_tail_N\" : 4,       # Number of \"tail points\" on each end of pref shock dist\n",
    "    \"PrefShkStd\" : [0.30],      # Standard deviation of utility shocks\n",
    "}"
   ]
  },
  {
   "cell_type": "code",
   "execution_count": null,
   "metadata": {},
   "outputs": [],
   "source": [
    "# Make and solve a preference shock consumer\n",
    "PrefShockExample = PrefShockConsumerType(**PrefShkDict)\n",
    "PrefShockExample.cycles = 0 # Infinite horizon\n",
    "PrefShockExample.solve()"
   ]
  },
  {
   "cell_type": "code",
   "execution_count": null,
   "metadata": {},
   "outputs": [],
   "source": [
    "# Plot the consumption function at each discrete shock\n",
    "m = np.linspace(PrefShockExample.solution[0].mNrmMin,5,200)\n",
    "print('Consumption functions at each discrete shock:')\n",
    "for j in range(PrefShockExample.PrefShkDstn[0][1].size):\n",
    "    PrefShk = PrefShockExample.PrefShkDstn[0][1][j]\n",
    "    c = PrefShockExample.solution[0].cFunc(m,PrefShk*np.ones_like(m))\n",
    "    plt.plot(m,c)\n",
    "plt.show()"
   ]
  },
  {
   "cell_type": "code",
   "execution_count": null,
   "metadata": {},
   "outputs": [],
   "source": [
    "# Plot the consumption function and MPC when only 1 shock\n",
    "print('Consumption function (and MPC) when shock=1:')\n",
    "c = PrefShockExample.solution[0].cFunc(m,np.ones_like(m))\n",
    "k = PrefShockExample.solution[0].cFunc.derivativeX(m,np.ones_like(m))\n",
    "plt.plot(m,c)\n",
    "plt.plot(m,k)\n",
    "plt.show()"
   ]
  },
  {
   "cell_type": "code",
   "execution_count": null,
   "metadata": {},
   "outputs": [],
   "source": [
    "# Simulate some data\n",
    "PrefShockExample.T_sim = 120\n",
    "PrefShockExample.track_vars = ['cNrmNow']\n",
    "PrefShockExample.makeShockHistory() # This is optional\n",
    "PrefShockExample.initializeSim()\n",
    "PrefShockExample.simulate()"
   ]
  },
  {
   "cell_type": "markdown",
   "metadata": {},
   "source": [
    "### Utility Shocks and Different Interest Rates\n",
    "\n",
    "In this model, an agent face idiosyncratic shocks to permanent and transitory income and multiplicative shocks to utility *and* faces a different interst rate on borrowing vs saving. This agent's model is identical to that of the $\\texttt{ConsPrefShockModel}$ with the addition of the interst rate rule from the $\\texttt{kinkedRConsumerType}$ from $\\texttt{ConsIndShock}$ model."
   ]
  },
  {
   "cell_type": "markdown",
   "metadata": {},
   "source": [
    "The one period problem of this model is solved by the function $\\texttt{solveConsKinkyPref}$, which creates an instance of $\\texttt{ConsKinkyPrefSolver}$. The class $\\texttt{KinkyPrefConsumerType}$ represents agents in this model. \n",
    "\n",
    "Thanks to HARK's object-oriented approach to solution methods, it is trivial to combine two models to make a new one. In this current case, the solver and consumer classes each inherit from both $\\texttt{KinkedR}$ and $\\texttt{PrefShock}$ and only need a trivial constructor function to rectify the differences between the two.\n",
    "\n"
   ]
  },
  {
   "cell_type": "markdown",
   "metadata": {},
   "source": [
    "### Constructed inputs to solve KinkyPref\n",
    "\n",
    "* The attributes required to properly construct an instance of $\\texttt{KinkyPrefConsumerType}$ are the same as $\\texttt{PrefShockConsumerType}$, except that $\\texttt{Rfree}$ should not be replace with $\\texttt{Rboro}$ and $\\texttt{Rsave}$ - like the \"kinked R\" parent model. \n",
    "\n",
    "* Also, as in $\\texttt{KinkedR}$ and $\\texttt{PrefShock}$, $\\texttt{KinkyPref}$ is not yet compatible with cubic spline interpolation of the consumption function. "
   ]
  },
  {
   "cell_type": "code",
   "execution_count": null,
   "metadata": {
    "code_folding": [
     2
    ]
   },
   "outputs": [],
   "source": [
    "# This cell defines a dictionary to make an instance of a \"kinky preference\"  consumer, \n",
    "# who has both shocks to utility and a different interest rate on borrowing vs saving.\n",
    "KinkyPrefDict={\n",
    "    \"CRRA\": 2.0,                           # Coefficient of relative risk aversion\n",
    "    \"Rfree\": 1.03,                         # Interest factor on assets\n",
    "    \"DiscFac\": 0.96,                       # Default intertemporal discount factor\n",
    "    \"LivPrb\" : [0.98],                     # Survival probability\n",
    "    \"AgentCount\" : 10000,                  # Number of agents of this type (only matters for simulation)\n",
    "    \"PermGroFac\" :[1.01],                  # Permanent income growth factor   \n",
    "\n",
    "    # Parameters for constructing the \"assets above minimum\" grid\n",
    "    \"aNrmInitMean\" : 0.0,                  # Mean of log initial assets (only matters for simulation)\n",
    "    \"aNrmInitStd\"  : 1.0,                  # Standard deviation of log initial assets (only for simulation)\n",
    "    \"pLvlInitMean\" : 0.0,                  # Mean of log initial permanent income (only matters for simulation)\n",
    "    \"pLvlInitStd\"  : 0.0,                  # Standard deviation of log initial permanent income (only matters for simulation)\n",
    "    \"PermGroFacAgg\" : 1.0,                 # Aggregate permanent income growth factor (only matters for simulation)\n",
    "    \"T_age\" : None,                        # Age after which simulated agents are automatically killed\n",
    "    \"T_cycle\" : 1,                         # Number of periods in the cycle for this agent type\n",
    "    \"aXtraMin\" : 0.001,                    # Minimum end-of-period \"assets above minimum\" value\n",
    "    \"aXtraMax\" : 20,                       # Maximum end-of-period \"assets above minimum\" value               \n",
    "    \"aXtraExtra\" : [None],                   # Some other value of \"assets above minimum\" to add to the grid\n",
    "    \"aXtraNestFac\" : 3,                    # Exponential nesting factor when constructing \"assets above minimum\" grid\n",
    "    \n",
    "    # Parameters describing the income process\n",
    "    \"PermShkCount\" : 7,                    # Number of points in discrete approximation to permanent income shocks\n",
    "    \"TranShkCount\" : 7,                    # Number of points in discrete approximation to transitory income shocks\n",
    "    \"PermShkStd\" : [0.1],                  # Standard deviation of log permanent shocks to income\n",
    "    \"TranShkStd\" : [0.1],                  # Standard deviation of log transitory shocks to income\n",
    "    \"UnempPrb\" : 0.05,                     # Probability of unemployment while working\n",
    "    \"UnempPrbRet\" : 0.005,                 # Probability of \"unemployment\" while retired\n",
    "    \"IncUnemp\" : 0.3,                      # Unemployment benefits replacement rate\n",
    "    \"IncUnempRet\" : 0.0,                   # \"Unemployment\" benefits when retired\n",
    "    \"tax_rate\" : 0.0,                      # Flat income tax rate\n",
    "    \"T_retire\" : 0,                        # Period of retirement (0 --> no retirement)\n",
    "    \n",
    "    # A few other paramaters\n",
    "    \"BoroCnstArt\" : None,                   # kinked R is a bit silly if borrowing not allowed\n",
    "    \"CubicBool\" : False,                   # kinked R currently only compatible with linear cFunc...\n",
    "    \"aXtraCount\" : 48,                     # ...so need lots of extra gridpoints to make up for it\n",
    "    \"vFuncBool\" : True,                    # Whether to calculate the value function during solution  \n",
    "    \n",
    "    \"PrefShkCount\" : 12,        # Number of points in discrete approximation to preference shock distribution\n",
    "    \"PrefShk_tail_N\" : 4,       # Number of \"tail points\" on each end of pref shock dist\n",
    "    \"PrefShkStd\" : [0.30],      # Standard deviation of utility shocks\n",
    "    \n",
    "    'Rboro' : 1.20,           # Interest factor on assets when borrowing, a < 0\n",
    "    'Rsave' : 1.02,           # Interest factor on assets when saving, a > 0    \n",
    "}\n",
    "del KinkyPrefDict['Rfree'] # get rid of constant interest factor"
   ]
  },
  {
   "cell_type": "code",
   "execution_count": null,
   "metadata": {},
   "outputs": [],
   "source": [
    "# Make and solve a a \"kinky preference\" consumer, whose model combines KinkedR and PrefShock\n",
    "KinkyPrefExample = KinkyPrefConsumerType(**KinkyPrefDict)\n",
    "KinkyPrefExample.cycles = 0 # Infinite horizon\n",
    "KinkyPrefExample.solve()"
   ]
  },
  {
   "cell_type": "code",
   "execution_count": null,
   "metadata": {},
   "outputs": [],
   "source": [
    "# Plot the consumption function at each discrete shock\n",
    "m = np.linspace(KinkyPrefExample.solution[0].mNrmMin,5,200)\n",
    "print('Consumption functions at each discrete shock:')\n",
    "for j in range(KinkyPrefExample.PrefShkDstn[0][1].size):\n",
    "    PrefShk = KinkyPrefExample.PrefShkDstn[0][1][j]\n",
    "    c = KinkyPrefExample.solution[0].cFunc(m,PrefShk*np.ones_like(m))\n",
    "    plt.plot(m,c)\n",
    "plt.show()"
   ]
  },
  {
   "cell_type": "code",
   "execution_count": null,
   "metadata": {},
   "outputs": [],
   "source": [
    "print('Consumption function (and MPC) when shock=1:')\n",
    "c = KinkyPrefExample.solution[0].cFunc(m,np.ones_like(m))\n",
    "k = KinkyPrefExample.solution[0].cFunc.derivativeX(m,np.ones_like(m))\n",
    "plt.plot(m,c)\n",
    "plt.plot(m,k)\n",
    "plt.show()"
   ]
  },
  {
   "cell_type": "code",
   "execution_count": null,
   "metadata": {},
   "outputs": [],
   "source": [
    "# Simulate some data\n",
    "KinkyPrefExample.T_sim = 120\n",
    "KinkyPrefExample.track_vars = ['cNrmNow','PrefShkNow']\n",
    "KinkyPrefExample.initializeSim()\n",
    "KinkyPrefExample.simulate()"
   ]
  }
 ],
 "metadata": {
  "kernelspec": {
   "display_name": "Python 2",
   "language": "python",
   "name": "python2"
  },
  "language_info": {
   "codemirror_mode": {
    "name": "ipython",
    "version": 2
   },
   "file_extension": ".py",
   "mimetype": "text/x-python",
   "name": "python",
   "nbconvert_exporter": "python",
   "pygments_lexer": "ipython2",
   "version": "2.7.13"
  }
 },
 "nbformat": 4,
 "nbformat_minor": 2
}

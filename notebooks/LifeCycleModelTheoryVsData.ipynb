{
 "cells": [
  {
   "cell_type": "markdown",
   "metadata": {},
   "source": [
    "# The Life Cycle Model: Theory vs Data\n",
    "\n",
    "[![badge](https://img.shields.io/badge/Launch%20using%20-Econ--ARK-blue)](https://econ-ark.org/materials/lifecyclemodeltheoryvsdata#launch)\n",
    "\n",
    "National registry data on income and wealth from Scandinavian countries (esp. Norway) have recently become available (with a lot of security) to some (lucky!) researchers.   These data offer a uniquely powerful tool for testing (and improving) our models of consumption and saving behavior over the life cycle.\n",
    "\n",
    "This notebook is an example of how to construct a life cycle model with the HARK toolkit that makes predictions that can be compared to the raw data statistics=.\n",
    "\n",
    "For example, some papers have tabulated information about the **growth rate** of assets at different ages over the life cycle. \n",
    "\n",
    "The default parameters of the HARK life cycle model have not been optmized to match features of the Norwegian data; a first step in a real \"structural\" estimation would be to use Norwegian calibrate the inputs to the model (like the profile of income, and the magnitude of income shocks, over the life cycle), and then to find the values of parameters like the time preference rate that allow the model to fit the data best.  (See [SolvingMicroDSOPs](https://econ.jhu.edu/people/ccarroll/SolvingMicroDSOPs) for how this can be done, and search for the corresponding HARK content using [our documentation](https://hark.readthedocs.io))."
   ]
  },
  {
   "cell_type": "code",
   "execution_count": 1,
   "metadata": {
    "code_folding": [],
    "lines_to_next_cell": 2
   },
   "outputs": [
    {
     "name": "stderr",
     "output_type": "stream",
     "text": [
      "/home/sb/projects/econ-ark/HARK/HARK/Calibration/Income/IncomeTools.py:449: UserWarning: Sabelhaus and Song (2010) provide variance profiles for ages 27 to 54. Extrapolating variances using the extreme points.\n",
      "  warn(\n",
      "/home/sb/projects/econ-ark/HARK/HARK/datasets/SCF/WealthIncomeDist/SCFDistTools.py:79: UserWarning: Returning SCF summary statistics for ages (20,25].\n",
      "  warn(\"Returning SCF summary statistics for ages \" + age_bracket + \".\")\n"
     ]
    }
   ],
   "source": [
    "# Initial imports and notebook setup, click arrow to show\n",
    "\n",
    "import HARK.ConsumptionSaving.ConsIndShockModel as cShksModl        # The consumption-saving micro model\n",
    "from HARK.utilities import plotFuncsDer, plotFuncs              # Some tools\n",
    "import pandas as pd \n",
    "\n",
    "import numpy as np"
   ]
  },
  {
   "cell_type": "code",
   "execution_count": 2,
   "metadata": {},
   "outputs": [],
   "source": [
    "# ---------------------------------------------------------------------------------\n",
    "# - Define all of the model parameters for SolvingMicroDSOPs and ConsumerExamples -\n",
    "# ---------------------------------------------------------------------------------\n",
    "\n",
    "exp_nest = 3                        # Number of times to \"exponentially nest\" when constructing a_grid\n",
    "aXtraMin = 0.001                    # Minimum end-of-period \"assets above minimum\" value\n",
    "aXtraMax = 20                       # Maximum end-of-period \"assets above minimum\" value\n",
    "aXtraHuge = None                    # A very large value of assets to add to the grid, not used\n",
    "aXtraExtra = None                   # Some other value of assets to add to the grid, not used\n",
    "aXtraCount = 8                      # Number of points in the grid of \"assets above minimum\"\n",
    "\n",
    "BoroCnstArt = 0.0                   # Artificial borrowing constraint; imposed minimum level of end-of period assets\n",
    "CubicBool = True                    # Use cubic spline interpolation when True, linear interpolation when False\n",
    "vFuncBool = False                   # Whether to calculate the value function during solution\n",
    "\n",
    "Rfree = 1.03                        # Interest factor on assets\n",
    "PermShkCount = 7                    # Number of points in discrete approximation to permanent income shocks\n",
    "TranShkCount = 7                    # Number of points in discrete approximation to transitory income shocks\n",
    "UnempPrb = 0.005                     # Probability of unemployment while working\n",
    "UnempPrbRet = 0.000                 # Probability of \"unemployment\" while retired\n",
    "IncUnemp = 0.0                      # Unemployment benefits replacement rate\n",
    "IncUnempRet = 0.0                   # \"Unemployment\" benefits when retired\n",
    "\n",
    "final_age = 90                      # Age at which the problem ends (die with certainty)\n",
    "retirement_age = 65                 # Age at which the consumer retires\n",
    "initial_age = 25                    # Age at which the consumer enters the model\n",
    "TT = final_age - initial_age        # Total number of periods in the model\n",
    "retirement_t = retirement_age - initial_age - 1\n",
    "\n",
    "CRRA_start = 4.0                    # Initial guess of the coefficient of relative risk aversion during estimation (rho)\n",
    "DiscFacAdj_start = 0.99             # Initial guess of the adjustment to the discount factor during estimation (beth)\n",
    "DiscFacAdj_bound = [0.0001,15.0]    # Bounds for beth; if violated, objective function returns \"penalty value\"\n",
    "CRRA_bound = [0.0001,15.0]          # Bounds for rho; if violated, objective function returns \"penalty value\"\n",
    "\n",
    "# Expected growth rates of permanent income over the lifecycle, starting from age 25\n",
    "PermGroFac = [ 1.025,  1.025,  1.025,  1.025,  1.025,  1.025,  1.025,  1.025,\n",
    "        1.025,  1.025,  1.025,  1.025,  1.025,  1.025,  1.025,  1.025,\n",
    "        1.025,  1.025,  1.025,  1.025,  1.025,  1.025,  1.025,  1.025,\n",
    "        1.025,  1.01 ,  1.01 ,  1.01 ,  1.01 ,  1.01 ,  1.01 ,  1.01 ,\n",
    "        1.01 ,  1.01 ,  1.01 ,  1.01 ,  1.01 ,  1.01 ,  1.01 ,  0.7 , # <-- This represents retirement\n",
    "        1.  ,  1.   ,  1.   ,  1.   ,  1.   ,  1.   ,  1.   ,  1.   ,\n",
    "        1.   ,  1.   ,  1.   ,  1.   ,  1.   ,  1.   ,  1.   ,  1.   ,\n",
    "        1.   ,  1.   ,  1.   ,  1.   ,  1.   ,  1.   ,  1.   ,  1.   ,  1.   ]\n",
    "\n",
    "# Age-varying discount factors over the lifecycle, lifted from Cagetti (2003)\n",
    "DiscFac_timevary = [1.064914 ,  1.057997 ,  1.051422 ,  1.045179 ,  1.039259 ,\n",
    "        1.033653 ,  1.028352 ,  1.023348 ,  1.018632 ,  1.014198 ,\n",
    "        1.010037 ,  1.006143 ,  1.002509 ,  0.9991282,  0.9959943,\n",
    "        0.9931012,  0.9904431,  0.9880143,  0.9858095,  0.9838233,\n",
    "        0.9820506,  0.9804866,  0.9791264,  0.9779656,  0.9769995,\n",
    "        0.9762239,  0.9756346,  0.9752274,  0.9749984,  0.9749437,\n",
    "        0.9750595,  0.9753422,  0.9757881,  0.9763936,  0.9771553,\n",
    "        0.9780698,  0.9791338,  0.9803439,  0.981697 ,  0.8287214,\n",
    "        0.9902111,  0.9902111,  0.9902111,  0.9902111,  0.9902111,\n",
    "        0.9902111,  0.9902111,  0.9902111,  0.9902111,  0.9902111,\n",
    "        0.9902111,  0.9902111,  0.9902111,  0.9902111,  0.9902111,\n",
    "        0.9902111,  0.9902111,  0.9902111,  0.9902111,  0.9902111,\n",
    "        0.9902111,  0.9902111,  0.9902111,  0.9902111,  0.9902111]\n",
    "\n",
    "# Survival probabilities over the lifecycle, starting from age 25\n",
    "LivPrb = [ 1.        ,  1.        ,  1.        ,  1.        ,  1.        ,\n",
    "           1.        ,  1.        ,  1.        ,  1.        ,  1.        ,\n",
    "           1.        ,  1.        ,  1.        ,  1.        ,  1.        ,\n",
    "           1.        ,  1.        ,  1.        ,  1.        ,  1.        ,\n",
    "           1.        ,  1.        ,  1.        ,  1.        ,  1.        ,\n",
    "           1.        ,  1.        ,  1.        ,  1.        ,  1.        ,\n",
    "           1.        ,  1.        ,  1.        ,  1.        ,  1.        ,\n",
    "           1.        ,  1.        ,  1.        ,  1.        ,  1.        , # <-- automatic survival to age 65\n",
    "           0.98438596,  0.98438596,  0.98438596,  0.98438596,  0.98438596,\n",
    "           0.97567062,  0.97567062,  0.97567062,  0.97567062,  0.97567062,\n",
    "           0.96207901,  0.96207901,  0.96207901,  0.96207901,  0.96207901,\n",
    "           0.93721595,  0.93721595,  0.93721595,  0.93721595,  0.93721595,\n",
    "           0.63095734,  0.63095734,  0.63095734,  0.63095734,  0.63095734]\n",
    "\n",
    "\n",
    "# Standard deviations of permanent income shocks by age, starting from age 25\n",
    "PermShkStd = [0.1, 0.1, 0.1, 0.1, 0.1, 0.1, 0.1, 0.1, 0.1, 0.1, 0.1, 0.1, 0.1, 0.1,\n",
    "0.1, 0.1, 0.1, 0.1, 0.1, 0.1, 0.1, 0.1, 0.1, 0.1, 0.1, 0.1, 0.1, 0.1,\n",
    "0.1, 0.1, 0.1, 0.1, 0.1, 0.1, 0.1, 0.1, 0.1, 0.1, 0.1, 0.0, 0.0, 0.0, # <-- no permanent income shocks after retirement\n",
    "0.0, 0.0, 0.0, 0.0, 0.0, 0.0, 0.0, 0.0, 0.0, 0.0, 0.0, 0.0, 0.0, 0.0,\n",
    "0.0, 0.0, 0.0, 0.0, 0.0, 0.0, 0.0, 0.0, 0.0]\n",
    "\n",
    "# Standard deviations of transitory income shocks by age, starting from age 25\n",
    "TranShkStd =  [0.1, 0.1, 0.1, 0.1, 0.1, 0.1, 0.1, 0.1, 0.1, 0.1, 0.1, 0.1, 0.1, 0.1,\n",
    "0.1, 0.1, 0.1, 0.1, 0.1, 0.1, 0.1, 0.1, 0.1, 0.1, 0.1, 0.1, 0.1, 0.1,\n",
    "0.1, 0.1, 0.1, 0.1, 0.1, 0.1, 0.1, 0.1, 0.1, 0.1, 0.1, 0.0, 0.0, 0.0, # <-- no transitory income shocs after retirement\n",
    "0.0, 0.0, 0.0, 0.0, 0.0, 0.0, 0.0, 0.0, 0.0, 0.0, 0.0, 0.0, 0.0, 0.0,\n",
    "0.0, 0.0, 0.0, 0.0, 0.0, 0.0, 0.0, 0.0, 0.0]\n",
    "\n",
    "# Age groups for the estimation: calculate average wealth-to-permanent income ratio\n",
    "# for consumers within each of these age groups, compare actual to simulated data\n",
    "empirical_cohort_age_groups = [[ 26,27,28,29,30 ],\n",
    "                     [ 31,32,33,34,35 ],\n",
    "                     [ 36,37,38,39,40 ],\n",
    "                     [ 41,42,43,44,45 ],\n",
    "                     [ 46,47,48,49,50 ],\n",
    "                     [ 51,52,53,54,55 ],\n",
    "                     [ 56,57,58,59,60 ]]\n",
    "\n",
    "initial_wealth_income_ratio_vals = [0.17, 0.5, 0.83]            # Three point discrete distribution of initial w\n",
    "initial_wealth_income_ratio_probs = [0.33333, 0.33333, 0.33334] # Equiprobable discrete distribution of initial w\n",
    "num_agents = 10000                                              # Number of agents to simulate\n",
    "bootstrap_size = 50                                             # Number of re-estimations to do during bootstrap\n",
    "seed = 31382                                                    # Just an integer to seed the estimation\n",
    "\n",
    "\n",
    "# Dictionary that can be passed to ConsumerType to instantiate\n",
    "init_consumer_objects = {\"CRRA\":CRRA_start,\n",
    "                        \"Rfree\":Rfree,\n",
    "                        \"PermGroFac\":PermGroFac,\n",
    "                        \"BoroCnstArt\":BoroCnstArt,\n",
    "                        \"PermShkStd\":PermShkStd,\n",
    "                        \"PermShkCount\":PermShkCount,\n",
    "                        \"TranShkStd\":TranShkStd,\n",
    "                        \"TranShkCount\":TranShkCount,\n",
    "                        \"T_cycle\":TT,\n",
    "                        \"UnempPrb\":UnempPrb,\n",
    "                        \"UnempPrbRet\":UnempPrbRet,\n",
    "                        \"T_retire\":retirement_t,\n",
    "                        \"T_age\":TT+1,\n",
    "                        \"IncUnemp\":IncUnemp,\n",
    "                        \"IncUnempRet\":IncUnempRet,\n",
    "                        \"aXtraMin\":aXtraMin,\n",
    "                        \"aXtraMax\":aXtraMax,\n",
    "                        \"aXtraCount\":aXtraCount,\n",
    "                        \"aXtraExtra\":[aXtraExtra,aXtraHuge],\n",
    "                        \"aXtraNestFac\":exp_nest,\n",
    "                        \"LivPrb\":LivPrb,\n",
    "                        \"DiscFac\":DiscFac_timevary,\n",
    "                        'AgentCount':num_agents,\n",
    "                        'seed':seed,\n",
    "                        'tax_rate':0.0,\n",
    "                        'vFuncBool':vFuncBool,\n",
    "                        'CubicBool':CubicBool\n",
    "                        }"
   ]
  },
  {
   "cell_type": "code",
   "execution_count": 3,
   "metadata": {
    "code_folding": [],
    "lines_to_next_cell": 2
   },
   "outputs": [],
   "source": [
    "# Set up default values for CRRA, DiscFac, and simulation variables in the dictionary \n",
    "init_consumer_objects[\"CRRA\"]= 2.00            # Default coefficient of relative risk aversion (rho)\n",
    "init_consumer_objects[\"DiscFac\"]= 0.97         # Default intertemporal discount factor (beta)\n",
    "init_consumer_objects[\"PermGroFacAgg\"]= 1.0    # Aggregate permanent income growth factor \n",
    "init_consumer_objects[\"aNrmInitMean\"]= -10.0   # Mean of log initial assets \n",
    "init_consumer_objects[\"aNrmInitStd\"]= 1.0      # Standard deviation of log initial assets\n",
    "init_consumer_objects[\"pLvlInitMean\"]= 0.0     # Mean of log initial permanent income \n",
    "init_consumer_objects[\"pLvlInitStd\"]= 0.0      # Standard deviation of log initial permanent income"
   ]
  },
  {
   "cell_type": "code",
   "execution_count": 4,
   "metadata": {
    "lines_to_next_cell": 2
   },
   "outputs": [],
   "source": [
    "# Make an instance of a lifecycle consumer to be used for estimation\n",
    "LifeCyclePop = cShksModl.IndShockConsumerType(**init_consumer_objects)"
   ]
  },
  {
   "cell_type": "code",
   "execution_count": 5,
   "metadata": {
    "code_folding": [],
    "lines_to_next_cell": 2
   },
   "outputs": [
    {
     "name": "stderr",
     "output_type": "stream",
     "text": [
      "unpackcFunc is deprecated and it will soon be removed, please use unpack('cFunc') instead.\n"
     ]
    },
    {
     "data": {
      "text/plain": [
       "{'aNrm': array([[0.15127711, 0.15125125, 0.15137639, ..., 0.15125154, 0.15129283,\n",
       "         0.15126218],\n",
       "        [0.20253365, 0.26403079, 0.36798854, ..., 0.27813025, 0.18217271,\n",
       "         0.14937687],\n",
       "        [0.31434768, 0.30047487, 0.39399445, ..., 0.41395886, 0.36698992,\n",
       "         0.35670865],\n",
       "        ...,\n",
       "        [0.        , 0.4105237 , 0.67977946, ..., 0.35135643, 0.19870174,\n",
       "         0.38609603],\n",
       "        [0.15125545, 0.36888134, 0.59571382, ..., 0.35422396, 0.12865324,\n",
       "         0.38228781],\n",
       "        [0.22612749, 0.35238072, 0.60192903, ..., 0.46027463, 0.0731549 ,\n",
       "         0.42506227]]),\n",
       " 'aLvl': array([[0.15429397, 0.16005768, 0.1425343 , ..., 0.16005799, 0.15431001,\n",
       "         0.18084397],\n",
       "        [0.18006755, 0.26308336, 0.30203556, ..., 0.32520622, 0.20530152,\n",
       "         0.19732864],\n",
       "        [0.24361894, 0.31682869, 0.31790307, ..., 0.578684  , 0.43766367,\n",
       "         0.44369206],\n",
       "        ...,\n",
       "        [0.        , 0.83680018, 0.73257159, ..., 0.43699158, 0.16871913,\n",
       "         0.51043367],\n",
       "        [0.14242043, 0.83081302, 0.70933728, ..., 0.43309576, 0.10924042,\n",
       "         0.49683851],\n",
       "        [0.18559965, 0.8398588 , 0.7310316 , ..., 0.52988827, 0.06211637,\n",
       "         0.56344706]]),\n",
       " 'pLvl': array([[1.01994264, 1.05822383, 0.94158876, ..., 1.05822383, 1.01994264,\n",
       "         1.19556632],\n",
       "        [0.88907473, 0.99641167, 0.82077437, ..., 1.16925872, 1.12696084,\n",
       "         1.32101196],\n",
       "        [0.77499836, 1.05442658, 0.80687195, ..., 1.39792634, 1.19257682,\n",
       "         1.24385002],\n",
       "        ...,\n",
       "        [1.43550789, 2.03837237, 1.07766068, ..., 1.24372729, 0.84910745,\n",
       "         1.32203812],\n",
       "        [0.94158876, 2.25225004, 1.19073499, ..., 1.22266082, 0.84910745,\n",
       "         1.29964521],\n",
       "        [0.82077437, 2.38338467, 1.21448138, ..., 1.15124369, 0.84910745,\n",
       "         1.32556356]]),\n",
       " 'mNrm': array([[1.0000808 , 1.00002238, 1.00030507, ..., 1.00002304, 1.00011634,\n",
       "         1.00004708],\n",
       "        [1.10199015, 1.20305461, 1.35113558, ..., 1.22438835, 1.06427295,\n",
       "         0.99570868],\n",
       "        [1.27691759, 1.25705515, 1.38562517, ..., 1.41188128, 1.3495815 ,\n",
       "         1.33567024],\n",
       "        ...,\n",
       "        [1.01216882, 1.40260534, 1.73494352, ..., 1.32838083, 1.29993621,\n",
       "         1.3740572 ],\n",
       "        [1.00003185, 1.34659006, 1.6337495 , ..., 1.33203684, 1.20466279,\n",
       "         1.36843515],\n",
       "        [1.1426294 , 1.32294716, 1.63918948, ..., 1.47087737, 1.13251284,\n",
       "         1.42365894]]),\n",
       " 'cNrm': array([[0.8488037 , 0.84877113, 0.84892869, ..., 0.84877149, 0.8488235 ,\n",
       "         0.8487849 ],\n",
       "        [0.8994565 , 0.93902383, 0.98314704, ..., 0.9462581 , 0.88210024,\n",
       "         0.8463318 ],\n",
       "        [0.96256991, 0.95658029, 0.99163072, ..., 0.99792241, 0.98259158,\n",
       "         0.97896159],\n",
       "        ...,\n",
       "        [1.01216882, 0.99208163, 1.05516406, ..., 0.9770244 , 1.10123447,\n",
       "         0.98796117],\n",
       "        [0.84877641, 0.97770872, 1.03803568, ..., 0.97781288, 1.07600955,\n",
       "         0.98614735],\n",
       "        [0.91650191, 0.97056644, 1.03726045, ..., 1.01060274, 1.05935794,\n",
       "         0.99859666]]),\n",
       " 'TranShk': array([[1.        , 1.        , 1.        , ..., 1.        , 1.        ,\n",
       "         1.        ],\n",
       "        [0.92323938, 1.0376015 , 1.1722675 , ..., 1.08339327, 0.92323938,\n",
       "         0.85470368],\n",
       "        [1.0376015 , 1.00006632, 1.00006632, ..., 1.1722675 , 1.1722675 ,\n",
       "         1.1722675 ],\n",
       "        ...,\n",
       "        [1.        , 1.0376015 , 1.1722675 , ..., 1.1722675 , 1.        ,\n",
       "         1.00006632],\n",
       "        [1.        , 0.96390423, 1.00006632, ..., 0.96390423, 1.        ,\n",
       "         0.96390423],\n",
       "        [0.96390423, 0.96390423, 1.0376015 , ..., 1.08339327, 1.        ,\n",
       "         1.0376015 ]])}"
      ]
     },
     "execution_count": 5,
     "metadata": {},
     "output_type": "execute_result"
    }
   ],
   "source": [
    "# Solve and simulate the model (ignore the \"warning\" message)\n",
    "LifeCyclePop.solve()                            # Obtain consumption rules by age \n",
    "LifeCyclePop.unpackcFunc()                      # Expose the consumption rules\n",
    "\n",
    "# Which variables do we want to track\n",
    "LifeCyclePop.track_vars = ['aNrm','aLvl','pLvl','mNrm','cNrm','TranShk']\n",
    "\n",
    "LifeCyclePop.T_sim = 120                        # Nobody lives to be older than 145 years (=25+120)\n",
    "LifeCyclePop.initializeSim()                    # Construct the age-25 distribution of income and assets\n",
    "LifeCyclePop.simulate()                         # Simulate a population behaving according to this model"
   ]
  },
  {
   "cell_type": "code",
   "execution_count": 6,
   "metadata": {
    "code_folding": []
   },
   "outputs": [
    {
     "name": "stdout",
     "output_type": "stream",
     "text": [
      "Consumption as a function of market resources while working:\n"
     ]
    },
    {
     "data": {
      "image/png": "[encoded data removed]",
      "text/plain": [
       "<Figure size 432x288 with 1 Axes>"
      ]
     },
     "metadata": {
      "needs_background": "light"
     },
     "output_type": "display_data"
    }
   ],
   "source": [
    "# Plot the consumption functions during working life\n",
    "\n",
    "print('Consumption as a function of market resources while working:')\n",
    "mMin = min([LifeCyclePop.solution[t].mNrmMin for t in range(LifeCyclePop.T_cycle)])\n",
    "plotFuncs(LifeCyclePop.cFunc[:LifeCyclePop.T_retire],mMin,5)"
   ]
  },
  {
   "cell_type": "code",
   "execution_count": 7,
   "metadata": {
    "code_folding": []
   },
   "outputs": [],
   "source": [
    "# Define the saving rate function\n",
    "def savRteFunc(SomeType, m, t):\n",
    "    \"\"\"\n",
    "    Parameters:\n",
    "    ----------\n",
    "        SomeType: \n",
    "             Agent type that has been solved and simulated.\n",
    "        m:\n",
    "            normalized market resources of agent\n",
    "        t:\n",
    "            age of agent (from starting in the workforce)\n",
    "        \n",
    "        \n",
    "    Returns:\n",
    "    --------\n",
    "        savRte: float\n",
    "    \n",
    "    \"\"\"\n",
    "    inc = (SomeType.Rfree -1.)*(m-1.)+1. # Normalized by permanent labor income\n",
    "    cns = SomeType.solution[t].cFunc(m)  # Consumption (normalized)\n",
    "    sav = inc - cns                      # Flow of saving this period\n",
    "    savRte = sav / inc                   # Saving Rate\n",
    "    return savRte  "
   ]
  },
  {
   "cell_type": "code",
   "execution_count": 8,
   "metadata": {
    "code_folding": []
   },
   "outputs": [],
   "source": [
    "# Create a matrix gathering useful data:\n",
    "# 't_now', history['aNrm'], history['cNrm'], employment-status in date t and date t-1,\n",
    "# aLvlGro_hist, Saving rate\n",
    "\n",
    "w, h = 1, LifeCyclePop.T_cycle\n",
    "giant_list = [[0 for x in range(w)] for y in range(h)]\n",
    "savRte_list = []\n",
    "\n",
    "import warnings\n",
    "warnings.filterwarnings(\"ignore\") # Suppress some disturbing but harmless warnings\n",
    "\n",
    "for t in range(1,LifeCyclePop.T_cycle+1):\n",
    "    #aLvlGro[0] = 0 # set the first growth rate to 0, since there is no data for period 0\n",
    "    aLvlGroNow = np.log((LifeCyclePop.history['aNrm'][t]   *LifeCyclePop.history['pLvl'][t])/ \\\n",
    "                         LifeCyclePop.history['aNrm'][t-1] *LifeCyclePop.history['pLvl'][t-1]) # (10000,)\n",
    "\n",
    "    # Call the saving rate function defined above \n",
    "    savRte = savRteFunc(LifeCyclePop, LifeCyclePop.history['mNrm'][t] , t)\n",
    "      \n",
    "    savRte_list.append(savRte) # Add this period's saving rate to the list \n",
    "\n",
    "    # Create elements of matrix list\n",
    "    matrix_list = [0 for number in range(7)]\n",
    "    matrix_list[0] = t\n",
    "    matrix_list[1] = LifeCyclePop.history['aNrm'][t]\n",
    "    matrix_list[2] = LifeCyclePop.history['cNrm'][t]\n",
    "    matrix_list[3] = LifeCyclePop.history['TranShk'][t]\n",
    "    matrix_list[4] = LifeCyclePop.history['TranShk'][t-1]\n",
    "    matrix_list[5] = aLvlGroNow\n",
    "    matrix_list[6] = savRte\n",
    "    \n",
    "    giant_list[t-1] = matrix_list"
   ]
  },
  {
   "cell_type": "code",
   "execution_count": 9,
   "metadata": {
    "code_folding": [],
    "lines_to_next_cell": 2
   },
   "outputs": [],
   "source": [
    "# Construct the level of assets A from a*p where a is the ratio to permanent income p\n",
    "# Remember 41 is \"years after entering workforce\" (=age 25); 66 is the year right after retirement\n",
    "LifeCyclePop.history['aLvl'] = LifeCyclePop.history['aNrm']*LifeCyclePop.history['pLvl']\n",
    "aGro41=LifeCyclePop.history['aLvl'][41]/LifeCyclePop.history['aLvl'][40]\n",
    "aGro41NoU=aGro41[aGro41[:]>0.2] # Throw out extreme outliers; don't want growth rates relative to 0 income!"
   ]
  },
  {
   "cell_type": "code",
   "execution_count": 10,
   "metadata": {
    "code_folding": [],
    "lines_to_next_cell": 2,
    "scrolled": true
   },
   "outputs": [
    {
     "data": {
      "image/png": "[encoded data removed]",
      "text/plain": [
       "<Figure size 432x288 with 1 Axes>"
      ]
     },
     "metadata": {
      "needs_background": "light"
     },
     "output_type": "display_data"
    }
   ],
   "source": [
    "# Plot the (truncated) distribution of growth rates of wealth between age 65 and 66 (=25 + 41)\n",
    "from matplotlib import pyplot as plt\n",
    "n, bins, patches = plt.hist(aGro41NoU,50,density=True)"
   ]
  },
  {
   "cell_type": "code",
   "execution_count": 11,
   "metadata": {},
   "outputs": [],
   "source": [
    "# put your solution here"
   ]
  },
  {
   "cell_type": "code",
   "execution_count": 12,
   "metadata": {},
   "outputs": [],
   "source": [
    "# put your answer here"
   ]
  },
  {
   "cell_type": "code",
   "execution_count": 13,
   "metadata": {},
   "outputs": [],
   "source": [
    "# put your answer here"
   ]
  },
  {
   "cell_type": "code",
   "execution_count": 14,
   "metadata": {},
   "outputs": [],
   "source": [
    "# put your solution here"
   ]
  },
  {
   "cell_type": "code",
   "execution_count": 15,
   "metadata": {},
   "outputs": [],
   "source": [
    "# put your solution here"
   ]
  },
  {
   "cell_type": "markdown",
   "metadata": {},
   "source": [
    "# Saving Rates and Lifetime Income Growth\n",
    "\n",
    "We are interested in how income growth over the lifetime of the agent affects their saving rate and asset ratio $a=A/P$.\n"
   ]
  },
  {
   "cell_type": "code",
   "execution_count": 16,
   "metadata": {
    "scrolled": true
   },
   "outputs": [
    {
     "data": {
      "text/plain": [
       "Text(0, 0.5, 'Normalized Assets')"
      ]
     },
     "execution_count": 16,
     "metadata": {},
     "output_type": "execute_result"
    },
    {
     "data": {
      "image/png": "[encoded data removed]",
      "text/plain": [
       "<Figure size 432x288 with 1 Axes>"
      ]
     },
     "metadata": {
      "needs_background": "light"
     },
     "output_type": "display_data"
    },
    {
     "data": {
      "image/png": "[encoded data removed]",
      "text/plain": [
       "<Figure size 432x288 with 1 Axes>"
      ]
     },
     "metadata": {
      "needs_background": "light"
     },
     "output_type": "display_data"
    },
    {
     "data": {
      "image/png": "[encoded data removed]",
      "text/plain": [
       "<Figure size 432x288 with 1 Axes>"
      ]
     },
     "metadata": {
      "needs_background": "light"
     },
     "output_type": "display_data"
    }
   ],
   "source": [
    "cumulative_income_first_half = np.sum(LifeCyclePop.history['pLvl'][0:20,:]*LifeCyclePop.history['TranShk'][0:20,:],0)\n",
    "cumulative_income_second_half = np.sum(LifeCyclePop.history['pLvl'][20:40,:]*LifeCyclePop.history['TranShk'][20:40,:],0)\n",
    "lifetime_growth = cumulative_income_second_half/cumulative_income_first_half\n",
    "\n",
    "t=39\n",
    "vigntiles = pd.qcut(lifetime_growth,20,labels=False)\n",
    "savRte = savRteFunc(LifeCyclePop, LifeCyclePop.history['mNrm'][t] , t)\n",
    "savRtgueseByVigtile = np.zeros(20)\n",
    "assetsByVigtile = np.zeros(20)\n",
    "assetsNrmByVigtile = np.zeros(20)\n",
    "savRteByVigtile = np.zeros(20)\n",
    "for i in range(20):\n",
    "    savRteByVigtile[i] = np.mean(savRte[vigntiles==i])\n",
    "    assetsByVigtile[i] = np.mean(LifeCyclePop.history['aLvl'][t][vigntiles==i])\n",
    "    assetsNrmByVigtile[i] = np.mean(LifeCyclePop.history['aNrm'][t][vigntiles==i])\n",
    "plt.plot(np.array(range(20)), savRteByVigtile)\n",
    "plt.title(\"Saving Rate at age 65, by Vigntile of Lifetime Income Growth\")\n",
    "plt.xlabel(\"Vigntile of Lifetime Income Growth\")\n",
    "plt.ylabel(\"Savings Rate\")\n",
    "\n",
    "plt.figure()\n",
    "plt.plot(np.array(range(20)), assetsByVigtile)\n",
    "plt.title(\"Assets at age 65, by Vigntile of Lifetime Income Growth\")\n",
    "plt.xlabel(\"Vigntile of Lifetime Income Growth\")\n",
    "plt.ylabel(\"Assets\")\n",
    "\n",
    "plt.figure()\n",
    "plt.plot(np.array(range(20)), assetsNrmByVigtile)\n",
    "plt.title(\"Normalized Assets at age 65, by Vigntile of Lifetime Income Growth\")\n",
    "plt.xlabel(\"Vigntile of Lifetime Income Growth\")\n",
    "plt.ylabel(\"Normalized Assets\")"
   ]
  }
 ],
 "metadata": {
  "jupytext": {
   "cell_metadata_filter": "collapsed,code_folding",
   "cell_metadata_json": true,
   "formats": "ipynb,py:percent",
   "notebook_metadata_filter": "all"
  },
  "kernelspec": {
   "display_name": "econ-ark-3.8",
   "language": "python",
   "name": "econ-ark-3.8"
  },
  "language_info": {
   "codemirror_mode": {
    "name": "ipython",
    "version": 3
   },
   "file_extension": ".py",
   "mimetype": "text/x-python",
   "name": "python",
   "nbconvert_exporter": "python",
   "pygments_lexer": "ipython3",
   "version": "3.8.7"
  },
  "latex_envs": {
   "LaTeX_envs_menu_present": true,
   "autoclose": false,
   "autocomplete": false,
   "bibliofile": "biblio.bib",
   "cite_by": "apalike",
   "current_citInitial": 1,
   "eqLabelWithNumbers": true,
   "eqNumInitial": 1,
   "hotkeys": {
    "equation": "Ctrl-E",
    "itemize": "Ctrl-I"
   },
   "labels_anchors": false,
   "latex_user_defs": false,
   "report_style_numbering": false,
   "user_envs_cfg": false
  },
  "toc": {
   "base_numbering": 1,
   "nav_menu": {},
   "number_sections": true,
   "sideBar": true,
   "skip_h1_title": false,
   "title_cell": "Table of Contents",
   "title_sidebar": "Contents",
   "toc_cell": false,
   "toc_position": {},
   "toc_section_display": true,
   "toc_window_display": false
  }
 },
 "nbformat": 4,
 "nbformat_minor": 4
}

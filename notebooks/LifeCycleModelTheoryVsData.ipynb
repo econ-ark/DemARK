{
 "cells": [
  {
   "cell_type": "markdown",
   "metadata": {},
   "source": [
    "\n",
    "# The Life Cycle Model: Theory vs Data\n",
    "\n",
    "National registry data on income and wealth from Scandinavian countries (esp. Norway) have recently become available (with a lot of security) to some (lucky!) researchers.   These data offer a uniquely powerful tool for testing (and improving) our models of consumption and saving behavior over the life cycle.\n",
    "\n",
    "This notebook is an example of how to construct a life cycle model with the HARK toolkit that makes predictions that can be compared to the raw data statistics=.\n",
    "\n",
    "For example, some papers have tabulated information about the **growth rate** of assets at different ages over the life cycle. \n",
    "\n",
    "The default parameters of the HARK life cycle model have not been optmized to match features of the Norwegian data; a first step in a real \"structural\" estimation would be to use Norwegian calibrate the inputs to the model (like the profile of income, and the magnitude of income shocks, over the life cycle), and then to find the values of parameters like the time preference rate that allow the model to fit the data best.  (See [SolvingMicroDSOPs](https://econ.jhu.edu/people/ccarroll/SolvingMicroDSOPs) for how this can be done, and search for the corresponding HARK content using [our documentation](https://hark.readthedocs.io))."
   ]
  },
  {
   "cell_type": "code",
   "execution_count": 1,
   "metadata": {
    "code_folding": [],
    "lines_to_next_cell": 2
   },
   "outputs": [],
   "source": [
    "# Initial imports and notebook setup, click arrow to show\n",
    "\n",
    "import HARK.ConsumptionSaving.ConsIndShockModel as cShksModl        # The consumption-saving micro model\n",
    "from HARK.utilities import plotFuncsDer, plotFuncs              # Some tools\n",
    "import pandas as pd \n",
    "\n",
    "import numpy as np"
   ]
  },
  {
   "cell_type": "code",
   "execution_count": 2,
   "metadata": {},
   "outputs": [],
   "source": [
    "# ---------------------------------------------------------------------------------\n",
    "# - Define all of the model parameters for SolvingMicroDSOPs and ConsumerExamples -\n",
    "# ---------------------------------------------------------------------------------\n",
    "\n",
    "exp_nest = 3                        # Number of times to \"exponentially nest\" when constructing a_grid\n",
    "aXtraMin = 0.001                    # Minimum end-of-period \"assets above minimum\" value\n",
    "aXtraMax = 20                       # Maximum end-of-period \"assets above minimum\" value\n",
    "aXtraHuge = None                    # A very large value of assets to add to the grid, not used\n",
    "aXtraExtra = None                   # Some other value of assets to add to the grid, not used\n",
    "aXtraCount = 8                      # Number of points in the grid of \"assets above minimum\"\n",
    "\n",
    "BoroCnstArt = 0.0                   # Artificial borrowing constraint; imposed minimum level of end-of period assets\n",
    "CubicBool = True                    # Use cubic spline interpolation when True, linear interpolation when False\n",
    "vFuncBool = False                   # Whether to calculate the value function during solution\n",
    "\n",
    "Rfree = 1.03                        # Interest factor on assets\n",
    "PermShkCount = 7                    # Number of points in discrete approximation to permanent income shocks\n",
    "TranShkCount = 7                    # Number of points in discrete approximation to transitory income shocks\n",
    "UnempPrb = 0.005                     # Probability of unemployment while working\n",
    "UnempPrbRet = 0.000                 # Probability of \"unemployment\" while retired\n",
    "IncUnemp = 0.0                      # Unemployment benefits replacement rate\n",
    "IncUnempRet = 0.0                   # \"Unemployment\" benefits when retired\n",
    "\n",
    "final_age = 90                      # Age at which the problem ends (die with certainty)\n",
    "retirement_age = 65                 # Age at which the consumer retires\n",
    "initial_age = 25                    # Age at which the consumer enters the model\n",
    "TT = final_age - initial_age        # Total number of periods in the model\n",
    "retirement_t = retirement_age - initial_age - 1\n",
    "\n",
    "CRRA_start = 4.0                    # Initial guess of the coefficient of relative risk aversion during estimation (rho)\n",
    "DiscFacAdj_start = 0.99             # Initial guess of the adjustment to the discount factor during estimation (beth)\n",
    "DiscFacAdj_bound = [0.0001,15.0]    # Bounds for beth; if violated, objective function returns \"penalty value\"\n",
    "CRRA_bound = [0.0001,15.0]          # Bounds for rho; if violated, objective function returns \"penalty value\"\n",
    "\n",
    "# Expected growth rates of permanent income over the lifecycle, starting from age 25\n",
    "PermGroFac = [ 1.025,  1.025,  1.025,  1.025,  1.025,  1.025,  1.025,  1.025,\n",
    "        1.025,  1.025,  1.025,  1.025,  1.025,  1.025,  1.025,  1.025,\n",
    "        1.025,  1.025,  1.025,  1.025,  1.025,  1.025,  1.025,  1.025,\n",
    "        1.025,  1.01 ,  1.01 ,  1.01 ,  1.01 ,  1.01 ,  1.01 ,  1.01 ,\n",
    "        1.01 ,  1.01 ,  1.01 ,  1.01 ,  1.01 ,  1.01 ,  1.01 ,  0.7 , # <-- This represents retirement\n",
    "        1.  ,  1.   ,  1.   ,  1.   ,  1.   ,  1.   ,  1.   ,  1.   ,\n",
    "        1.   ,  1.   ,  1.   ,  1.   ,  1.   ,  1.   ,  1.   ,  1.   ,\n",
    "        1.   ,  1.   ,  1.   ,  1.   ,  1.   ,  1.   ,  1.   ,  1.   ,  1.   ]\n",
    "\n",
    "# Age-varying discount factors over the lifecycle, lifted from Cagetti (2003)\n",
    "DiscFac_timevary = [1.064914 ,  1.057997 ,  1.051422 ,  1.045179 ,  1.039259 ,\n",
    "        1.033653 ,  1.028352 ,  1.023348 ,  1.018632 ,  1.014198 ,\n",
    "        1.010037 ,  1.006143 ,  1.002509 ,  0.9991282,  0.9959943,\n",
    "        0.9931012,  0.9904431,  0.9880143,  0.9858095,  0.9838233,\n",
    "        0.9820506,  0.9804866,  0.9791264,  0.9779656,  0.9769995,\n",
    "        0.9762239,  0.9756346,  0.9752274,  0.9749984,  0.9749437,\n",
    "        0.9750595,  0.9753422,  0.9757881,  0.9763936,  0.9771553,\n",
    "        0.9780698,  0.9791338,  0.9803439,  0.981697 ,  0.8287214,\n",
    "        0.9902111,  0.9902111,  0.9902111,  0.9902111,  0.9902111,\n",
    "        0.9902111,  0.9902111,  0.9902111,  0.9902111,  0.9902111,\n",
    "        0.9902111,  0.9902111,  0.9902111,  0.9902111,  0.9902111,\n",
    "        0.9902111,  0.9902111,  0.9902111,  0.9902111,  0.9902111,\n",
    "        0.9902111,  0.9902111,  0.9902111,  0.9902111,  0.9902111]\n",
    "\n",
    "# Survival probabilities over the lifecycle, starting from age 25\n",
    "LivPrb = [ 1.        ,  1.        ,  1.        ,  1.        ,  1.        ,\n",
    "           1.        ,  1.        ,  1.        ,  1.        ,  1.        ,\n",
    "           1.        ,  1.        ,  1.        ,  1.        ,  1.        ,\n",
    "           1.        ,  1.        ,  1.        ,  1.        ,  1.        ,\n",
    "           1.        ,  1.        ,  1.        ,  1.        ,  1.        ,\n",
    "           1.        ,  1.        ,  1.        ,  1.        ,  1.        ,\n",
    "           1.        ,  1.        ,  1.        ,  1.        ,  1.        ,\n",
    "           1.        ,  1.        ,  1.        ,  1.        ,  1.        , # <-- automatic survival to age 65\n",
    "           0.98438596,  0.98438596,  0.98438596,  0.98438596,  0.98438596,\n",
    "           0.97567062,  0.97567062,  0.97567062,  0.97567062,  0.97567062,\n",
    "           0.96207901,  0.96207901,  0.96207901,  0.96207901,  0.96207901,\n",
    "           0.93721595,  0.93721595,  0.93721595,  0.93721595,  0.93721595,\n",
    "           0.63095734,  0.63095734,  0.63095734,  0.63095734,  0.63095734]\n",
    "\n",
    "\n",
    "# Standard deviations of permanent income shocks by age, starting from age 25\n",
    "PermShkStd = [0.1, 0.1, 0.1, 0.1, 0.1, 0.1, 0.1, 0.1, 0.1, 0.1, 0.1, 0.1, 0.1, 0.1,\n",
    "0.1, 0.1, 0.1, 0.1, 0.1, 0.1, 0.1, 0.1, 0.1, 0.1, 0.1, 0.1, 0.1, 0.1,\n",
    "0.1, 0.1, 0.1, 0.1, 0.1, 0.1, 0.1, 0.1, 0.1, 0.1, 0.1, 0.0, 0.0, 0.0, # <-- no permanent income shocks after retirement\n",
    "0.0, 0.0, 0.0, 0.0, 0.0, 0.0, 0.0, 0.0, 0.0, 0.0, 0.0, 0.0, 0.0, 0.0,\n",
    "0.0, 0.0, 0.0, 0.0, 0.0, 0.0, 0.0, 0.0, 0.0]\n",
    "\n",
    "# Standard deviations of transitory income shocks by age, starting from age 25\n",
    "TranShkStd =  [0.1, 0.1, 0.1, 0.1, 0.1, 0.1, 0.1, 0.1, 0.1, 0.1, 0.1, 0.1, 0.1, 0.1,\n",
    "0.1, 0.1, 0.1, 0.1, 0.1, 0.1, 0.1, 0.1, 0.1, 0.1, 0.1, 0.1, 0.1, 0.1,\n",
    "0.1, 0.1, 0.1, 0.1, 0.1, 0.1, 0.1, 0.1, 0.1, 0.1, 0.1, 0.0, 0.0, 0.0, # <-- no transitory income shocs after retirement\n",
    "0.0, 0.0, 0.0, 0.0, 0.0, 0.0, 0.0, 0.0, 0.0, 0.0, 0.0, 0.0, 0.0, 0.0,\n",
    "0.0, 0.0, 0.0, 0.0, 0.0, 0.0, 0.0, 0.0, 0.0]\n",
    "\n",
    "# Age groups for the estimation: calculate average wealth-to-permanent income ratio\n",
    "# for consumers within each of these age groups, compare actual to simulated data\n",
    "empirical_cohort_age_groups = [[ 26,27,28,29,30 ],\n",
    "                     [ 31,32,33,34,35 ],\n",
    "                     [ 36,37,38,39,40 ],\n",
    "                     [ 41,42,43,44,45 ],\n",
    "                     [ 46,47,48,49,50 ],\n",
    "                     [ 51,52,53,54,55 ],\n",
    "                     [ 56,57,58,59,60 ]]\n",
    "\n",
    "initial_wealth_income_ratio_vals = [0.17, 0.5, 0.83]            # Three point discrete distribution of initial w\n",
    "initial_wealth_income_ratio_probs = [0.33333, 0.33333, 0.33334] # Equiprobable discrete distribution of initial w\n",
    "num_agents = 10000                                              # Number of agents to simulate\n",
    "bootstrap_size = 50                                             # Number of re-estimations to do during bootstrap\n",
    "seed = 31382                                                    # Just an integer to seed the estimation\n",
    "\n",
    "\n",
    "# Dictionary that can be passed to ConsumerType to instantiate\n",
    "init_consumer_objects = {\"CRRA\":CRRA_start,\n",
    "                        \"Rfree\":Rfree,\n",
    "                        \"PermGroFac\":PermGroFac,\n",
    "                        \"BoroCnstArt\":BoroCnstArt,\n",
    "                        \"PermShkStd\":PermShkStd,\n",
    "                        \"PermShkCount\":PermShkCount,\n",
    "                        \"TranShkStd\":TranShkStd,\n",
    "                        \"TranShkCount\":TranShkCount,\n",
    "                        \"T_cycle\":TT,\n",
    "                        \"UnempPrb\":UnempPrb,\n",
    "                        \"UnempPrbRet\":UnempPrbRet,\n",
    "                        \"T_retire\":retirement_t,\n",
    "                        \"T_age\":TT+1,\n",
    "                        \"IncUnemp\":IncUnemp,\n",
    "                        \"IncUnempRet\":IncUnempRet,\n",
    "                        \"aXtraMin\":aXtraMin,\n",
    "                        \"aXtraMax\":aXtraMax,\n",
    "                        \"aXtraCount\":aXtraCount,\n",
    "                        \"aXtraExtra\":[aXtraExtra,aXtraHuge],\n",
    "                        \"aXtraNestFac\":exp_nest,\n",
    "                        \"LivPrb\":LivPrb,\n",
    "                        \"DiscFac\":DiscFac_timevary,\n",
    "                        'AgentCount':num_agents,\n",
    "                        'seed':seed,\n",
    "                        'tax_rate':0.0,\n",
    "                        'vFuncBool':vFuncBool,\n",
    "                        'CubicBool':CubicBool\n",
    "                        }"
   ]
  },
  {
   "cell_type": "code",
   "execution_count": 3,
   "metadata": {
    "code_folding": [],
    "lines_to_next_cell": 2
   },
   "outputs": [],
   "source": [
    "# Set up default values for CRRA, DiscFac, and simulation variables in the dictionary \n",
    "init_consumer_objects[\"CRRA\"]= 2.00            # Default coefficient of relative risk aversion (rho)\n",
    "init_consumer_objects[\"DiscFac\"]= 0.97         # Default intertemporal discount factor (beta)\n",
    "init_consumer_objects[\"PermGroFacAgg\"]= 1.0    # Aggregate permanent income growth factor \n",
    "init_consumer_objects[\"aNrmInitMean\"]= -10.0   # Mean of log initial assets \n",
    "init_consumer_objects[\"aNrmInitStd\"]= 1.0      # Standard deviation of log initial assets\n",
    "init_consumer_objects[\"pLvlInitMean\"]= 0.0     # Mean of log initial permanent income \n",
    "init_consumer_objects[\"pLvlInitStd\"]= 0.0      # Standard deviation of log initial permanent income"
   ]
  },
  {
   "cell_type": "code",
   "execution_count": 4,
   "metadata": {
    "lines_to_next_cell": 2
   },
   "outputs": [],
   "source": [
    "# Make an instance of a lifecycle consumer to be used for estimation\n",
    "LifeCyclePop = cShksModl.IndShockConsumerType(**init_consumer_objects)"
   ]
  },
  {
   "cell_type": "code",
   "execution_count": 5,
   "metadata": {
    "code_folding": [],
    "lines_to_next_cell": 2
   },
   "outputs": [
    {
     "name": "stderr",
     "output_type": "stream",
     "text": [
      "/home/sb/projects/econ-ark/HARK/HARK/interpolation.py:1710: RuntimeWarning: All-NaN slice encountered\n",
      "  y = np.nanmin(fx,axis=1)\n"
     ]
    }
   ],
   "source": [
    "# Solve and simulate the model (ignore the \"warning\" message)\n",
    "LifeCyclePop.solve()                            # Obtain consumption rules by age \n",
    "LifeCyclePop.unpackcFunc()                      # Expose the consumption rules\n",
    "\n",
    "# Which variables do we want to track\n",
    "LifeCyclePop.track_vars = ['aNrmNow','aLvlNow','pLvlNow','mNrmNow','cNrmNow','TranShkNow']\n",
    "\n",
    "LifeCyclePop.T_sim = 120                        # Nobody lives to be older than 145 years (=25+120)\n",
    "LifeCyclePop.initializeSim()                    # Construct the age-25 distribution of income and assets\n",
    "LifeCyclePop.simulate()                         # Simulate a population behaving according to this model"
   ]
  },
  {
   "cell_type": "code",
   "execution_count": 6,
   "metadata": {
    "code_folding": []
   },
   "outputs": [
    {
     "name": "stdout",
     "output_type": "stream",
     "text": [
      "Consumption as a function of market resources while working:\n"
     ]
    },
    {
     "data": {
      "text/plain": [
       "<Figure size 640x480 with 1 Axes>"
      ]
     },
     "metadata": {},
     "output_type": "display_data"
    }
   ],
   "source": [
    "# Plot the consumption functions during working life\n",
    "\n",
    "print('Consumption as a function of market resources while working:')\n",
    "mMin = min([LifeCyclePop.solution[t].mNrmMin for t in range(LifeCyclePop.T_cycle)])\n",
    "plotFuncs(LifeCyclePop.cFunc[:LifeCyclePop.T_retire],mMin,5)"
   ]
  },
  {
   "cell_type": "code",
   "execution_count": 7,
   "metadata": {
    "code_folding": []
   },
   "outputs": [],
   "source": [
    "# Define the saving rate function\n",
    "def savRteFunc(SomeType, m, t):\n",
    "    \"\"\"\n",
    "    Parameters:\n",
    "    ----------\n",
    "        SomeType: \n",
    "             Agent type that has been solved and simulated.\n",
    "        m:\n",
    "            normalized market resources of agent\n",
    "        t:\n",
    "            age of agent (from starting in the workforce)\n",
    "        \n",
    "        \n",
    "    Returns:\n",
    "    --------\n",
    "        savRte: float\n",
    "    \n",
    "    \"\"\"\n",
    "    inc = (SomeType.Rfree -1.)*(m-1.)+1. # Normalized by permanent labor income\n",
    "    cns = SomeType.solution[t].cFunc(m)  # Consumption (normalized)\n",
    "    sav = inc - cns                      # Flow of saving this period\n",
    "    savRte = sav / inc                   # Saving Rate\n",
    "    return savRte  "
   ]
  },
  {
   "cell_type": "code",
   "execution_count": 8,
   "metadata": {
    "code_folding": []
   },
   "outputs": [],
   "source": [
    "# Create a matrix gathering useful data:\n",
    "# 't_now', 'aNrmNow_hist', 'cNrmNow_hist', employment-status in date t and date t-1,\n",
    "# aLvlGro_hist, Saving rate\n",
    "\n",
    "w, h = 1, LifeCyclePop.T_cycle\n",
    "giant_list = [[0 for x in range(w)] for y in range(h)]\n",
    "savRte_list = []\n",
    "\n",
    "import warnings\n",
    "warnings.filterwarnings(\"ignore\") # Suppress some disturbing but harmless warnings\n",
    "\n",
    "for t in range(1,LifeCyclePop.T_cycle+1):\n",
    "    #aLvlGro[0] = 0 # set the first growth rate to 0, since there is no data for period 0\n",
    "    aLvlGroNow = np.log((LifeCyclePop.history['aNrmNow'][t]   *LifeCyclePop.history['pLvlNow'][t])/ \\\n",
    "                         LifeCyclePop.history['aNrmNow'][t-1] *LifeCyclePop.history['pLvlNow'][t-1]) # (10000,)\n",
    "\n",
    "    # Call the saving rate function defined above \n",
    "    savRte = savRteFunc(LifeCyclePop, LifeCyclePop.history['mNrmNow'][t] , t)\n",
    "      \n",
    "    savRte_list.append(savRte) # Add this period's saving rate to the list \n",
    "\n",
    "    # Create elements of matrix list\n",
    "    matrix_list = [0 for number in range(7)]\n",
    "    matrix_list[0] = t\n",
    "    matrix_list[1] = LifeCyclePop.history['aNrmNow'][t]\n",
    "    matrix_list[2] = LifeCyclePop.history['cNrmNow'][t]\n",
    "    matrix_list[3] = LifeCyclePop.history['TranShkNow'][t]\n",
    "    matrix_list[4] = LifeCyclePop.history['TranShkNow'][t-1]\n",
    "    matrix_list[5] = aLvlGroNow\n",
    "    matrix_list[6] = savRte\n",
    "    \n",
    "    giant_list[t-1] = matrix_list"
   ]
  },
  {
   "cell_type": "code",
   "execution_count": 18,
   "metadata": {
    "code_folding": [],
    "lines_to_next_cell": 2
   },
   "outputs": [],
   "source": [
    "# Construct the level of assets A from a*p where a is the ratio to permanent income p\n",
    "# Remember 41 is \"years after entering workforce\" (=age 25); 66 is the year right after retirement\n",
    "LifeCyclePop.history['aLvlNow'] = LifeCyclePop.history['aNrmNow']*LifeCyclePop.history['pLvlNow']\n",
    "aGro41=LifeCyclePop.history['aLvlNow'][41]/LifeCyclePop.history['aLvlNow'][40]\n",
    "aGro41NoU=aGro41[aGro41[:]>0.2] # Throw out extreme outliers; don't want growth rates relative to 0 income!"
   ]
  },
  {
   "cell_type": "code",
   "execution_count": 19,
   "metadata": {
    "code_folding": [],
    "lines_to_next_cell": 2,
    "scrolled": true
   },
   "outputs": [
    {
     "data": {
      "image/png": "[encoded data removed]",
      "text/plain": [
       "<Figure size 432x288 with 1 Axes>"
      ]
     },
     "metadata": {
      "needs_background": "light"
     },
     "output_type": "display_data"
    }
   ],
   "source": [
    "# Plot the (truncated) distribution of growth rates of wealth between age 65 and 66 (=25 + 41)\n",
    "from matplotlib import pyplot as plt\n",
    "n, bins, patches = plt.hist(aGro41NoU,50,density=True)"
   ]
  },
  {
   "cell_type": "code",
   "execution_count": 20,
   "metadata": {},
   "outputs": [],
   "source": [
    "# put your solution here"
   ]
  },
  {
   "cell_type": "code",
   "execution_count": 21,
   "metadata": {},
   "outputs": [],
   "source": [
    "# put your answer here"
   ]
  },
  {
   "cell_type": "code",
   "execution_count": 22,
   "metadata": {},
   "outputs": [],
   "source": [
    "# put your answer here"
   ]
  },
  {
   "cell_type": "code",
   "execution_count": 23,
   "metadata": {},
   "outputs": [],
   "source": [
    "# put your solution here"
   ]
  },
  {
   "cell_type": "code",
   "execution_count": 24,
   "metadata": {},
   "outputs": [],
   "source": [
    "# put your solution here"
   ]
  },
  {
   "cell_type": "markdown",
   "metadata": {},
   "source": [
    "# Saving Rates and Lifetime Income Growth\n",
    "\n",
    "We are interested in how income growth over the lifetime of the agent affects their saving rate and asset ratio $a=A/P$.\n"
   ]
  },
  {
   "cell_type": "code",
   "execution_count": 25,
   "metadata": {
    "scrolled": true
   },
   "outputs": [
    {
     "data": {
      "text/plain": [
       "Text(0, 0.5, 'Normalized Assets')"
      ]
     },
     "execution_count": 25,
     "metadata": {},
     "output_type": "execute_result"
    },
    {
     "data": {
      "image/png": "[encoded data removed]",
      "text/plain": [
       "<Figure size 432x288 with 1 Axes>"
      ]
     },
     "metadata": {
      "needs_background": "light"
     },
     "output_type": "display_data"
    },
    {
     "data": {
      "image/png": "[encoded data removed]",
      "text/plain": [
       "<Figure size 432x288 with 1 Axes>"
      ]
     },
     "metadata": {
      "needs_background": "light"
     },
     "output_type": "display_data"
    },
    {
     "data": {
      "image/png": "[encoded data removed]",
      "text/plain": [
       "<Figure size 432x288 with 1 Axes>"
      ]
     },
     "metadata": {
      "needs_background": "light"
     },
     "output_type": "display_data"
    }
   ],
   "source": [
    "cumulative_income_first_half = np.sum(LifeCyclePop.history['pLvlNow'][0:20,:]*LifeCyclePop.history['TranShkNow'][0:20,:],0)\n",
    "cumulative_income_second_half = np.sum(LifeCyclePop.history['pLvlNow'][20:40,:]*LifeCyclePop.history['TranShkNow'][20:40,:],0)\n",
    "lifetime_growth = cumulative_income_second_half/cumulative_income_first_half\n",
    "\n",
    "t=39\n",
    "vigntiles = pd.qcut(lifetime_growth,20,labels=False)\n",
    "savRte = savRteFunc(LifeCyclePop, LifeCyclePop.history['mNrmNow'][t] , t)\n",
    "savRtgueseByVigtile = np.zeros(20)\n",
    "assetsByVigtile = np.zeros(20)\n",
    "assetsNrmByVigtile = np.zeros(20)\n",
    "savRteByVigtile = np.zeros(20)\n",
    "for i in range(20):\n",
    "    savRteByVigtile[i] = np.mean(savRte[vigntiles==i])\n",
    "    assetsByVigtile[i] = np.mean(LifeCyclePop.history['aLvlNow'][t][vigntiles==i])\n",
    "    assetsNrmByVigtile[i] = np.mean(LifeCyclePop.history['aNrmNow'][t][vigntiles==i])\n",
    "plt.plot(np.array(range(20)), savRteByVigtile)\n",
    "plt.title(\"Saving Rate at age 65, by Vigntile of Lifetime Income Growth\")\n",
    "plt.xlabel(\"Vigntile of Lifetime Income Growth\")\n",
    "plt.ylabel(\"Savings Rate\")\n",
    "\n",
    "plt.figure()\n",
    "plt.plot(np.array(range(20)), assetsByVigtile)\n",
    "plt.title(\"Assets at age 65, by Vigntile of Lifetime Income Growth\")\n",
    "plt.xlabel(\"Vigntile of Lifetime Income Growth\")\n",
    "plt.ylabel(\"Assets\")\n",
    "\n",
    "plt.figure()\n",
    "plt.plot(np.array(range(20)), assetsNrmByVigtile)\n",
    "plt.title(\"Normalized Assets at age 65, by Vigntile of Lifetime Income Growth\")\n",
    "plt.xlabel(\"Vigntile of Lifetime Income Growth\")\n",
    "plt.ylabel(\"Normalized Assets\")"
   ]
  },
  {
   "cell_type": "code",
   "execution_count": null,
   "metadata": {},
   "outputs": [],
   "source": []
  }
 ],
 "metadata": {
  "jupytext": {
   "cell_metadata_filter": "collapsed,code_folding",
   "formats": "ipynb,py:percent",
   "notebook_metadata_filter": "all"
  },
  "kernelspec": {
   "display_name": "Python 3",
   "language": "python",
   "name": "python3"
  },
  "language_info": {
   "codemirror_mode": {
    "name": "ipython",
    "version": 3
   },
   "file_extension": ".py",
   "mimetype": "text/x-python",
   "name": "python",
   "nbconvert_exporter": "python",
   "pygments_lexer": "ipython3",
   "version": "3.7.5"
  },
  "latex_envs": {
   "LaTeX_envs_menu_present": true,
   "autoclose": false,
   "autocomplete": false,
   "bibliofile": "biblio.bib",
   "cite_by": "apalike",
   "current_citInitial": 1,
   "eqLabelWithNumbers": true,
   "eqNumInitial": 1,
   "hotkeys": {
    "equation": "Ctrl-E",
    "itemize": "Ctrl-I"
   },
   "labels_anchors": false,
   "latex_user_defs": false,
   "report_style_numbering": false,
   "user_envs_cfg": false
  },
  "toc": {
   "base_numbering": 1,
   "nav_menu": {},
   "number_sections": true,
   "sideBar": true,
   "skip_h1_title": false,
   "title_cell": "Table of Contents",
   "title_sidebar": "Contents",
   "toc_cell": false,
   "toc_position": {},
   "toc_section_display": true,
   "toc_window_display": false
  }
 },
 "nbformat": 4,
 "nbformat_minor": 4
}

{
 "cells": [
  {
   "cell_type": "code",
   "execution_count": null,
   "metadata": {
    "code_folding": [
     0
    ],
    "collapsed": true
   },
   "outputs": [],
   "source": [
    "# Initial imports and notebook setup, click arrow to show\n",
    "import sys \n",
    "import os\n",
    "\n",
    "from HARK.ConsumptionSaving.ConsIndShockModel import *\n",
    "import HARK.ConsumptionSaving.ConsumerParameters as Params\n",
    "from HARK.utilities import plotFuncsDer, plotFuncs\n",
    "from time import clock\n",
    "mystr = lambda number : \"{:.4f}\".format(number)\n",
    "\n",
    "import matplotlib.pyplot as plt"
   ]
  },
  {
   "cell_type": "markdown",
   "metadata": {},
   "source": [
    "## What Happens To the Consumption Function When A Liquidity Constraint is Tightened?\n",
    "\n",
    "(This example builds on the ConsIndShockModel notebook; digest that before proceeding)\n",
    "\n",
    "The $\\texttt{KinkedRconsumerType}$ class solves the problem of a consumer for whom the interest rate on borrowing is higher than the rate that the consumer will receive on any positive saving they do.  The default calibration is meant to capture a case where the borrowing occurs at an interest rate typical of credit cards.\n",
    "\n",
    "(Fuller discussion of the issues here can be found in [A Theory of the Consumption Function, With or Without Liquidity Constraints](http://econ.jhu.edu/people/ccarroll/ATheoryv3JEP.pdf))"
   ]
  },
  {
   "cell_type": "code",
   "execution_count": null,
   "metadata": {
    "collapsed": true
   },
   "outputs": [],
   "source": [
    "# Create an instance of the type of consumer we are interested in\n",
    "KinkyExample = KinkedRconsumerType(**Params.init_kinked_R) \n",
    "\n",
    "# Make the example infinite horizon (not a life cycle model)\n",
    "KinkyExample.cycles = 0 \n",
    "\n",
    "# The consumer cannot borrow more than 0.4 times their permanent income\n",
    "KinkyExample.BoroCnstArt = -0.4\n",
    "\n",
    "# Solve the consumer's problem\n",
    "KinkyExample.solve()\n",
    "\n",
    "# Plot the results \n",
    "plt.ylabel('Consumption c')\n",
    "plt.xlabel('Market Resources m')\n",
    "plotFuncs([KinkyExample.solution[0].cFunc],KinkyExample.solution[0].mNrmMin,5)"
   ]
  },
  {
   "cell_type": "markdown",
   "metadata": {},
   "source": [
    "'Market Resources' $M$ is the total amount of money (assets plus current income) available to the consumer when the consumption decision is made.  Lower case $m = M/P$ is the ratio of $M$ to permanent income.  Likewise, $c = C/P$ is the ratio of consumption to permanent income.\n",
    "\n",
    "The line segment near $m=1$ captures the interval over which the consumer spends all of their market resources, because it's not worth it to borrow at the high credit card interest rate, but also not worth it to save at the low bank account interest rate.  \n",
    "\n",
    "The bottommost point on the consumption function is at $m=-0.4$, where consumption is zero.  This consumer would like to borrow to finance spending out of future income, but is already at the maximum borrowing limit.  \n",
    "\n",
    "The consumption function has a linear portion with a slope of 45 degrees along which the marginal propensity to consume out of extra market resources is 1.  But eventually resources get high enough that the consumer is willing to spend less than the maximum possible amount; this concave part of the consumption function terminates at the point where the consumer's desired borrowing reaches zero: The bottommost point on the line segment discussed above."
   ]
  },
  {
   "cell_type": "markdown",
   "metadata": {},
   "source": [
    "### Solution With A Tighter Constraint\n",
    "\n",
    "We are now interested in the solution to the problem when the constraint is tighter; concretely, the maximum amount of borrowing allowed is now 0.2, rather than 0.4.\n"
   ]
  },
  {
   "cell_type": "code",
   "execution_count": null,
   "metadata": {
    "collapsed": true
   },
   "outputs": [],
   "source": [
    "# Make a copy of the example consumer\n",
    "KinkyExampleTighten = deepcopy(KinkyExample)\n",
    "\n",
    "# Now change the location of the borrowing constraint -- the consumer cannot borrow more than 0.2\n",
    "KinkyExampleTighten.BoroCnstArt = -0.2\n",
    "\n",
    "# Solve the modified problem\n",
    "KinkyExampleTighten.solve()\n",
    "\n",
    "# Compare the two functions\n",
    "plotFuncs([KinkyExample.solution[0].cFunc,KinkyExampleTighten.solution[0].cFunc],KinkyExampleTighten.solution[0].mNrmMin,5)"
   ]
  },
  {
   "cell_type": "markdown",
   "metadata": {},
   "source": [
    "### Discussion\n",
    "\n",
    "The interesting question that this analysis does not address is how to handle the transition from a looser to a tighter constraint.  \n",
    "\n",
    "The toolkit can simulate a population of households behaving according to the first rule.  But it is not obvious how to treat consumers whose debt, say, was 0.3 before the constraint was tightened.  A simple, but implausible, approach is to assume that such consumer must immediately cut their consumption by enough to reduce their debt to the new more stringent maximum.  A reasonable solution might be to say that the new tighter constraint applies only to new borrowers; different papers in the literature take different approaches to this transition question."
   ]
  }
 ],
 "metadata": {
  "jupytext": {
   "formats": "ipynb,py",
   "metadata_filter": {"cells": "collapsed"}
  },
  "kernelspec": {
   "display_name": "Python 3",
   "language": "python",
   "name": "python3"
  },
  "language_info": {
   "codemirror_mode": {
    "name": "ipython",
    "version": 3
   },
   "file_extension": ".py",
   "mimetype": "text/x-python",
   "name": "python",
   "nbconvert_exporter": "python",
   "pygments_lexer": "ipython3",
   "version": "3.6.2"
  }
 },
 "nbformat": 4,
 "nbformat_minor": 2
}

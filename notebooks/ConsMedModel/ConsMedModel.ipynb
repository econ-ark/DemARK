{
 "cells": [
  {
   "cell_type": "code",
   "execution_count": null,
   "metadata": {
    "code_folding": [
     0
    ]
   },
   "outputs": [],
   "source": [
    "# Initial imports and notebook setup, click arrow to show\n",
    "import sys \n",
    "import os\n",
    "\n",
    "from HARK.ConsumptionSaving.ConsMedModel import *\n",
    "from HARK.ConsumptionSaving.ConsGenIncProcessModel import PersistentShockConsumerType\n",
    "import HARK.ConsumptionSaving.ConsumerParameters as Params\n",
    "from copy import copy\n",
    "#from HARK.utilities import plotFuncs\n",
    "from time import clock\n",
    "import matplotlib.pyplot as plt\n",
    "mystr = lambda number : \"{:.4f}\".format(number)"
   ]
  },
  {
   "cell_type": "markdown",
   "metadata": {},
   "source": [
    "This module defines consumption-saving models in which an agent faces medical expenditures and the optimal spending is shared between consumption and medical care.\n",
    "\n",
    "In this model, the agent consumes two goods: an ordinary composite consumption and medical care, which yield CRRAutility, and the coefficients on the goods might be different. The agent expects to receive shocks to permanent and transitory income as well as multiplicative shocks to utility from medical care (medical need shocks)."
   ]
  },
  {
   "cell_type": "markdown",
   "metadata": {},
   "source": [
    "The agent's problem can be written in Bellman form as:\n",
    "\n",
    "\\begin{eqnarray*}\n",
    "v_t(M_t,p_t, medShk_t) &=& \\max_{c_t, med_t} U(c_t, med_t) + \\beta (1-\\mathsf{D}_{t+1}) \\mathbb{E} [v_{t+1}(M_{t+1}, p_{t+1}, medShk_{t+1})], \\\\\n",
    "a_t &=& M_t - c_t, \\\\\n",
    "a_t &\\geq& \\underline{a}, \\\\\n",
    "M_{t+1} &=& R a_t + \\theta_{t+1}, \\\\\n",
    "p_{t+1} &=& \\gimel_{t+1}(p_t)\\psi_{t+1}, \\\\\n",
    "medShk_{t+1} &=&   ,\\\\\n",
    "\\psi_t \\sim F_{\\psi t} &\\qquad&  \\theta_t \\sim F_{\\theta t}, \\mathbb{E} [F_{\\psi t}] = 1, \\\\\n",
    "U(c, med) &=& \\frac{c^{1-\\rho}}{1-\\rho}\\frac{med^{1-\\rho_{med}}}{1-\\rho_{med}}.\n",
    "\\end{eqnarray*}"
   ]
  },
  {
   "cell_type": "markdown",
   "metadata": {},
   "source": [
    "The one period problem for this model is solved by the function $\\texttt{solveConsMedShock}$, which creates an instance of the class $\\texttt{ConsMedShockSolver}$. The class $\\texttt{MedShockConsumerType}$ extends $\\texttt{PersistentShockConsumerType}$ from $\\texttt{GenIncProcessModel}$ to represents agents in this model."
   ]
  },
  {
   "cell_type": "code",
   "execution_count": null,
   "metadata": {
    "code_folding": [
     0
    ]
   },
   "outputs": [],
   "source": [
    "# Make a dictionary for the \"medical shocks\" model\n",
    "CRRA = 2.0             # Coefficient of relative risk aversion for consumption good\n",
    "CRRAmed = 1.5*CRRA     # Coefficient of relative risk aversion for medical care\n",
    "MedShkAvg = [0.001]    # Average of medical need shocks\n",
    "MedShkStd = [5.0]      # Standard deviation of (log) medical need shocks\n",
    "MedShkCount = 5        # Number of medical shock points in \"body\"\n",
    "MedShkCountTail = 15   # Number of medical shock points in \"tail\" (upper only)\n",
    "MedPrice = [1.5]       # Relative price of a unit of medical care\n",
    "\n",
    "medical_shocks = copy(Params.init_persistent_shocks)\n",
    "medical_shocks['CRRAmed'] = CRRAmed\n",
    "medical_shocks['MedShkAvg'] = MedShkAvg\n",
    "medical_shocks['MedShkStd'] = MedShkStd\n",
    "medical_shocks['MedShkCount'] = MedShkCount\n",
    "medical_shocks['MedShkCountTail'] = MedShkCountTail\n",
    "medical_shocks['MedPrice'] = MedPrice\n",
    "medical_shocks['aXtraCount'] = 32"
   ]
  },
  {
   "cell_type": "code",
   "execution_count": null,
   "metadata": {},
   "outputs": [],
   "source": [
    "# Make and solve an example medical shocks consumer type\n",
    "MedicalExample = MedShockConsumerType(**medical_shocks)\n",
    "MedicalExample.solve()"
   ]
  },
  {
   "cell_type": "code",
   "execution_count": null,
   "metadata": {
    "code_folding": [
     0
    ]
   },
   "outputs": [],
   "source": [
    "# Plot the consumption function\n",
    "M = np.linspace(0,30,300)\n",
    "pLvl = 1.0\n",
    "P = pLvl*np.ones_like(M)\n",
    "for j in range(MedicalExample.MedShkDstn[0][0].size):\n",
    "    MedShk = MedicalExample.MedShkDstn[0][1][j]*np.ones_like(M)\n",
    "    M_temp = M + MedicalExample.solution[0].mLvlMin(pLvl)\n",
    "    C = MedicalExample.solution[0].cFunc(M_temp,P,MedShk)\n",
    "    plt.plot(M_temp,C)\n",
    "print('Consumption function by medical need shock (constant permanent income)')\n",
    "plt.show()"
   ]
  },
  {
   "cell_type": "code",
   "execution_count": null,
   "metadata": {
    "code_folding": [
     0
    ]
   },
   "outputs": [],
   "source": [
    "# Plot the medical care function\n",
    "for j in range(MedicalExample.MedShkDstn[0][0].size):\n",
    "    MedShk = MedicalExample.MedShkDstn[0][1][j]*np.ones_like(M)\n",
    "    Med = MedicalExample.solution[0].MedFunc(M_temp,P,MedShk)\n",
    "    plt.plot(M_temp,Med)\n",
    "print('Medical care function by medical need shock (constant permanent income)')\n",
    "plt.ylim([0,20])\n",
    "plt.show()"
   ]
  },
  {
   "cell_type": "code",
   "execution_count": null,
   "metadata": {
    "code_folding": [
     0
    ]
   },
   "outputs": [],
   "source": [
    "# Plot the savings function\n",
    "for j in range(MedicalExample.MedShkDstn[0][0].size):\n",
    "    MedShk = MedicalExample.MedShkDstn[0][1][j]*np.ones_like(M)\n",
    "    Sav = M_temp - MedicalExample.solution[0].cFunc(M_temp,P,MedShk) - MedicalExample.MedPrice[0]*\\\n",
    "            MedicalExample.solution[0].MedFunc(M_temp,P,MedShk)\n",
    "    plt.plot(M_temp,Sav)\n",
    "print('End of period savings by medical need shock (constant permanent income)')\n",
    "plt.show()"
   ]
  },
  {
   "cell_type": "code",
   "execution_count": null,
   "metadata": {
    "code_folding": [
     0
    ]
   },
   "outputs": [],
   "source": [
    "# Plot the marginal value function\n",
    "M = np.linspace(0.0,30,300)\n",
    "for p in range(MedicalExample.pLvlGrid[0].size):\n",
    "    pLvl = MedicalExample.pLvlGrid[0][p]\n",
    "    M_temp = pLvl*M + MedicalExample.solution[0].mLvlMin(pLvl)\n",
    "    P = pLvl*np.ones_like(M)\n",
    "    vP = MedicalExample.solution[0].vPfunc(M_temp,P)**(-1.0/MedicalExample.CRRA)\n",
    "    plt.plot(M_temp,vP)\n",
    "print('Marginal value function (pseudo inverse)')\n",
    "plt.show()"
   ]
  },
  {
   "cell_type": "code",
   "execution_count": null,
   "metadata": {
    "code_folding": [
     0
    ]
   },
   "outputs": [],
   "source": [
    "# Simulate some data\n",
    "t_start = clock()\n",
    "MedicalExample.T_sim = 100\n",
    "MedicalExample.track_vars = ['mLvlNow','cLvlNow','MedNow']\n",
    "MedicalExample.makeShockHistory()\n",
    "MedicalExample.initializeSim()\n",
    "MedicalExample.simulate()\n",
    "t_end = clock()\n",
    "print('Simulating ' + str(MedicalExample.AgentCount) + ' agents for ' + str(MedicalExample.T_sim) + ' periods took ' + mystr(t_end-t_start) + ' seconds.')\n"
   ]
  }
 ],
 "metadata": {
  "kernelspec": {
   "display_name": "Python 2",
   "language": "python",
   "name": "python2"
  },
  "language_info": {
   "codemirror_mode": {
    "name": "ipython",
    "version": 2
   },
   "file_extension": ".py",
   "mimetype": "text/x-python",
   "name": "python",
   "nbconvert_exporter": "python",
   "pygments_lexer": "ipython2",
   "version": "2.7.13"
  }
 },
 "nbformat": 4,
 "nbformat_minor": 2
}

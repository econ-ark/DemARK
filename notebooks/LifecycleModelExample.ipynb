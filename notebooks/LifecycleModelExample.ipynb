{
 "cells": [
  {
   "cell_type": "code",
   "execution_count": null,
   "metadata": {
    "code_folding": [
     0
    ],
    "scrolled": false
   },
   "outputs": [],
   "source": [
    "# Initial imports and notebook setup, click arrow to show\n",
    "\n",
    "import HARK.ConsumptionSaving.ConsIndShockModel as Model        # The consumption-saving micro model\n",
    "import HARK.SolvingMicroDSOPs.EstimationParameters as Params    # Parameters for the consumer type and the estimation\n",
    "from HARK.utilities import plotFuncsDer, plotFuncs\n",
    "\n",
    "import numpy as np\n",
    "import matplotlib.pyplot as plt"
   ]
  },
  {
   "cell_type": "code",
   "execution_count": null,
   "metadata": {},
   "outputs": [],
   "source": [
    "# Set up default values for CRRA, DiscFac, and simulation variables in the dictionary \n",
    "Params.init_consumer_objects[\"CRRA\"]= 2.00            # Default coefficient of relative risk aversion (rho)\n",
    "Params.init_consumer_objects[\"DiscFac\"]= 0.97         # Default intertemporal discount factor (beta)\n",
    "Params.init_consumer_objects[\"PermGroFacAgg\"]= 1.0    # Aggregate permanent income growth factor \n",
    "Params.init_consumer_objects[\"aNrmInitMean\"]= -10.0   # Mean of log initial assets \n",
    "Params.init_consumer_objects[\"aNrmInitStd\"]= 1.0      # Standard deviation of log initial assets\n",
    "Params.init_consumer_objects[\"pLvlInitMean\"]= 0.0     # Mean of log initial permanent income \n",
    "Params.init_consumer_objects[\"pLvlInitStd\"]= 0.0      # Standard deviation of log initial permanent income"
   ]
  },
  {
   "cell_type": "code",
   "execution_count": null,
   "metadata": {
    "code_folding": []
   },
   "outputs": [],
   "source": [
    "# Make a lifecycle consumer to be used for estimation\n",
    "ThisType = Model.IndShockConsumerType(**Params.init_consumer_objects)"
   ]
  },
  {
   "cell_type": "code",
   "execution_count": null,
   "metadata": {
    "scrolled": true
   },
   "outputs": [],
   "source": [
    "# Solve and simulate the model\n",
    "ThisType.solve()\n",
    "ThisType.unpackcFunc()\n",
    "ThisType.track_vars = ['aNrmNow','pLvlNow', 'aLvlNow','cNrmNow','mNrmNow','TranShkNow'] # Variables to be tracked: 't_cycle'? 'pLvlNow'\n",
    "ThisType.T_sim = 120\n",
    "ThisType.initializeSim()\n",
    "ThisType.simulate()"
   ]
  },
  {
   "cell_type": "code",
   "execution_count": null,
   "metadata": {},
   "outputs": [],
   "source": [
    "# Define the saving rate function\n",
    "def savingRateFunc(SomeType, m):\n",
    "    \"\"\"\n",
    "    Parameters:\n",
    "    ----------\n",
    "        SomeType: \n",
    "             Agent type that has been solved and simulated.\n",
    "        \n",
    "        \n",
    "    Returns:\n",
    "    --------\n",
    "        SavingRate: float\n",
    "    \n",
    "    \"\"\"\n",
    "    inc = (SomeType.Rfree -1.)*(m-1.)+1.\n",
    "    cons = SomeType.solution[0].cFunc(m)\n",
    "    Saving = inc - cons\n",
    "    SavingRate = Saving / inc\n",
    "    return SavingRate  "
   ]
  },
  {
   "cell_type": "code",
   "execution_count": null,
   "metadata": {},
   "outputs": [],
   "source": [
    "# Create a Giant matrix gathering:\n",
    "# 't_now', 'aNrmNow_hist', 'cNrmNow_hist', employment-status in date t, in date t-1, aLvlGro_hist, Saving rate\n",
    "\n",
    "w, h = 1, ThisType.T_cycle\n",
    "giant_list = [[0 for x in range(w)] for y in range(h)]\n",
    "SavingRate_list = []\n",
    "\n",
    "for t in range(1,ThisType.T_cycle+1):\n",
    "    #aLvlGro_hist[0] = 0 # set the first growth rate to 0, since there is no data for period 0\n",
    "    aLvlGroNow = np.log(ThisType.aNrmNow_hist[t]/ThisType.aNrmNow_hist[t-1]) # (10000,)\n",
    "    \n",
    "    # Call the saving rate function with test value for \n",
    "    SavingRate = savingRateFunc(ThisType, ThisType.mNrmNow_hist[t] )\n",
    "      \n",
    "    SavingRate_list.append(SavingRate)\n",
    "\n",
    "    # Create elements of matrix list\n",
    "    matrix_list = [0 for number in range(7)]\n",
    "    matrix_list[0] = t\n",
    "    matrix_list[1] = ThisType.aNrmNow_hist[t]\n",
    "    matrix_list[2] = ThisType.cNrmNow_hist[t]\n",
    "    matrix_list[3] = ThisType.TranShkNow_hist[t]\n",
    "    matrix_list[4] = ThisType.TranShkNow_hist[t-1]\n",
    "    matrix_list[5] = aLvlGroNow\n",
    "    matrix_list[6] = SavingRate\n",
    "    \n",
    "    giant_list[t-1] = matrix_list\n",
    "    \n",
    "#print giant_list"
   ]
  },
  {
   "cell_type": "code",
   "execution_count": null,
   "metadata": {},
   "outputs": [],
   "source": [
    "# Plot the consumption functions during working life\n",
    "print('Consumption functions while working:')\n",
    "mMin = min([ThisType.solution[t].mNrmMin for t in range(ThisType.T_cycle)])\n",
    "plotFuncs(ThisType.cFunc[:ThisType.T_retire],mMin,5)"
   ]
  },
  {
   "cell_type": "code",
   "execution_count": null,
   "metadata": {},
   "outputs": [],
   "source": [
    "# Plot Saving rate of one agent over time\n",
    "print('Saving rate of one agent:')\n",
    "cycle = []\n",
    "s = []\n",
    "for t in range(ThisType.T_cycle):\n",
    "    cycle.append(t)\n",
    "    s.append(SavingRate_list[t][0])\n",
    "plt.plot(cycle, s)\n",
    "plt.show()"
   ]
  },
  {
   "cell_type": "code",
   "execution_count": null,
   "metadata": {
    "code_folding": [
     0
    ]
   },
   "outputs": [],
   "source": [
    "# Plot saving rate of 50 agents over time\n",
    "#for i in range(50):\n",
    "#    cycle = []\n",
    "#    s = []\n",
    "#    for t in range(ThisType.T_cycle):\n",
    "#        cycle.append(t)\n",
    "#        s.append(SavingRate_list[t][i])\n",
    "#        plt.plot(cycle,s)\n",
    "        \n",
    "#plt.show()"
   ]
  },
  {
   "cell_type": "code",
   "execution_count": null,
   "metadata": {},
   "outputs": [],
   "source": [
    "ThisType.aLvlNow_hist = ThisType.aNrmNow_hist*ThisType.pLvlNow_hist\n",
    "aGro41=ThisType.aLvlNow_hist[41]/ThisType.aLvlNow_hist[40]\n",
    "aGro41NoU=aGro41[aGro41[:]>0.2]"
   ]
  },
  {
   "cell_type": "code",
   "execution_count": null,
   "metadata": {},
   "outputs": [],
   "source": [
    "from matplotlib import pyplot as plt\n",
    "n, bins, patches = plt.hist(aGro41NoU,50,density=True)"
   ]
  }
 ],
 "metadata": {
  "kernelspec": {
   "display_name": "Python 2",
   "language": "python",
   "name": "python2"
  },
  "language_info": {
   "codemirror_mode": {
    "name": "ipython",
    "version": 2
   },
   "file_extension": ".py",
   "mimetype": "text/x-python",
   "name": "python",
   "nbconvert_exporter": "python",
   "pygments_lexer": "ipython2",
   "version": "2.7.13"
  }
 },
 "nbformat": 4,
 "nbformat_minor": 2
}

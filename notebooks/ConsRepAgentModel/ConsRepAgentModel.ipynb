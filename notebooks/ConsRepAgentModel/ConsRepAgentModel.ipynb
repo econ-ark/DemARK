{
 "cells": [
  {
   "cell_type": "code",
   "execution_count": null,
   "metadata": {
    "code_folding": [
     0
    ]
   },
   "outputs": [],
   "source": [
    "# Initial imports and notebook setup, click arrow to show\n",
    "import sys \n",
    "import os\n",
    "\n",
    "from HARK.ConsumptionSaving.ConsRepAgentModel import *\n",
    "import HARK.ConsumptionSaving.ConsumerParameters as Params\n",
    "from copy import deepcopy\n",
    "from HARK.utilities import plotFuncs\n",
    "from time import clock"
   ]
  },
  {
   "cell_type": "markdown",
   "metadata": {},
   "source": [
    "This module contains models for solving representative agent (RA) macroeconomic models. This stands in contrast to all other model modules in HARK, which (unsurprisingly) take a heterogeneous agents approach.  \n",
    "In RA models, all attributes are either time invariant or exist on a short cycle. Also, models must be infinite horizon."
   ]
  },
  {
   "cell_type": "markdown",
   "metadata": {},
   "source": [
    "### Representative Agent\n",
    "\n",
    "In this model, the agent has inelastic labor supply. \n",
    "\n",
    "The one period problem for this model is solved by the function $\\texttt{solveConsRepAgent}$. The class $\\texttt{RepAgentConsumerType}$ extends $\\texttt{IndShockConsumerType}$ to represents agents in this model.\n"
   ]
  },
  {
   "cell_type": "code",
   "execution_count": null,
   "metadata": {
    "code_folding": []
   },
   "outputs": [],
   "source": [
    "# Make a quick example dictionary\n",
    "RA_params = deepcopy(Params.init_idiosyncratic_shocks)\n",
    "RA_params['DeprFac'] = 0.05\n",
    "RA_params['CapShare'] = 0.36\n",
    "RA_params['UnempPrb'] = 0.0\n",
    "RA_params['LivPrb'] = [1.0]"
   ]
  },
  {
   "cell_type": "code",
   "execution_count": null,
   "metadata": {},
   "outputs": [],
   "source": [
    "# Make and solve a rep agent model, and plot the consumption function\n",
    "RAexample = RepAgentConsumerType(**RA_params)\n",
    "RAexample.solve()"
   ]
  },
  {
   "cell_type": "code",
   "execution_count": null,
   "metadata": {},
   "outputs": [],
   "source": [
    "# Plot consumption function of a RA\n",
    "plotFuncs(RAexample.solution[0].cFunc,0,20)"
   ]
  },
  {
   "cell_type": "code",
   "execution_count": null,
   "metadata": {},
   "outputs": [],
   "source": [
    "# Simulate the representative agent model\n",
    "RAexample.T_sim = 2000\n",
    "RAexample.track_vars = ['cNrmNow','mNrmNow','Rfree','wRte']\n",
    "RAexample.initializeSim()\n",
    "t_start = clock()\n",
    "RAexample.simulate()\n",
    "t_end = clock()\n",
    "print('Simulating a representative agent for ' + str(RAexample.T_sim) + ' periods took ' + str(t_end-t_start) + ' seconds.')"
   ]
  },
  {
   "cell_type": "markdown",
   "metadata": {},
   "source": [
    "### Markov Representative Agent\n",
    "\n",
    "In this model, the agent experiences inelastic labor supply as well as a discrete Markov state.\n",
    "\n",
    "The one period problem for this model is solved by the function $\\texttt{solveConsRepAgentMarkov}$. The class $\\texttt{RepAgentMarkovConsumerType}$ extends $\\texttt{RepAgentConsumerType}$ to represents agents in this model.\n"
   ]
  },
  {
   "cell_type": "code",
   "execution_count": null,
   "metadata": {},
   "outputs": [],
   "source": [
    "# Make and solve a Markov representative agent\n",
    "RA_markov_params = deepcopy(RA_params)\n",
    "RA_markov_params['PermGroFac'] = [[0.97,1.03]]\n",
    "RA_markov_params['MrkvArray'] = np.array([[0.99,0.01],[0.01,0.99]])\n",
    "RA_markov_params['MrkvNow'] = 0\n",
    "RAmarkovExample = RepAgentMarkovConsumerType(**RA_markov_params)\n",
    "RAmarkovExample.IncomeDstn[0] = 2*[RAmarkovExample.IncomeDstn[0]]\n",
    "RAmarkovExample.solve()"
   ]
  },
  {
   "cell_type": "code",
   "execution_count": null,
   "metadata": {},
   "outputs": [],
   "source": [
    "# Plot consumption function of a Markov RA\n",
    "plotFuncs(RAmarkovExample.solution[0].cFunc,0,10)"
   ]
  },
  {
   "cell_type": "code",
   "execution_count": null,
   "metadata": {},
   "outputs": [],
   "source": [
    "# Simulate the two state representative agent model\n",
    "RAmarkovExample.T_sim = 2000\n",
    "RAmarkovExample.track_vars = ['cNrmNow','mNrmNow','Rfree','wRte','MrkvNow']\n",
    "RAmarkovExample.initializeSim()\n",
    "t_start = clock()\n",
    "RAmarkovExample.simulate()\n",
    "t_end = clock()\n",
    "print('Simulating a two state representative agent for ' + str(RAexample.T_sim) + ' periods took ' + str(t_end-t_start) + ' seconds.')"
   ]
  }
 ],
 "metadata": {
  "kernelspec": {
   "display_name": "Python 2",
   "language": "python",
   "name": "python2"
  },
  "language_info": {
   "codemirror_mode": {
    "name": "ipython",
    "version": 2
   },
   "file_extension": ".py",
   "mimetype": "text/x-python",
   "name": "python",
   "nbconvert_exporter": "python",
   "pygments_lexer": "ipython2",
   "version": "2.7.13"
  }
 },
 "nbformat": 4,
 "nbformat_minor": 2
}

{
 "cells": [
  {
   "cell_type": "markdown",
   "metadata": {},
   "source": [
    "# Micro- and Macroeconomic Implications of Very Impatient Households\n",
    "\n",
    "Please write the names and email addresses of everyone who worked on this notebook on the line below.\n",
    "\n",
    "YOUR NAMES HERE\n",
    "\n",
    "## Introduction\n",
    "\n",
    "Buffer stock saving models of the kind implemented in $\\texttt{ConsIndShockType}$ say that the _ratio_ of asets **a** to permanent income **p**, $a$=**a**/**p**, has a target value $\\check{a}$ that depends on the consumer's preferences (relative risk aversion, time preference) and circumstances (interest factor, growth factor, uncertainty).\n",
    "\n",
    "If everyone had identical preferences and everyone were at their target $\\check{a}$, then inequality in the level of **a** would be exactly the same as inequality in **p**.\n",
    "\n",
    "[\"The Distribution of Wealth and the Marginal Propensity to Consume\"](http://econ.jhu.edu/people/ccarroll/cstwMPC) (Carroll, Slacalek, Tokuoka, and White 2017; hereafter: \"cstwMPC\") shows that, when such a model is simulated and agents draw their idiosyncratic shocks (so, agents are _ex post_ heterogeneous -- see the definition in [Intro-To-HARK](http://github.com/econ-ark/PARK/Intro-To-HARK.pdf), this theoretical point is roughly true: asset inequality is close to **p** inequality.\n",
    "\n",
    "But a large body of evidence shows that _actual_ inequality in assets is much greater than _actual_ inequality in permanent income.  Thus, to make that model qualify as what cstwMPC call a 'serious' model (one that matches the facts  theory says should matter for consumption behavior), the model must be modified to incorporate some form of _ex ante_ heterogeneity (again cf [Intro-To-HARK](http://github.com/econ-ark/PARK/Intro-To-HARK.pdf)): say, changing $\\beta$ or $R$ or $\\rho$ or $\\Gamma$ or $\\sigma^{2}_{\\psi}$.\n",
    "\n",
    "The most transparent and simplest of these to change is the time preference factor $\\beta$.  So that is what the paper does.  The key results of the paper are twofold:\n",
    "\n",
    "1. The distribution of $\\beta$ need not be particularly wide to match the extreme concentration of wealth: roughly 0.92 to 0.98 (annual); that is, the most impatient person discounts the future about 6 percentage points more per year than the most patient agent agent\n",
    "2. With such a distribution of $\\beta$, simulated agents' (annual) marginal propensity to consume (MPC) from transitory income shocks to income matches large body of microeconomic evidence that typically finds evidence of MPC's in the range of 0.2 to 0.6.  This is much better than RA macro models that typically yield MPC's in the range of 0.01 to 0.05.\n",
    "\n",
    "While some agents in the cstwMPC model have fairly high MPCs (~0.6 annual), there is microeconomic evidence that a significant fraction of households have *even higher* MPCs than the model predicts, especially at the quarterly frequency.  This group of households is commonly referred to as \"hand-to-mouth\" -- they consume most of their income not too long after they receive it (mostly within a quarter).  There are several reasons why a household could be hand-to-mouth, but one plausible explanation is that these households are *even more impatient* than estimated by cstwMPC for the most impatient agent.\n",
    "\n",
    "In this exercise, you will explore the micro- and macroeconomic implications of some households being *very impatient*. Specifically, you will address the following questions:\n",
    "\n",
    "1. How does the distribution of the MPC change (relative to cstwMPC's baseline) if some simulated households are extremely impatient?  Do we observe a significant portion of hand-to-mouth households?\n",
    "2. How does the distribution (and aggregate level) of wealth change if some households are extremely impatient?  Does this distribution of $\\beta$ still generate a wealth distribution like the one seen in U.S. data?"
   ]
  },
  {
   "cell_type": "code",
   "execution_count": 1,
   "metadata": {
    "code_folding": [
     0
    ]
   },
   "outputs": [],
   "source": [
    "# This cell merely imports and sets up some basic functions and packages \n",
    "\n",
    "%matplotlib inline\n",
    "import matplotlib.pyplot as plt\n",
    "\n",
    "import sys \n",
    "import os\n",
    "sys.path.insert(0, os.path.abspath('../lib'))\n",
    "\n",
    "from util import log_progress\n",
    "import numpy as np\n",
    "from copy import deepcopy\n",
    "\n",
    "import HARK # Prevents import error from Demos repo\n",
    "from HARK.utilities import plotFuncs"
   ]
  },
  {
   "cell_type": "markdown",
   "metadata": {},
   "source": [
    "## Calibrating a Basic Version of cstwMPC\n",
    "\n",
    "To get started, let's reproduce a simplified version of the main results from cstwMPC.  \n",
    "\n",
    "In cstwMPC, the authors calibrated nearly all of the model parameters-- risk aversion, income shock process, etc-- to commonly used or previously estimated values.  The only parameter to be estimated is the distribution of $\\beta$.  cstwMPC assumed that $\\beta$ is uniformly distributed on $[\\grave{\\beta}-\\nabla,\\grave{\\beta}+\\nabla]$, approximated by a seven point distribution.\n",
    "\n",
    "Their estimation procedure seeks the values of $\\grave{\\beta}$ and $\\nabla$ that generate a simulated distribution of wealth that best matches empirical U.S. data.  Their definition of \"best match\" has two aspects:\n",
    "\n",
    "1. The simulated aggregate capital-to-income ratio matches the true U.S. value.\n",
    "2. The sum of squared distances between the simulated and empirical Lorenz curves (at the 20th, 40th, 60th, and 80th) percentiles is minimized (conditional on item 1).\n",
    "\n",
    "cstwMPC's target empirical moments are a capital-to-income ratio of 10.26 and cumulative wealth shares as given in the table below.  Yes, you are reading the table correctly: The \"poorest\" 80% of households own 17.5% of wealth. \n",
    "\n",
    "| Net worth percentile | Cumulative wealth share |\n",
    "|:---:|:---:|\n",
    "|  20th  | -0.18% |\n",
    "|  40th  | 1.04% |\n",
    "|  60th  | 5.53% |\n",
    "|  80th  | 17.52% |\n",
    "\n",
    "To reproduce their basic results, we must import an $\\texttt{AgentType}$ subclass and define a dictionary with calibrated parameters identical to those in the paper."
   ]
  },
  {
   "cell_type": "code",
   "execution_count": 2,
   "metadata": {
    "code_folding": [
     4
    ]
   },
   "outputs": [],
   "source": [
    "# Import IndShockConsumerType\n",
    "from HARK.ConsumptionSaving.ConsIndShockModel import IndShockConsumerType\n",
    "\n",
    "# Define a dictionary with calibrated parameters\n",
    "cstwMPC_calibrated_parameters = {\n",
    "    \"CRRA\":1.0,                    # Coefficient of relative risk aversion \n",
    "    \"Rfree\":1.01/(1.0 - 1.0/160.0), # Survival probability,\n",
    "    \"PermGroFac\":[1.000**0.25], # Permanent income growth factor (no perm growth),\n",
    "    \"PermGroFacAgg\":1.0,\n",
    "    \"BoroCnstArt\":0.0,\n",
    "    \"CubicBool\":False,\n",
    "    \"vFuncBool\":False,\n",
    "    \"PermShkStd\":[(0.01*4/11)**0.5],  # Standard deviation of permanent shocks to income\n",
    "    \"PermShkCount\":5,  # Number of points in permanent income shock grid\n",
    "    \"TranShkStd\":[(0.01*4)**0.5],  # Standard deviation of transitory shocks to income,\n",
    "    \"TranShkCount\":5,  # Number of points in transitory income shock grid\n",
    "    \"UnempPrb\":0.07,  # Probability of unemployment while working\n",
    "    \"IncUnemp\":0.15,  # Unemployment benefit replacement rate\n",
    "    \"UnempPrbRet\":None,\n",
    "    \"IncUnempRet\":None,\n",
    "    \"aXtraMin\":0.00001,  # Minimum end-of-period assets in grid\n",
    "    \"aXtraMax\":40,  # Maximum end-of-period assets in grid\n",
    "    \"aXtraCount\":32,  # Number of points in assets grid\n",
    "    \"aXtraExtra\":[None],\n",
    "    \"aXtraNestFac\":3,  # Number of times to 'exponentially nest' when constructing assets grid\n",
    "    \"LivPrb\":[1.0 - 1.0/160.0],  # Survival probability\n",
    "    \"DiscFac\":0.97,             # Default intertemporal discount factor; dummy value, will be overwritten\n",
    "    \"cycles\":0,\n",
    "    \"T_cycle\":1,\n",
    "    \"T_retire\":0,\n",
    "    'T_sim':1200,  # Number of periods to simulate (idiosyncratic shocks model, perpetual youth)\n",
    "    'T_age': 400,\n",
    "    'IndL': 10.0/9.0,  # Labor supply per individual (constant),\n",
    "    'aNrmInitMean':np.log(0.00001),\n",
    "    'aNrmInitStd':0.0,\n",
    "    'pLvlInitMean':0.0,\n",
    "    'pLvlInitStd':0.0,\n",
    "    'AgentCount':10000,\n",
    "}"
   ]
  },
  {
   "cell_type": "markdown",
   "metadata": {},
   "source": [
    "Now let's make several instances of our class of agents and give them different values of $\\beta$, following cstwMPC's estimated distribution.  In our specification of interest, we will use $\\grave{\\beta}=0.98556$ and $\\nabla = 0.0085$.\n",
    "\n",
    "NB: Reported parameter estimates in cstwMPC use a model with aggregate shocks and wages and interest rates determined dynamically (a heterogeneous agents DSGE model); this is the $\\texttt{AggShockConsumerType}$ in HARK.  The estimated parameters are slightly different in this exercise, as we are ignoring general equilibrium aspects and only using the $\\texttt{IndShockConsumerType}$"
   ]
  },
  {
   "cell_type": "code",
   "execution_count": 3,
   "metadata": {},
   "outputs": [],
   "source": [
    "# This cell constructs seven instances of IndShockConsumerType with different discount factors\n",
    "from HARK.utilities import approxUniform\n",
    "BaselineType = IndShockConsumerType(**cstwMPC_calibrated_parameters)\n",
    "\n",
    "# Specify the distribution of the discount factor\n",
    "num_types = 7            # number of types we want\n",
    "DiscFac_mean   = 0.98556 # center of beta distribution \n",
    "DiscFac_spread = 0.0085  # spread of beta distribution\n",
    "DiscFac_dstn = approxUniform(num_types, DiscFac_mean-DiscFac_spread, DiscFac_mean+DiscFac_spread)[1]\n",
    "\n",
    "MyTypes = [] # initialize an empty list to hold our consumer types\n",
    "for nn in range(num_types):\n",
    "    # Now create the types, and append them to the list MyTypes\n",
    "    NewType = deepcopy(BaselineType)\n",
    "    NewType.DiscFac = DiscFac_dstn[nn]\n",
    "    NewType.seed = nn # give each consumer type a different RNG seed\n",
    "    MyTypes.append(NewType)"
   ]
  },
  {
   "cell_type": "code",
   "execution_count": 4,
   "metadata": {},
   "outputs": [
    {
     "data": {
      "text/plain": [
       "['AgentCount',\n",
       " 'BoroCnstArt',\n",
       " 'CRRA',\n",
       " 'CubicBool',\n",
       " 'DiscFac',\n",
       " 'IncUnemp',\n",
       " 'IncUnempRet',\n",
       " 'IncomeDstn',\n",
       " 'IndL',\n",
       " 'LivPrb',\n",
       " 'PermGroFac',\n",
       " 'PermGroFacAgg',\n",
       " 'PermShkCount',\n",
       " 'PermShkDstn',\n",
       " 'PermShkStd',\n",
       " 'RNG',\n",
       " 'Rfree',\n",
       " 'T_age',\n",
       " 'T_cycle',\n",
       " 'T_retire',\n",
       " 'T_sim',\n",
       " 'TranShkCount',\n",
       " 'TranShkDstn',\n",
       " 'TranShkStd',\n",
       " 'UnempPrb',\n",
       " 'UnempPrbRet',\n",
       " '__call__',\n",
       " '__class__',\n",
       " '__delattr__',\n",
       " '__dict__',\n",
       " '__doc__',\n",
       " '__format__',\n",
       " '__getattribute__',\n",
       " '__hash__',\n",
       " '__init__',\n",
       " '__long__',\n",
       " '__module__',\n",
       " '__native__',\n",
       " '__new__',\n",
       " '__nonzero__',\n",
       " '__reduce__',\n",
       " '__reduce_ex__',\n",
       " '__repr__',\n",
       " '__setattr__',\n",
       " '__sizeof__',\n",
       " '__slotnames__',\n",
       " '__str__',\n",
       " '__subclasshook__',\n",
       " '__unicode__',\n",
       " '__weakref__',\n",
       " 'aNrmInitMean',\n",
       " 'aNrmInitStd',\n",
       " 'aXtraCount',\n",
       " 'aXtraExtra',\n",
       " 'aXtraGrid',\n",
       " 'aXtraMax',\n",
       " 'aXtraMin',\n",
       " 'aXtraNestFac',\n",
       " 'addToTimeInv',\n",
       " 'addToTimeVary',\n",
       " 'assignParameters',\n",
       " 'cFunc_terminal_',\n",
       " 'calcBoundingValues',\n",
       " 'checkConditions',\n",
       " 'checkElementsOfTimeVaryAreLists',\n",
       " 'clearHistory',\n",
       " 'cycles',\n",
       " 'delFromTimeInv',\n",
       " 'delFromTimeVary',\n",
       " 'distance',\n",
       " 'getAvg',\n",
       " 'getControls',\n",
       " 'getMortality',\n",
       " 'getPostStates',\n",
       " 'getRfree',\n",
       " 'getShocks',\n",
       " 'getStates',\n",
       " 'initializeSim',\n",
       " 'makeEulerErrorFunc',\n",
       " 'makeShockHistory',\n",
       " 'next',\n",
       " 'pLvlInitMean',\n",
       " 'pLvlInitStd',\n",
       " 'postSolve',\n",
       " 'poststate_vars',\n",
       " 'poststate_vars_',\n",
       " 'preSolve',\n",
       " 'pseudo_terminal',\n",
       " 'readShocks',\n",
       " 'read_shocks',\n",
       " 'resetRNG',\n",
       " 'seed',\n",
       " 'shock_vars',\n",
       " 'shock_vars_',\n",
       " 'simBirth',\n",
       " 'simDeath',\n",
       " 'simOnePeriod',\n",
       " 'simulate',\n",
       " 'solution_terminal',\n",
       " 'solution_terminal_',\n",
       " 'solve',\n",
       " 'solveOnePeriod',\n",
       " 'timeFlip',\n",
       " 'timeFwd',\n",
       " 'timeReport',\n",
       " 'timeRev',\n",
       " 'time_flow',\n",
       " 'time_inv',\n",
       " 'time_inv_',\n",
       " 'time_vary',\n",
       " 'time_vary_',\n",
       " 'tolerance',\n",
       " 'track_vars',\n",
       " 'unpackcFunc',\n",
       " 'update',\n",
       " 'updateAssetsGrid',\n",
       " 'updateIncomeProcess',\n",
       " 'updateSolutionTerminal',\n",
       " 'vFuncBool',\n",
       " 'vFunc_terminal_']"
      ]
     },
     "execution_count": 4,
     "metadata": {},
     "output_type": "execute_result"
    }
   ],
   "source": [
    "dir(BaselineType)"
   ]
  },
  {
   "cell_type": "markdown",
   "metadata": {},
   "source": [
    "## Solving and Simulating the Baseline Agents\n",
    "\n",
    "Now let's solve and simulate each of our types of agents.  If you look in the parameter dictionary (or at any of the agent objects themselves), you will see that each one has an $\\texttt{AgentCount}$ attribute of 10000. That is, these seven ex ante heterogeneous types each represent ten thousand individual agents that will experience ex post heterogeneity when they draw different income (and mortality) shocks over time.\n",
    "\n",
    "In the code block below, fill in the contents of the loop to solve and simulate each agent type for many periods.  To do this, you should invoke the methods $\\texttt{solve}$, $\\texttt{initializeSim}$, and $\\texttt{simulate}$ in that order.  Simulating for 1200 quarters (300 years) will approximate the long run distribution of wealth in the population. "
   ]
  },
  {
   "cell_type": "code",
   "execution_count": 5,
   "metadata": {},
   "outputs": [
    {
     "data": {
      "application/vnd.jupyter.widget-view+json": {
       "model_id": "1f3026c5eced4b6498b3dcd9e85dacb5",
       "version_major": 2,
       "version_minor": 0
      },
      "text/plain": [
       "VBox(children=(HTML(value=u''), IntProgress(value=0, max=7)))"
      ]
     },
     "metadata": {},
     "output_type": "display_data"
    }
   ],
   "source": [
    "for ThisType in log_progress(MyTypes, every=1):\n",
    "    # Solve and simulate this type of agent!\n",
    "    ThisType.solve()\n",
    "    ThisType.initializeSim()\n",
    "    ThisType.simulate()"
   ]
  },
  {
   "cell_type": "code",
   "execution_count": 6,
   "metadata": {},
   "outputs": [],
   "source": [
    "result_array = np.empty((0,10000))"
   ]
  },
  {
   "cell_type": "markdown",
   "metadata": {},
   "source": [
    "To verify that you wrote that code correctly, let's check that the aggregate level of capital (total assets held by all households) to income ratio equals what we expected it would be.  To do that, let's combine the asset holdings of all types, take the mean, and see if we get the desired capital to income ratio of 10.26.\n",
    "\n",
    "NB: Because there is no permanent income growth in this model, all shocks are mean one and idiosyncratic, and we have many agents, aggregate or average income is 1.0. "
   ]
  },
  {
   "cell_type": "code",
   "execution_count": 7,
   "metadata": {},
   "outputs": [
    {
     "name": "stdout",
     "output_type": "stream",
     "text": [
      "Aggregate capital to income ratio is 10.265893536491692\n"
     ]
    }
   ],
   "source": [
    "aLvl_all = np.concatenate([ThisType.aLvlNow for ThisType in MyTypes])\n",
    "print('Aggregate capital to income ratio is ' + str(np.mean(aLvl_all)))"
   ]
  },
  {
   "cell_type": "markdown",
   "metadata": {},
   "source": [
    "## The Distribution of Wealth...\n",
    "\n",
    "Now let's write a function that calculates the Euclidean distance between simulated and actual Lorenz curves at the four percentiles of interest: 20, 40, 60, and 80.  Fill in the skeleton of the function below, and then test your function using the input $\\texttt{MyTypes}$.  If you did it correctly, the Lorenz distance should be 0.033\n",
    "\n",
    "You may find it useful to check out some documentation for $\\texttt{HARK.utilities}$ [at this link](https://econ-ark.github.io/HARK/generated/HARKutilities.html)."
   ]
  },
  {
   "cell_type": "code",
   "execution_count": 11,
   "metadata": {},
   "outputs": [
    {
     "data": {
      "application/vnd.jupyter.widget-view+json": {
       "model_id": "4e4da5748dcb414d9bc88986575aee5e",
       "version_major": 2,
       "version_minor": 0
      },
      "text/plain": [
       "VBox(children=(HTML(value=u''), IntProgress(value=0, max=7)))"
      ]
     },
     "metadata": {},
     "output_type": "display_data"
    },
    {
     "ename": "NameError",
     "evalue": "global name 'lorenz_distance' is not defined",
     "output_type": "error",
     "traceback": [
      "\u001b[0;31m---------------------------------------------------------------------------\u001b[0m",
      "\u001b[0;31mNameError\u001b[0m                                 Traceback (most recent call last)",
      "\u001b[0;32m<ipython-input-11-4bba61fd0bb4>\u001b[0m in \u001b[0;36m<module>\u001b[0;34m()\u001b[0m\n\u001b[1;32m     35\u001b[0m \u001b[0;34m\u001b[0m\u001b[0m\n\u001b[1;32m     36\u001b[0m \u001b[0;31m# Test your function:\u001b[0m\u001b[0;34m\u001b[0m\u001b[0;34m\u001b[0m\u001b[0m\n\u001b[0;32m---> 37\u001b[0;31m \u001b[0;32mprint\u001b[0m\u001b[0;34m(\u001b[0m\u001b[0;34m'The baseline Lorenz distance is '\u001b[0m \u001b[0;34m+\u001b[0m \u001b[0mstr\u001b[0m\u001b[0;34m(\u001b[0m\u001b[0mcalcLorenzDistance\u001b[0m\u001b[0;34m(\u001b[0m\u001b[0mMyTypes\u001b[0m\u001b[0;34m)\u001b[0m\u001b[0;34m)\u001b[0m\u001b[0;34m)\u001b[0m\u001b[0;34m\u001b[0m\u001b[0m\n\u001b[0m",
      "\u001b[0;32m<ipython-input-11-4bba61fd0bb4>\u001b[0m in \u001b[0;36mcalcLorenzDistance\u001b[0;34m(SomeTypes)\u001b[0m\n\u001b[1;32m     31\u001b[0m \u001b[0;34m\u001b[0m\u001b[0m\n\u001b[1;32m     32\u001b[0m     \u001b[0;31m# Return the Lorenz distance\u001b[0m\u001b[0;34m\u001b[0m\u001b[0;34m\u001b[0m\u001b[0m\n\u001b[0;32m---> 33\u001b[0;31m     \u001b[0;32mreturn\u001b[0m \u001b[0mlorenz_distance\u001b[0m\u001b[0;34m\u001b[0m\u001b[0m\n\u001b[0m\u001b[1;32m     34\u001b[0m \u001b[0;34m\u001b[0m\u001b[0m\n\u001b[1;32m     35\u001b[0m \u001b[0;34m\u001b[0m\u001b[0m\n",
      "\u001b[0;31mNameError\u001b[0m: global name 'lorenz_distance' is not defined"
     ]
    }
   ],
   "source": [
    "from HARK.utilities import getLorenzShares, getPercentiles\n",
    "\n",
    "# Finish filling in this function to calculate the Euclidean distance between the simulated and actual Lorenz curves.\n",
    "def calcLorenzDistance(SomeTypes):\n",
    "    '''\n",
    "    Calculates the Euclidean distance between the simulated and actual (from SCF data) Lorenz curves at the\n",
    "    20th, 40th, 60th, and 80th percentiles.\n",
    "    \n",
    "    Parameters\n",
    "    ----------\n",
    "    SomeTypes : [AgentType]\n",
    "        List of AgentTypes that have been solved and simulated.  Current levels of individual assets should\n",
    "        be stored in the attribute aLvlNow.\n",
    "        \n",
    "    Returns\n",
    "    -------\n",
    "    lorenz_distance : float\n",
    "        Euclidean distance (square root of sum of squared differences) between simulated and actual Lorenz curves.\n",
    "    '''\n",
    "    # Define empirical Lorenz curve points\n",
    "    lorenz_SCF = np.array([-0.00183091,  0.0104425 ,  0.0552605 ,  0.1751907 ])\n",
    "    \n",
    "    # Extract asset holdings from all consumer types\n",
    "    \n",
    "    # Calculate simulated Lorenz curve points\n",
    "    \n",
    "    # Calculate the Euclidean distance between the simulated and actual Lorenz curves\n",
    "    lorenz_distance = np.sqrt(np.sum((lorenz_SCF - lorenz_sim)**2))\n",
    "    \n",
    "    # Return the Lorenz distance\n",
    "    return lorenz_distance\n",
    "\n",
    "\n",
    "# Test your function:\n",
    "print('The baseline Lorenz distance is ' + str(calcLorenzDistance(MyTypes)))"
   ]
  },
  {
   "cell_type": "markdown",
   "metadata": {},
   "source": [
    "## ...and the Marginal Propensity to Consume\n",
    "\n",
    "Now let's look at the distribution of the MPC.  In the code block below, write a function that produces text output of the following form:\n",
    "\n",
    "$\\texttt{The 35th percentile of the MPC is 0.15623}$\n",
    "\n",
    "Your function should take two inputs: a list of types of consumers and an array of percentiles (numbers between 0 and 1). It should return no outputs, merely print to screen one line of text for each requested percentile.  The model is calibrated at a quarterly frequency, but Carroll et al report MPCs at an annual frequency. To convert, use the formula:\n",
    "\n",
    "$\\kappa_{Y} = 1.0 - (1.0 - \\kappa_{Q})^4$"
   ]
  },
  {
   "cell_type": "code",
   "execution_count": null,
   "metadata": {},
   "outputs": [],
   "source": [
    "# Write a function to tell us about the distribution of the MPC in this code block, then test it!\n",
    "# You will almost surely find it useful to use a for loop in this function."
   ]
  },
  {
   "cell_type": "markdown",
   "metadata": {},
   "source": [
    "## Adding Very Impatient Households\n",
    "\n",
    "Now that we have some tools for examining both microeconomic (the MPC across the population) and macroeconomic (the distribution and overall level of wealth) outcomes from our model, we are all set to conduct our experiment.\n",
    "\n",
    "In this exercise, we are going to add very impatient households to the economy in a very direct way: by replacing the *most impatient consumer type* with an *even more impatient type*.  Specifically, we will have these agents have a discount factor of $\\beta = 0.80$ at a quarterly frequency, which corresponds to $\\beta \\approx 0.41$ annual.\n",
    "\n",
    "In the code block below, program the following steps:\n",
    "\n",
    "1. Replicate the list of agents using $\\texttt{deepcopy}$.\n",
    "2. Set the $\\beta$ of the most impatient type to $0.80$ (for the copied set of agents).\n",
    "3. Solve and simulate the most impatient type (for the copied set of agents)."
   ]
  },
  {
   "cell_type": "code",
   "execution_count": null,
   "metadata": {},
   "outputs": [],
   "source": [
    "# Follow the instructions above to make another list of agents that includes *very* impatient households."
   ]
  },
  {
   "cell_type": "markdown",
   "metadata": {},
   "source": [
    "## Testing the Implications of Very Impatient Households\n",
    "\n",
    "Now that we have the baseline set of simulated agents (in $\\texttt{MyTypes}$) and the altered set of simulated agents (in whatever you named your copied version), let's investigate what this means for micro- and macroeconomic outcomes.  In the code block below, use both lists of agents and the data tools you wrote above to investigate the following questions:\n",
    "\n",
    "1. Did introducing very impatient households generate a substantial proportion of hand-to-mouth households?\n",
    "   - Define 'hand to mouth' as households whose quarterly MPC is greater than 0.7\n",
    "2. Did introducing very impatient households affect the simulated model's ability to match the empirical distribution of wealth and its aggregate level?\n",
    "3. Given what you have found, can you reject the hypothesis that hand-to-mouth households arise in the data because they are very impatient?\n",
    "\n",
    "Use the markdown block below the code block to briefly answer those questions."
   ]
  },
  {
   "cell_type": "code",
   "execution_count": null,
   "metadata": {},
   "outputs": [],
   "source": [
    "# Explore the answers to the above questions in this code block.\n"
   ]
  },
  {
   "cell_type": "markdown",
   "metadata": {},
   "source": [
    "[BRIEFLY ANSWER THOSE QUESTIONS IN ENGLISH HERE]"
   ]
  },
  {
   "cell_type": "markdown",
   "metadata": {},
   "source": [
    "## BONUS: Fun with matplotlib\n",
    "\n",
    "The $\\texttt{matplotlib}$ library provides plotting functionality that replicates Matlab's plot features (more or less). As an example of how to use it, we have written a few lines of code that plot the empirical vs simulated Lorenz curves.  If you really want to impress us, write some code that plots the CDF of the MPC before and after adding very impatient households."
   ]
  },
  {
   "cell_type": "code",
   "execution_count": null,
   "metadata": {},
   "outputs": [],
   "source": [
    "from HARK.cstwMPC.SetupParamsCSTW import SCF_wealth, SCF_weights\n",
    "pctiles = np.linspace(0.001,0.999,200)\n",
    "sim_wealth = np.concatenate([ThisType.aLvlNow for ThisType in MyTypes])\n",
    "SCF_Lorenz_points = getLorenzShares(SCF_wealth,weights=SCF_weights,percentiles=pctiles)\n",
    "sim_Lorenz_points = getLorenzShares(sim_wealth,percentiles=pctiles)\n",
    "plt.plot(pctiles,SCF_Lorenz_points,'--k')\n",
    "plt.plot(pctiles,sim_Lorenz_points,'-b')\n",
    "plt.xlabel('Percentile of net worth')\n",
    "plt.ylabel('Cumulative share of wealth')\n",
    "plt.show()"
   ]
  },
  {
   "cell_type": "code",
   "execution_count": null,
   "metadata": {},
   "outputs": [],
   "source": []
  }
 ],
 "metadata": {
  "kernelspec": {
   "display_name": "Python 2",
   "language": "python",
   "name": "python2"
  },
  "language_info": {
   "codemirror_mode": {
    "name": "ipython",
    "version": 2
   },
   "file_extension": ".py",
   "mimetype": "text/x-python",
   "name": "python",
   "nbconvert_exporter": "python",
   "pygments_lexer": "ipython2",
   "version": "2.7.14"
  }
 },
 "nbformat": 4,
 "nbformat_minor": 2
}

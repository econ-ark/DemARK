{
 "cells": [
  {
   "cell_type": "code",
   "execution_count": 1,
   "metadata": {
    "code_folding": [
     0
    ]
   },
   "outputs": [],
   "source": [
    "# Initial imports and notebook setup, click arrow to show\n",
    "from HARK.ConsumptionSaving.ConsRepAgentModel import RepAgentConsumerType, RepAgentMarkovConsumerType\n",
    "from HARK.ConsumptionSaving.ConsIndShockModel import init_idiosyncratic_shocks\n",
    "from copy import deepcopy\n",
    "from HARK.utilities import plotFuncs\n",
    "from time import process_time\n",
    "import numpy as np"
   ]
  },
  {
   "cell_type": "markdown",
   "metadata": {},
   "source": [
    "This module contains models for solving representative agent (RA) macroeconomic models. This stands in contrast to all other model modules in HARK, which (unsurprisingly) take a heterogeneous agents approach.  \n",
    "In RA models, all attributes are either time invariant or exist on a short cycle. Also, models must be infinite horizon."
   ]
  },
  {
   "cell_type": "markdown",
   "metadata": {},
   "source": [
    "### Representative Agent\n",
    "\n",
    "In this model, the agent has inelastic labor supply. \n",
    "\n",
    "The one period problem for this model is solved by the function $\\texttt{solveConsRepAgent}$. The class $\\texttt{RepAgentConsumerType}$ extends $\\texttt{IndShockConsumerType}$ to represents agents in this model.\n"
   ]
  },
  {
   "cell_type": "code",
   "execution_count": 2,
   "metadata": {
    "code_folding": []
   },
   "outputs": [],
   "source": [
    "# Make a quick example dictionary\n",
    "RA_params = deepcopy(init_idiosyncratic_shocks)\n",
    "RA_params['DeprFac'] = 0.05\n",
    "RA_params['CapShare'] = 0.36\n",
    "RA_params['UnempPrb'] = 0.0\n",
    "RA_params['LivPrb'] = [1.0]"
   ]
  },
  {
   "cell_type": "code",
   "execution_count": 3,
   "metadata": {},
   "outputs": [],
   "source": [
    "# Make and solve a rep agent model, and plot the consumption function\n",
    "RAexample = RepAgentConsumerType(**RA_params)\n",
    "RAexample.solve()"
   ]
  },
  {
   "cell_type": "code",
   "execution_count": 4,
   "metadata": {},
   "outputs": [
    {
     "data": {
      "image/png": "[encoded data removed]",
      "text/plain": [
       "<Figure size 432x288 with 1 Axes>"
      ]
     },
     "metadata": {
      "needs_background": "light"
     },
     "output_type": "display_data"
    }
   ],
   "source": [
    "# Plot consumption function of a RA\n",
    "plotFuncs(RAexample.solution[0].cFunc,0,20)"
   ]
  },
  {
   "cell_type": "code",
   "execution_count": 5,
   "metadata": {},
   "outputs": [
    {
     "name": "stdout",
     "output_type": "stream",
     "text": [
      "Simulating a representative agent for 2000 periods took 1.641688 seconds.\n"
     ]
    }
   ],
   "source": [
    "# Simulate the representative agent model\n",
    "RAexample.T_sim = 2000\n",
    "RAexample.track_vars = ['cNrmNow','mNrmNow','Rfree','wRte']\n",
    "RAexample.initializeSim()\n",
    "t_start = process_time()\n",
    "RAexample.simulate()\n",
    "t_end = process_time()\n",
    "print('Simulating a representative agent for ' + str(RAexample.T_sim) + ' periods took ' + str(t_end-t_start) + ' seconds.')"
   ]
  },
  {
   "cell_type": "markdown",
   "metadata": {},
   "source": [
    "### Markov Representative Agent\n",
    "\n",
    "In this model, the agent experiences inelastic labor supply as well as a discrete Markov state.\n",
    "\n",
    "The one period problem for this model is solved by the function $\\texttt{solveConsRepAgentMarkov}$. The class $\\texttt{RepAgentMarkovConsumerType}$ extends $\\texttt{RepAgentConsumerType}$ to represents agents in this model.\n"
   ]
  },
  {
   "cell_type": "code",
   "execution_count": 6,
   "metadata": {},
   "outputs": [],
   "source": [
    "# Make and solve a Markov representative agent\n",
    "RA_markov_params = deepcopy(RA_params)\n",
    "RA_markov_params['PermGroFac'] = [[0.97,1.03]]\n",
    "RA_markov_params['MrkvArray'] = np.array([[0.99,0.01],[0.01,0.99]])\n",
    "RA_markov_params['MrkvNow'] = 0\n",
    "RAmarkovExample = RepAgentMarkovConsumerType(**RA_markov_params)\n",
    "RAmarkovExample.IncomeDstn[0] = 2*[RAmarkovExample.IncomeDstn[0]]\n",
    "RAmarkovExample.solve()"
   ]
  },
  {
   "cell_type": "code",
   "execution_count": 7,
   "metadata": {},
   "outputs": [
    {
     "data": {
      "image/png": "[encoded data removed]",
      "text/plain": [
       "<Figure size 432x288 with 1 Axes>"
      ]
     },
     "metadata": {
      "needs_background": "light"
     },
     "output_type": "display_data"
    }
   ],
   "source": [
    "# Plot consumption function of a Markov RA\n",
    "plotFuncs(RAmarkovExample.solution[0].cFunc,0,10)"
   ]
  },
  {
   "cell_type": "code",
   "execution_count": 8,
   "metadata": {},
   "outputs": [
    {
     "name": "stdout",
     "output_type": "stream",
     "text": [
      "Simulating a two state representative agent for 2000 periods took 2.0983539999999996 seconds.\n"
     ]
    }
   ],
   "source": [
    "# Simulate the two state representative agent model\n",
    "RAmarkovExample.T_sim = 2000\n",
    "RAmarkovExample.track_vars = ['cNrmNow','mNrmNow','Rfree','wRte','MrkvNow']\n",
    "RAmarkovExample.initializeSim()\n",
    "t_start = process_time()\n",
    "RAmarkovExample.simulate()\n",
    "t_end = process_time()\n",
    "print('Simulating a two state representative agent for ' + str(RAexample.T_sim) + ' periods took ' + str(t_end-t_start) + ' seconds.')"
   ]
  }
 ],
 "metadata": {
  "jupytext": {
   "notebook_metadata_filter": "all"
  },
  "kernelspec": {
   "display_name": "Python 3",
   "language": "python",
   "name": "python3"
  },
  "language_info": {
   "codemirror_mode": {
    "name": "ipython",
    "version": 3
   },
   "file_extension": ".py",
   "mimetype": "text/x-python",
   "name": "python",
   "nbconvert_exporter": "python",
   "pygments_lexer": "ipython3",
   "version": "3.7.6"
  }
 },
 "nbformat": 4,
 "nbformat_minor": 4
}

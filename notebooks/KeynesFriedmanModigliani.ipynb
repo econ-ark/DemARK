{
 "cells": [
  {
   "cell_type": "markdown",
   "id": "featured-windsor",
   "metadata": {},
   "source": [
    "## Introduction: Keynes, Friedman, Modigliani\n",
    "\n",
    "[![badge](https://img.shields.io/badge/Launch%20using%20-Econ--ARK-blue)](https://econ-ark.org/materials/keynesfriedmanmodigliani#launch)"
   ]
  },
  {
   "cell_type": "code",
   "execution_count": null,
   "id": "suitable-bumper",
   "metadata": {},
   "outputs": [],
   "source": [
    "# Some initial setup\n",
    "from HARK.ConsumptionSaving.ConsIndShockModel import PerfForesightConsumerType\n",
    "import pandas_datareader.data as web\n",
    "import statsmodels.formula.api as sm\n",
    "import scipy.stats as stats\n",
    "import datetime as dt\n",
    "import pandas as pd\n",
    "from matplotlib import pyplot as plt\n",
    "import numpy as np\n",
    "\n",
    "plt.style.use(\"seaborn-darkgrid\")\n",
    "palette = plt.get_cmap(\"Dark2\")\n",
    "\n",
    "\n",
    "pd.core.common.is_list_like = pd.api.types.is_list_like"
   ]
  },
  {
   "cell_type": "markdown",
   "id": "arctic-greece",
   "metadata": {},
   "source": [
    "### 1. The Keynesian consumption function\n",
    "\n",
    "Keynes:\n",
    "1. \"The amount of aggregate consumption mainly depends on the amount of aggregate income.\"\n",
    "1. It is a \"fundamental psychological rule ... that when ... real income increases ... consumption [will increase], but by less than the increase in income.\"\n",
    "1. More generally, \"as a rule, a greater proportion of income ... is saved as real income increases.\"\n",
    "\n",
    "This can be formalized as:\n",
    "\n",
    "$\n",
    "\\begin{eqnarray}\n",
    "c_t & = &  a_0 + a_{1}y_t\n",
    "\\\\ c_t - c_{t-1} & = & a_{1}(y_t - y_{t-1})\n",
    "\\end{eqnarray}\n",
    "$\n",
    "\n",
    "for $a_0 > 0, a_1 < 1$\n"
   ]
  },
  {
   "cell_type": "markdown",
   "id": "early-clock",
   "metadata": {},
   "source": [
    "#### The Keynesian Consumption Function"
   ]
  },
  {
   "cell_type": "code",
   "execution_count": null,
   "id": "metropolitan-multiple",
   "metadata": {},
   "outputs": [],
   "source": [
    "class KeynesianConsumer:\n",
    "    \"\"\"\n",
    "    This class represents consumers that behave according to a\n",
    "    Keynesian consumption function, representing them as a\n",
    "    special case of HARK's PerfForesightConsumerType\n",
    "\n",
    "    Methods:\n",
    "    - cFunc: computes consumption/permanent income\n",
    "             given total income/permanent income.\n",
    "    \"\"\"\n",
    "\n",
    "    def __init__(self):\n",
    "        Keynesian = (\n",
    "            PerfForesightConsumerType()\n",
    "        )  # set up a consumer type and use default parameteres\n",
    "        Keynesian.cycles = 0  # Make this type have an infinite horizon\n",
    "        Keynesian.DiscFac = 0.05\n",
    "        Keynesian.PermGroFac = [0.7]\n",
    "\n",
    "        Keynesian.solve()  # solve the consumer's problem\n",
    "        Keynesian.unpack(\"cFunc\")  # unpack the consumption function\n",
    "\n",
    "        self.cFunc = Keynesian.solution[0].cFunc\n",
    "        self.a0 = self.cFunc(0)\n",
    "        self.a1 = self.cFunc(1) - self.cFunc(0)"
   ]
  },
  {
   "cell_type": "code",
   "execution_count": null,
   "id": "positive-revision",
   "metadata": {},
   "outputs": [],
   "source": [
    "# Plot cFunc(Y)=Y against the Keynesian consumption function\n",
    "# Deaton-Friedman consumption function is a special case of perfect foresight model\n",
    "\n",
    "# We first create a Keynesian consumer\n",
    "KeynesianExample = KeynesianConsumer()\n",
    "\n",
    "# and then plot its consumption function\n",
    "income = np.linspace(0, 30, 20)  # pick some income points\n",
    "plt.figure(figsize=(9, 6))\n",
    "plt.plot(\n",
    "    income, KeynesianExample.cFunc(income), label=\"Consumption function\"\n",
    ")  # plot income versus the consumption\n",
    "plt.plot(income, income, \"k--\", label=\"C=Y\")\n",
    "plt.title(\"Consumption function\")\n",
    "plt.xlabel(\"Income (y)\")\n",
    "plt.ylabel(\"Normalized Consumption (c)\")\n",
    "plt.ylim(0, 20)\n",
    "plt.legend()\n",
    "plt.show()"
   ]
  },
  {
   "cell_type": "code",
   "execution_count": null,
   "id": "reliable-active",
   "metadata": {},
   "outputs": [],
   "source": [
    "# This looks like the first of the three equations, consumption as a linear function of income!\n",
    "# This means that even in a microfounded model (that HARK provides), the consumption function can match Keynes reduced form\n",
    "# prediction (given the right parameterization).\n",
    "\n",
    "# We can even find a_0 and a_1\n",
    "a_0 = KeynesianExample.a0\n",
    "a_1 = KeynesianExample.a1\n",
    "print(\"a_0 is {:.2f}\".format(a_0))\n",
    "print(\"a_1 is {:.2f}\".format(a_1))"
   ]
  },
  {
   "cell_type": "markdown",
   "id": "artificial-mountain",
   "metadata": {},
   "source": [
    "#### The Keynesian consumption function: Evidence"
   ]
  },
  {
   "cell_type": "markdown",
   "id": "opened-heading",
   "metadata": {},
   "source": [
    "Aggregate Data:\n",
    "\n",
    "Long-term time-series estimates: $a_0$ close to zero, $a_1$ close to 1 (saving rate stable over time - Kuznets).<br>\n",
    "Short-term aggregate time-series estimates of change in consumption on change in income find $a_1 << 1$.<br>\n",
    "$c_t = a_0 + a_{1}y_t + a_{2}c_{t-1}$ finds significant $a_2$, near 1."
   ]
  },
  {
   "cell_type": "code",
   "execution_count": null,
   "id": "likely-secret",
   "metadata": {},
   "outputs": [],
   "source": [
    "# Lets have a look at some aggregate data\n",
    "\n",
    "sdt = dt.datetime(1990, 1, 1)  # set startdate\n",
    "edt = dt.datetime(2020, 1, 1)  # set end date\n",
    "df = web.DataReader(\n",
    "    [\"PCECC96\", \"DPIC96\"], \"fred\", sdt, edt\n",
    ")  # import the data from Fred\n",
    "# Plot the data\n",
    "plt.figure(figsize=(9, 6))\n",
    "plt.plot(df.DPIC96, df.PCECC96, \"go\", markersize=3.0, label=\"Data\")\n",
    "slope, intercept, r_value, p_value, std_err = stats.linregress(df.DPIC96, df.PCECC96)\n",
    "plt.plot(df.DPIC96, intercept + slope * df.DPIC96, \"k-\", label=\"Line of best fit\")\n",
    "plt.plot(df.DPIC96, df.DPIC96, \"k--\", label=\"C=Y\")\n",
    "plt.xlabel(\"Income (y)\")\n",
    "plt.ylabel(\"Consumption (c)\")\n",
    "plt.legend()\n",
    "plt.show()\n",
    "\n",
    "print(\"a_0 is {:.2f}\".format(intercept))\n",
    "print(\"a_1 is {:.2f}\".format(slope))"
   ]
  },
  {
   "cell_type": "code",
   "execution_count": null,
   "id": "absolute-delhi",
   "metadata": {},
   "outputs": [],
   "source": [
    "# However, our consumption data is [non-stationary](https://www.reed.edu/economics/parker/312/tschapters/S13_Ch_4.pdf) and this drives the previous\n",
    "# estimate.\n",
    "df.DPIC96.plot()\n",
    "plt.xlabel(\"Date\")\n",
    "plt.ylabel(\"Consumption (c)\")"
   ]
  },
  {
   "cell_type": "code",
   "execution_count": null,
   "id": "sharp-cambodia",
   "metadata": {},
   "outputs": [],
   "source": [
    "# Lets use our second equation to try to find an estimate of a_1\n",
    "\n",
    "df_diff = df.diff()  # create dataframe of differenced values\n",
    "\n",
    "# Plot the data\n",
    "plt.figure(figsize=(9, 6))\n",
    "plt.plot(df_diff.DPIC96, df_diff.PCECC96, \"go\", markersize=3.0, label=\"Data\")\n",
    "slope, intercept, r_value, p_value, std_err = stats.linregress(\n",
    "    df_diff.DPIC96[1:], df_diff.PCECC96[1:]\n",
    ")  # find line of best fit\n",
    "plt.plot(\n",
    "    df_diff.DPIC96[1:],\n",
    "    intercept + slope * df_diff.DPIC96[1:],\n",
    "    \"k-\",\n",
    "    label=\"Line of best fit\",\n",
    ")\n",
    "plt.plot(np.array([-200, 200]), np.array([-200, 200]), \"k--\", label=\"C=Y\")\n",
    "plt.xlabel(\"Change in income (dy)\")\n",
    "plt.ylabel(\"Change in consumption (dc)\")\n",
    "plt.legend()\n",
    "plt.show()\n",
    "\n",
    "print(\"a_1 is {:.2f}\".format(slope))"
   ]
  },
  {
   "cell_type": "markdown",
   "id": "metallic-brunswick",
   "metadata": {},
   "source": [
    "a_1 is now much lower, as we expected"
   ]
  },
  {
   "cell_type": "markdown",
   "id": "usual-lemon",
   "metadata": {},
   "source": [
    "### Household Data:\n",
    "\n",
    "Cross-section plots of consumption and income: very large and significant $a_0$, $a_1$ maybe 0.5. <br>\n",
    "\n",
    "Further facts:\n",
    "1. Black households save more than whites at a given income level.<br>\n",
    "0. By income group:\n",
    "   * low-income: Implausibly large dissaving (spend 2 or 3 times income)\n",
    "   * high-income: Remarkably high saving"
   ]
  },
  {
   "cell_type": "markdown",
   "id": "allied-microphone",
   "metadata": {},
   "source": [
    "### 2. Duesenberry"
   ]
  },
  {
   "cell_type": "markdown",
   "id": "endless-adelaide",
   "metadata": {},
   "source": [
    "Habit formation may explain why $c_{t-1}$ affects $c_t$.<br>\n",
    "Relative Income Hypothesis suggests that you compare your consumption to consumption of ‘peers’.<br>\n",
    "May explain high saving rates of Black HHs.<br>\n",
    "\n",
    "Problems with Duesenberry: <br>\n",
    "No budget constraint<br>\n",
    "No serious treatment of intertemporal nature of saving"
   ]
  },
  {
   "cell_type": "markdown",
   "id": "destroyed-greensboro",
   "metadata": {},
   "source": [
    "#### Dusenberry: Evidence"
   ]
  },
  {
   "cell_type": "code",
   "execution_count": null,
   "id": "classical-cache",
   "metadata": {},
   "outputs": [],
   "source": [
    "# Even if we control for income, past consumption seems to be significantly related to current consumption\n",
    "\n",
    "df_habit = df.copy()\n",
    "df_habit.columns = [\"cons\", \"inc\"]\n",
    "df_habit[\"cons_m1\"] = df.PCECC96.shift()\n",
    "df_habit.dropna()\n",
    "\n",
    "result = sm.ols(formula=\"cons ~ inc + cons_m1\", data=df_habit.dropna()).fit()\n",
    "result.summary()"
   ]
  },
  {
   "cell_type": "code",
   "execution_count": null,
   "id": "upper-dispute",
   "metadata": {},
   "outputs": [],
   "source": [
    "# The coefficient on lagged consumption is very significant.\n",
    "# But regression may be statistically problematic for the usual [non-stationarity](https://towardsdatascience.com/stationarity-in-time-series-analysis-90c94f27322) reasons."
   ]
  },
  {
   "cell_type": "markdown",
   "id": "demographic-porcelain",
   "metadata": {},
   "source": [
    "### 3. Friedman's Permanent Income Hypothesis"
   ]
  },
  {
   "cell_type": "markdown",
   "id": "opened-resort",
   "metadata": {},
   "source": [
    "$$c = p + u$$\n",
    "$$y = p + v$$\n",
    "\n",
    "We can try to test this theory across households. If we run a regression of the form:\n",
    "$$c_i = a_0 + a_{1}y_{i} + u_{i}$$\n",
    "\n",
    "And if Friedman is correct, and the \"true\" coefficient on permanent income $p$ is 1, then the coefficient on $y$ will be:\n",
    "$$a_1 = \\frac{s^2_{p}}{(s^2_{v} + s^2_{p})}$$"
   ]
  },
  {
   "cell_type": "markdown",
   "id": "atlantic-command",
   "metadata": {},
   "source": [
    "#### Friedman's Permanent Income Hypothesis\n",
    "\n",
    "We begin by creating a class that class implements the Friedman PIH consumption function as a special case of the [Perfect Foresight CRRA](http://www.econ2.jhu.edu/people/ccarroll/courses/choice/lecturenotes/consumption/PerfForesightCRRA) model.\n",
    "\n",
    "As discussed in the lecture notes, it is often convenient to represent this type of models in variables that are normalized by permanent income. That is the case for the [HARK](https://github.com/econ-ark/HARK/) tools that we use below in the definition of our consumer. Therefore, the consumption function will expect\n",
    "\\begin{equation*}\n",
    "y_{i,t} = \\frac{Y_{i,t}}{P_{i,t}}\n",
    "\\end{equation*}\n",
    "and compute\n",
    "\\begin{equation*}\n",
    "c_{i,t} = \\frac{C_{i,t}}{P_{i,t}}.\n",
    "\\end{equation*}\n",
    "\n",
    "Therefore, to find consumption at a total level of income $Y$, we will use $\\texttt{P} \\times \\texttt{cFunc(Y/P)}$."
   ]
  },
  {
   "cell_type": "code",
   "execution_count": null,
   "id": "little-scenario",
   "metadata": {},
   "outputs": [],
   "source": [
    "class FriedmanPIHConsumer:\n",
    "    \"\"\"\n",
    "    This class represents consumers that behave according to\n",
    "    Friedman's permanent income hypothesis, representing them as a\n",
    "    special case of HARK's PerfForesightConsumerType\n",
    "\n",
    "    Methods:\n",
    "    - cFunc: computes consumption/permanent income\n",
    "             given total income/permanent income.\n",
    "    \"\"\"\n",
    "\n",
    "    def __init__(self, Rfree=1.001, CRRA=2):\n",
    "        FriedmanPIH = (\n",
    "            PerfForesightConsumerType()\n",
    "        )  # set up a consumer type and use default parameteres\n",
    "        FriedmanPIH.cycles = 0  # Make this type have an infinite horizon\n",
    "        FriedmanPIH.DiscFac = 1 / Rfree\n",
    "        FriedmanPIH.Rfree = Rfree\n",
    "        FriedmanPIH.LivPrb = [1.0]\n",
    "        FriedmanPIH.PermGroFac = [1.0]\n",
    "        FriedmanPIH.CRRA = CRRA\n",
    "        FriedmanPIH.solve()  # solve the consumer's problem\n",
    "        FriedmanPIH.unpack(\"cFunc\")  # unpack the consumption function\n",
    "\n",
    "        self.cFunc = FriedmanPIH.solution[0].cFunc"
   ]
  },
  {
   "cell_type": "markdown",
   "id": "smoking-alaska",
   "metadata": {},
   "source": [
    "Now, think of a consumer that has a permanent income of 1. What will be his consumption at different levels of total observed income?"
   ]
  },
  {
   "cell_type": "code",
   "execution_count": null,
   "id": "lucky-great",
   "metadata": {},
   "outputs": [],
   "source": [
    "# We can now create a PIH consumer\n",
    "PIHexample = FriedmanPIHConsumer()\n",
    "\n",
    "# Plot the perfect foresight consumption function\n",
    "income = np.linspace(0, 10, 20)  # pick some income points\n",
    "plt.figure(figsize=(9, 6))\n",
    "plt.plot(\n",
    "    income, PIHexample.cFunc(income), label=\"Consumption function\"\n",
    ")  # plot income versus the consumption\n",
    "plt.plot(income, income, \"k--\", label=\"C=Y\")\n",
    "plt.title(\"Consumption function\")\n",
    "plt.xlabel(\"Normalized Income (y)\")\n",
    "plt.ylabel(\"Normalized Consumption (c)\")\n",
    "plt.legend()\n",
    "plt.show()"
   ]
  },
  {
   "cell_type": "markdown",
   "id": "center-camel",
   "metadata": {},
   "source": [
    "We can see that regardless of the income our agent receives, they consume their permanent income, which is normalized to 1."
   ]
  },
  {
   "cell_type": "markdown",
   "id": "human-version",
   "metadata": {},
   "source": [
    "We can also draw out some implications of the PIH that we can then test with evidence\n",
    "\n",
    "If we look at HH's who have very similar permanent incomes, we should get a small estimate of $a_1$, because $s^2_v$ is large relative to $s^2_p$.\n",
    "\n",
    "Lets simulate this using our consumer."
   ]
  },
  {
   "cell_type": "code",
   "execution_count": null,
   "id": "frequent-affair",
   "metadata": {},
   "outputs": [],
   "source": [
    "# Permanent income has the same variance\n",
    "# as transitory income.\n",
    "\n",
    "perm_inc = np.random.normal(1.0, 0.1, 200)\n",
    "trans_inc = np.random.normal(0.5, 0.1, 200)\n",
    "\n",
    "total_inc = perm_inc + trans_inc\n",
    "\n",
    "slope, intercept, r_value, p_value, std_err = stats.linregress(\n",
    "    total_inc, PIHexample.cFunc(total_inc / perm_inc) * perm_inc\n",
    ")\n",
    "\n",
    "plt.figure(figsize=(9, 6))\n",
    "plt.plot(\n",
    "    total_inc, PIHexample.cFunc(total_inc) * perm_inc, \"go\", label=\"Simulated data\"\n",
    ")\n",
    "plt.plot(total_inc, intercept + slope * total_inc, \"k-\", label=\"Line of best fit\")\n",
    "plt.plot(np.linspace(1, 2, 5), np.linspace(1, 2, 5), \"k--\", label=\"C=Y\")\n",
    "plt.xlabel(\"Income (y)\")\n",
    "plt.ylabel(\"Consumption (c)\")\n",
    "plt.legend()\n",
    "plt.ylim(0, 2)\n",
    "plt.xlim(1.1, 1.9)\n",
    "plt.show()\n",
    "\n",
    "print(\"a_0 is {:.2f}\".format(intercept))\n",
    "print(\"a_1 is {:.2f}\".format(slope))"
   ]
  },
  {
   "cell_type": "code",
   "execution_count": null,
   "id": "advised-pressing",
   "metadata": {},
   "outputs": [],
   "source": [
    "# Permanent income with higher variance\n",
    "\n",
    "perm_inc = np.random.normal(1.0, 0.5, 200)\n",
    "trans_inc = np.random.normal(0.5, 0.1, 200)\n",
    "\n",
    "total_inc = perm_inc + trans_inc\n",
    "\n",
    "slope, intercept, r_value, p_value, std_err = stats.linregress(\n",
    "    total_inc, PIHexample.cFunc(total_inc / perm_inc) * perm_inc\n",
    ")\n",
    "\n",
    "plt.figure(figsize=(9, 6))\n",
    "plt.plot(\n",
    "    total_inc, PIHexample.cFunc(total_inc) * perm_inc, \"go\", label=\"Simulated data\"\n",
    ")\n",
    "plt.plot(total_inc, intercept + slope * total_inc, \"k-\", label=\"Line of best fit\")\n",
    "plt.plot(np.linspace(0, 2, 5), np.linspace(0, 2, 5), \"k--\", label=\"C=Y\")\n",
    "plt.xlabel(\"Income (y)\")\n",
    "plt.ylabel(\"Consumption (c)\")\n",
    "plt.legend()\n",
    "plt.ylim(0, 2)\n",
    "plt.show()\n",
    "\n",
    "print(\"a_0 is {:.2f}\".format(intercept))\n",
    "print(\"a_1 is {:.2f}\".format(slope))"
   ]
  },
  {
   "cell_type": "markdown",
   "id": "according-system",
   "metadata": {},
   "source": [
    "We can see that as we increase the variance of permanent income, the estimate of a_1 rises"
   ]
  },
  {
   "cell_type": "markdown",
   "id": "employed-pathology",
   "metadata": {},
   "source": [
    "#### Friedman's Permanent Income Hypothesis: Evidence"
   ]
  },
  {
   "cell_type": "markdown",
   "id": "mathematical-borough",
   "metadata": {},
   "source": [
    "We can now consider the empirical evidence for the claims our model made about the PIH.\n",
    "\n",
    "If we take a long time series, then the differences in permanent income should be the main driver of the variance in total income. This implies that a_1 should be high.\n",
    "\n",
    "If we take higher frequency time series (or cross sectional data), transitory shocks should dominate, and our estimate of a_1 should be lower.\n",
    "\n",
    "Consider quarterly differences first:"
   ]
  },
  {
   "cell_type": "code",
   "execution_count": null,
   "id": "racial-teach",
   "metadata": {},
   "outputs": [],
   "source": [
    "# Lets use the data from FRED that we used before.\n",
    "\n",
    "# Using quarterly data (copying from above), we had:\n",
    "\n",
    "plt.figure(figsize=(9, 6))\n",
    "plt.plot(df_diff.DPIC96, df_diff.PCECC96, \"go\", markersize=3.0, label=\"Data\")\n",
    "slope, intercept, r_value, p_value, std_err = stats.linregress(\n",
    "    df_diff.DPIC96[1:], df_diff.PCECC96[1:]\n",
    ")  # find line of best fit\n",
    "plt.plot(\n",
    "    df_diff.DPIC96[1:],\n",
    "    intercept + slope * df_diff.DPIC96[1:],\n",
    "    \"k-\",\n",
    "    label=\"Line of best fit\",\n",
    ")\n",
    "plt.plot(np.array([-200, 200]), np.array([-200, 200]), \"k--\", label=\"C=Y\")\n",
    "plt.xlabel(\"Change in income (dy)\")\n",
    "plt.ylabel(\"Change in consumption (dc)\")\n",
    "plt.legend()\n",
    "plt.show()\n",
    "\n",
    "print(\"a_1 is {:.2f}\".format(slope))"
   ]
  },
  {
   "cell_type": "markdown",
   "id": "likely-trunk",
   "metadata": {},
   "source": [
    "And now consider longer time differences, 20 quarters for instance, where the changes in permanent income should dominate transitory effects"
   ]
  },
  {
   "cell_type": "code",
   "execution_count": null,
   "id": "resistant-scroll",
   "metadata": {},
   "outputs": [],
   "source": [
    "# Using longer differences\n",
    "df_diff_long = df.diff(periods=20)  # create dataframe of differenced values\n",
    "df_diff_long.columns = [\"cons\", \"inc\"]\n",
    "\n",
    "plt.figure(figsize=(9, 6))\n",
    "plt.plot(df_diff_long.inc, df_diff_long.cons, \"go\", label=\"Data\")\n",
    "slope, intercept, r_value, p_value, std_err = stats.linregress(\n",
    "    df_diff_long.inc[20:], df_diff_long.cons[20:]\n",
    ")  # find line of best fit\n",
    "plt.plot(\n",
    "    df_diff_long.inc[1:],\n",
    "    intercept + slope * df_diff_long.inc[1:],\n",
    "    \"k-\",\n",
    "    label=\"Line of best fit\",\n",
    ")\n",
    "plt.plot(np.linspace(-100, 2000, 3), np.linspace(-100, 2000, 3), \"k--\", label=\"C=Y\")\n",
    "plt.legend()\n",
    "plt.xlabel(\"Change in income (dy)\")\n",
    "plt.ylabel(\"Change in consumption (dc)\")\n",
    "plt.show()\n",
    "\n",
    "print(\"a_0 is {:.2f}\".format(intercept))\n",
    "print(\"a_1 is {:.2f}\".format(slope))"
   ]
  },
  {
   "cell_type": "markdown",
   "id": "compact-brazilian",
   "metadata": {},
   "source": [
    "The estimate of $a_1$ using the longer differences is much higher because permanent income is playing a much more important role in explaining the variation in consumption."
   ]
  }
 ],
 "metadata": {
  "jupytext": {
   "cell_metadata_json": true,
   "encoding": "# -*- coding: utf-8 -*-",
   "formats": "ipynb,py:percent",
   "notebook_metadata_filter": "all"
  },
  "kernelspec": {
   "display_name": "Python 3",
   "language": "python",
   "name": "python3"
  },
  "language_info": {
   "codemirror_mode": {
    "name": "ipython",
    "version": 3
   },
   "file_extension": ".py",
   "mimetype": "text/x-python",
   "name": "python",
   "nbconvert_exporter": "python",
   "pygments_lexer": "ipython3"
  },
  "latex_envs": {
   "LaTeX_envs_menu_present": true,
   "autoclose": false,
   "autocomplete": false,
   "bibliofile": "biblio.bib",
   "cite_by": "apalike",
   "current_citInitial": 1,
   "eqLabelWithNumbers": true,
   "eqNumInitial": 1,
   "hotkeys": {
    "equation": "Ctrl-E",
    "itemize": "Ctrl-I"
   },
   "labels_anchors": false,
   "latex_user_defs": false,
   "report_style_numbering": false,
   "user_envs_cfg": false
  },
  "toc": {
   "base_numbering": 1,
   "nav_menu": {},
   "number_sections": true,
   "sideBar": true,
   "skip_h1_title": false,
   "title_cell": "Table of Contents",
   "title_sidebar": "Contents",
   "toc_cell": false,
   "toc_position": {},
   "toc_section_display": true,
   "toc_window_display": false
  }
 },
 "nbformat": 4,
 "nbformat_minor": 5
}

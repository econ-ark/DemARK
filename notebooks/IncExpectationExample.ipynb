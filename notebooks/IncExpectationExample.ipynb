{
 "cells": [
  {
   "cell_type": "markdown",
   "metadata": {},
   "source": [
    "## The Persistent Shock Model and Income Expectations\n",
    "\n",
    "[![badge](https://img.shields.io/badge/Launch%20using%20-Econ--ARK-blue)](https://econ-ark.org/materials/incexpectationexample#launch)"
   ]
  },
  {
   "cell_type": "markdown",
   "metadata": {},
   "source": [
    "This module creates an example application extending $\\texttt{PersistentShockConsumerType}$ from $\\texttt{ConsGenIndShockModel}$. It uses the HARK tool $\\texttt{GenIncProcessModel}$ (whose documentation you can find [here](https://github.com/econ-ark/DemARK/blob/master/notebooks/IncExpectationExample.ipynb).)\n",
    "\n",
    "Most simply, it solves a consumption-saving model with shocks that are neither necessarily fully transitory nor fully permanent. Persistent income is tracked as a state variable and follows an AR(1) process."
   ]
  },
  {
   "cell_type": "markdown",
   "metadata": {},
   "source": [
    "###  What if beliefs about persistent income differ from actual ?\n",
    "\n",
    "What if the consumer has beliefs about the persistence of his/her income process which differ from the *actual* persistence?\n",
    "\n",
    "We can use the class $\\texttt{PersistentShockConsumerType}$ to solve the problem of a consumer with a given set of beliefs, but then simulate a population of consumers for whom that actual persistence differs from what they believe.\n",
    "\n",
    "(This thought experiment is motivated by an interesting recennt paper presented at the NBER Summer Institute's _Behavioral Macroeconomics Conference_ <cite data-cite=\"undefined\"></cite>"
   ]
  },
  {
   "cell_type": "code",
   "execution_count": 1,
   "metadata": {
    "code_folding": [],
    "lines_to_next_cell": 1
   },
   "outputs": [],
   "source": [
    "# Initial imports and notebook setup, click arrow to show\n",
    "%matplotlib inline\n",
    "import matplotlib.pyplot as plt\n",
    "\n",
    "import sys\n",
    "import os\n",
    "from copy import copy\n",
    "import numpy as np\n",
    "\n",
    "from HARK.ConsumptionSaving.ConsGenIncProcessModel import PersistentShockConsumerType\n",
    "from HARK.distribution import Uniform\n",
    "from HARK.utilities import getLorenzShares, calcSubpopAvg\n",
    "mystr = lambda number : \"{:.4f}\".format(number)"
   ]
  },
  {
   "cell_type": "code",
   "execution_count": 2,
   "metadata": {
    "code_folding": [
     1
    ],
    "lines_to_next_cell": 1
   },
   "outputs": [],
   "source": [
    "# This cell makes a subclass of PersistentShockConsumerType including the MPC \n",
    "class PersistentShockConsumerTypeX(PersistentShockConsumerType):\n",
    "    def getControls(self):\n",
    "        cLvlNow = np.zeros(self.AgentCount) + np.nan\n",
    "        MPCnow = np.zeros(self.AgentCount) + np.nan\n",
    "        for t in range(self.T_cycle):\n",
    "            these = t == self.t_cycle\n",
    "            cLvlNow[these] = self.solution[t].cFunc(self.state_now[\"mLvl\"][these],self.state_now[\"pLvl\"][these])\n",
    "            MPCnow[these]  =self.solution[t].cFunc.derivativeX(self.state_now[\"mLvl\"][these],self.state_now[\"pLvl\"][these])\n",
    "        self.controls['cLvl'] = cLvlNow\n",
    "        self.MPCnow  = MPCnow"
   ]
  },
  {
   "cell_type": "code",
   "execution_count": 3,
   "metadata": {
    "code_folding": [
     1
    ],
    "lines_to_next_cell": 1
   },
   "outputs": [],
   "source": [
    "# This cell defines a dictionary to make an instance of \"persistent shocks\" consumer for the infinite horizon model\n",
    "BaselineDict = {\n",
    "        \"CRRA\": 2.0,                           # Coefficient of relative risk aversion\n",
    "        \"Rfree\": 1.01/(1.0 - 1.0/160.0),       # Interest factor on assets\n",
    "        \"DiscFac\": 0.97,                       # Default intertemporal discount factor\n",
    "        \"LivPrb\" : [1.0 - 1.0/160.0],          # Survival probability\n",
    "        \"AgentCount\" : 10000,                  # Number of agents of this type (only matters for simulation)\n",
    "        \"IndL\": 10.0/9.0,                      # Labor supply per individual (constant)\n",
    "        \"aNrmInitMean\" : np.log(0.00001),      # Mean of log initial assets (only matters for simulation)\n",
    "        \"aNrmInitStd\"  : 0.0,                  # Standard deviation of log initial assets (only for simulation)\n",
    "        \"pLvlInitMean\" : 0.0,                  # Mean of log initial permanent income (only matters for simulation)\n",
    "        \"pLvlInitStd\"  : 0.0,                  # Standard deviation of log initial permanent income (only matters for simulation)\n",
    "        \"PermGroFacAgg\" : 1.0,                 # Aggregate permanent income growth factor (only matters for simulation)\n",
    "        \"T_age\" : 400,                         # Age after which simulated agents are automatically killed\n",
    "        \"T_cycle\" : 1,                         # Number of periods in the cycle for this agent type\n",
    "        \"T_sim\":1200,                          # Number of periods to simulate (idiosyncratic shocks model, perpetual youth)\n",
    "        \"aXtraMin\" : 0.001,                    # Minimum end-of-period \"assets above minimum\" value\n",
    "        \"aXtraMax\" : 30,                       # Maximum end-of-period \"assets above minimum\" value               \n",
    "        \"aXtraExtra\" : [0.005,0.01],           # Some other value of \"assets above minimum\" to add to the grid\n",
    "        \"aXtraNestFac\" : 3,                    # Exponential nesting factor when constructing \"assets above minimum\" grid\n",
    "        \"aXtraCount\" : 48,                     # Number of points in the grid of \"assets above minimum\"\n",
    "        \"PermShkCount\" : 7,                    # Number of points in discrete approximation to permanent income shocks\n",
    "        \"TranShkCount\" : 7,                    # Number of points in discrete approximation to transitory income shocks\n",
    "        \"PermShkStd\" : [(0.01*4/11)**0.5],     # Standard deviation of permanent shocks to income\n",
    "        \"TranShkStd\" : [(0.01*4)**0.5],        # Standard deviation of transitory shocks to income\n",
    "        \"UnempPrb\" : 0.05,                     # Probability of unemployment while working\n",
    "        \"UnempPrbRet\" : 0.005,                 # Probability of \"unemployment\" while retired\n",
    "        \"IncUnemp\" : 0.3,                      # Unemployment benefits replacement rate\n",
    "        \"IncUnempRet\" : 0.0,                   # \"Unemployment\" benefits when retired\n",
    "        \"tax_rate\" : 0.0,                      # Flat income tax rate\n",
    "        \"T_retire\" : 0,                        # Period of retirement (0 --> no retirement)\n",
    "        \"BoroCnstArt\" : 0.0,                   # Artificial borrowing constraint; imposed minimum level of end-of period assets\n",
    "        \"CubicBool\" : False,                   # Use cubic spline interpolation when True, linear interpolation when False\n",
    "        \"vFuncBool\" : True,                    # Whether to calculate the value function during solution    \n",
    "        \"cycles\": 0,                           # Make this type have an infinite horizon\n",
    "        \"pLvlPctiles\" : np.concatenate(([0.001, 0.005, 0.01, 0.03], np.linspace(0.05, 0.95, num=19),[0.97, 0.99, 0.995, 0.999])),\n",
    "        \"PermGroFac\" :[1.000**0.25],           # Permanent income growth factor (no perm growth)                   \n",
    "        \"PrstIncCorr\": 0.99,                   # Serial correlation coefficient for persistence of income\n",
    "    }"
   ]
  },
  {
   "cell_type": "code",
   "execution_count": 4,
   "metadata": {
    "code_folding": [
     1
    ]
   },
   "outputs": [],
   "source": [
    "# This cell defines a function to solve and simulate a consumer misperceiving the correlation of persistent income shocks\n",
    "def runRoszypalSchlaffmanExperiment(CorrAct, CorrPcvd, DiscFac_center, DiscFac_spread):\n",
    "    '''\n",
    "    Solve and simulate a consumer type who misperceives the extent of serial correlation\n",
    "    of persistent shocks to income.\n",
    "    \n",
    "    Parameters\n",
    "    ----------\n",
    "    CorrAct : float\n",
    "        Serial correlation coefficient for *actual* persistent income.\n",
    "    CorrPcvd : float\n",
    "        List or array of *perceived* persistent income.\n",
    "    DiscFac_center : float\n",
    "        A measure of centrality for the distribution of the beta parameter, DiscFac.\n",
    "    DiscFac_spread : float\n",
    "        A measure of spread or diffusion for the distribution of the beta parameter.\n",
    "\n",
    "\n",
    "    Returns\n",
    "    -------\n",
    "    AggWealthRatio: float\n",
    "        Ratio of Aggregate wealth to income.\n",
    "    Lorenz: numpy.array\n",
    "        A list of two 1D array reprensenting the Lorenz curve for assets in the most recent simulated period.\n",
    "    Gini: float\n",
    "        Gini coefficient for assets in the most recent simulated period.\n",
    "    Avg_MPC: numpy.array\n",
    "        Average marginal propensity to consume by income quintile in the latest simulated period.\n",
    "    \n",
    "    '''     \n",
    "    \n",
    "    # Make a dictionary to construct our consumer type\n",
    "    ThisDict = copy(BaselineDict)\n",
    "    ThisDict['PrstIncCorr'] = CorrAct\n",
    "    \n",
    "    # Make a 7 point approximation to a uniform distribution of DiscFac\n",
    "    DiscFac_list = Uniform(bot=DiscFac_center-DiscFac_spread,top=DiscFac_center+DiscFac_spread).approx(N=7).X\n",
    "    \n",
    "    type_list = []\n",
    "    # Make a PersistentShockConsumerTypeX for each value of beta saved in DiscFac_list\n",
    "    for i in range(len(DiscFac_list)):    \n",
    "        ThisDict['DiscFac'] = DiscFac_list[i]    \n",
    "        ThisType = PersistentShockConsumerTypeX(**ThisDict)\n",
    "              \n",
    "        # Make the consumer type *believe* he will face a different level of persistence\n",
    "        ThisType.PrstIncCorr = CorrPcvd\n",
    "        ThisType.updatepLvlNextFunc() # Now he *thinks* E[p_{t+1}] as a function of p_t is different than it is\n",
    "    \n",
    "        # Solve the consumer's problem with *perceived* persistence \n",
    "        ThisType.solve()\n",
    "    \n",
    "        # Make the consumer type experience the true level of persistence during simulation\n",
    "        ThisType.PrstIncCorr = CorrAct\n",
    "        ThisType.updatepLvlNextFunc()\n",
    "    \n",
    "        # Simulate the agents for many periods\n",
    "        ThisType.T_sim = 100\n",
    "        #ThisType.track_vars = ['cLvl','aLvl','pLvl','MPCnow']\n",
    "        ThisType.initializeSim()\n",
    "        ThisType.simulate()\n",
    "        type_list.append(ThisType)\n",
    "    \n",
    "    # Get the most recent simulated values of X = cLvl, MPCnow, aLvl, pLvl for all types   \n",
    "    cLvl_all = np.concatenate([ThisType.controls['cLvl'] for ThisType in type_list])\n",
    "    aLvl_all = np.concatenate([ThisType.state_now[\"aLvl\"] for ThisType in type_list])\n",
    "    MPC_all = np.concatenate([ThisType.MPCnow for ThisType in type_list])\n",
    "    pLvl_all = np.concatenate([ThisType.state_now[\"pLvl\"] for ThisType in type_list])\n",
    "    \n",
    "    # The ratio of aggregate assets over the income\n",
    "    AggWealthRatio = np.mean(aLvl_all) / np.mean(pLvl_all)\n",
    "\n",
    "    # first 1D array: Create points in the range (0,1)\n",
    "    wealth_percentile = np.linspace(0.001,0.999,201)\n",
    "\n",
    "    # second 1D array: Compute Lorenz shares for the created points\n",
    "    Lorenz_init = getLorenzShares(aLvl_all, percentiles=wealth_percentile)\n",
    "\n",
    "    # Stick 0 and 1 at the boundaries of both arrays to make it inclusive on the range [0,1]\n",
    "    Lorenz_init = np.concatenate([[0],Lorenz_init,[1]])\n",
    "    wealth_percentile = np.concatenate([[0],wealth_percentile,[1]])\n",
    "    \n",
    "    # Create a list of wealth_percentile 1D array and Lorenz Shares 1D array\n",
    "    Lorenz  = np.stack((wealth_percentile, Lorenz_init))\n",
    "\n",
    "    # Compute the Gini coefficient\n",
    "    Gini = 1.0 - 2.0*np.mean(Lorenz_init[1])\n",
    "    \n",
    "    # Compute the average MPC by income quintile in the latest simulated period\n",
    "    Avg_MPC = calcSubpopAvg(MPC_all, pLvl_all, cutoffs=[(0.0,0.2), (0.2,0.4),  (0.4,0.6), (0.6,0.8), (0.8,1.0)])\n",
    "    \n",
    "    return AggWealthRatio, Lorenz, Gini, Avg_MPC"
   ]
  },
  {
   "cell_type": "markdown",
   "metadata": {
    "code_folding": []
   },
   "source": [
    "The user needs to call the function $\\texttt{runRoszypalSchlaffmanExperiment}$ with specific values for $\\texttt{CorrAct}$, $\\texttt{CorrPcvd}$ and estimates of $\\texttt{DiscFac_center}$, $\\texttt{DiscFac_spread}$ to solve the model accordingly.\n",
    "\n"
   ]
  },
  {
   "cell_type": "code",
   "execution_count": 5,
   "metadata": {
    "code_folding": [],
    "lines_to_next_cell": 2
   },
   "outputs": [
    {
     "name": "stdout",
     "output_type": "stream",
     "text": [
      "The Lorenz curve for assests is\n"
     ]
    },
    {
     "data": {
      "image/png": "[encoded data removed]",
      "text/plain": [
       "<Figure size 432x288 with 1 Axes>"
      ]
     },
     "metadata": {
      "needs_background": "light"
     },
     "output_type": "display_data"
    },
    {
     "name": "stdout",
     "output_type": "stream",
     "text": [
      "The aggregate wealth to income ratio is 5.801093514673795\n",
      "The Gini Coefficient for assests is 1.0\n",
      "The average MPC by income quintile is [0.059549721638462866, 0.05020492204533843, 0.05166699693792501, 0.046790215077678124, 0.02703717909776374]\n"
     ]
    }
   ],
   "source": [
    "# Call the function with test values for (CorrAct, CorrPcvd, DiscFac_center, DiscFac_spread)\n",
    "AggWealthRatio, Lorenz, Gini, Avg_MPC = runRoszypalSchlaffmanExperiment(0.97, 0.9831,  0.9867, 0.0067)\n",
    "\n",
    "# Plot the Lorenz curve  \n",
    "print('The Lorenz curve for assests is')\n",
    "plt.plot(Lorenz[0],Lorenz[1])\n",
    "plt.xlabel('Wealth percentile')\n",
    "plt.ylabel('Cumulative wealth share')\n",
    "plt.xlim([0.,1.])\n",
    "plt.ylim([0.,1.])\n",
    "plt.show()\n",
    "    \n",
    "print('The aggregate wealth to income ratio is ' + str(AggWealthRatio))\n",
    "print('The Gini Coefficient for assests is ' + str(Gini))\n",
    "print('The average MPC by income quintile is ' + str(Avg_MPC))"
   ]
  }
 ],
 "metadata": {
  "jupytext": {
   "cell_metadata_filter": "collapsed,code_folding",
   "cell_metadata_json": true,
   "formats": "ipynb,py:percent",
   "notebook_metadata_filter": "all"
  },
  "kernelspec": {
   "display_name": "Python 3",
   "language": "python",
   "name": "python3"
  },
  "language_info": {
   "codemirror_mode": {
    "name": "ipython",
    "version": 3
   },
   "file_extension": ".py",
   "mimetype": "text/x-python",
   "name": "python",
   "nbconvert_exporter": "python",
   "pygments_lexer": "ipython3",
   "version": "3.6.12"
  }
 },
 "nbformat": 4,
 "nbformat_minor": 4
}

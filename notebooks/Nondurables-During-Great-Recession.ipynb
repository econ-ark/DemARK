{
 "cells": [
  {
   "cell_type": "markdown",
   "id": "53de1b5a",
   "metadata": {},
   "source": [
    "# Spending on Nondurables During the Great Recession\n",
    "\n",
    "[![badge](https://img.shields.io/badge/Launch%20using%20-Econ--ARK-blue)](https://econ-ark.org/materials/nondurables-during-great-recession#launch)\n",
    "\n",
    "<p style=\"text-align: center;\"><small><small><small>Generator: QuARK-make/notebooks_byname</small></small></small></p>"
   ]
  },
  {
   "cell_type": "code",
   "execution_count": null,
   "id": "cb263dbc",
   "metadata": {},
   "outputs": [],
   "source": [
    "# Initial imports and notebook setup, click arrow to show\n",
    "\n",
    "from HARK.distribution import Uniform\n",
    "from HARK.ConsumptionSaving.ConsIndShockModel import IndShockConsumerType\n",
    "import matplotlib.pyplot as plt\n",
    "\n",
    "# Import some things from cstwMPC\n",
    "\n",
    "from tqdm import tqdm\n",
    "\n",
    "import numpy as np\n",
    "from copy import deepcopy\n",
    "\n",
    "from HARK.utilities import plot_funcs"
   ]
  },
  {
   "cell_type": "markdown",
   "id": "182b8dcd",
   "metadata": {},
   "source": [
    "### There Was a Big Drop in Consumption ...\n",
    "Between the second and fourth quarters of 2008, \"discretionary\" spending on nondurables and services in the U.S. dropped by about 4 percent -- an unprecedented collapse.  Subsequent analyses of the Great Recession concluded that it was the large drop in consumption expenditures that turned what would otherwise have been a moderate downturn into the largest economic decline since the Great Depresssion.\n",
    "\n",
    "<!-- Following Blinder and Deaton (1987), we exclude clothing and shoes from the \"nondurables\" category.  By \"discretionary\" services, we mean those that are not mostly predetermined or imputed from other data: Specifically: recreation services, and food services and accommodations.  Data accessed on 2020-03-27 are from https://apps.bea.gov/iTable/iTable.cfm?ReqID=19&step=2#reqid=19&step=2&isuri=1&1921=underlying\n",
    "\n",
    "Q2: (770.703+789.047+421.153+621.281+391.462)\n",
    "Q4: (773.038+786.175+302.043+621.773+387.206)\n",
    "(Q4-Q2)/Q2=0.0412\n",
    "-->"
   ]
  },
  {
   "cell_type": "markdown",
   "id": "17765b7b",
   "metadata": {},
   "source": [
    "### ... and Uncertainty Could Induce A Drop In Consumption ...\n",
    "Increased \"uncertainty\" has become a popular explanation of much of what happened in the Great Recession -- including this drop.  Qualitatively, it is well known that a perceived increase in labor income uncertainty should induce more saving (less consumption) for precautionary reasons.\n",
    "\n",
    "### ... But Is the Story _Quantitatively_ Plausible?\n",
    "But if explaining a 4 percent drop in discretionary consumption would require an implausibly large increase in uncertainty, the story that uncertainty explains the consumption drop is implausible.\n",
    "\n",
    "### Transitory Shocks, Permanent Shocks, or Unemployment\n",
    "The $\\texttt{ConsIndShockConsumerType}$ model incorporates three kinds of uncertainty: Unemployment spells, during which income is reduced to some small proportion of its normal level; and, for consumers who remain employed, transitory and permanent shocks with standard deviations $\\sigma_{\\theta}$ and $\\sigma_{\\psi}$.\n",
    "\n",
    "### The Question:\n",
    "How large an increase in the standard deviation of $\\sigma_{\\psi}$ would be necessary to induce a 4 percent drop in consumption in one quarter?  What about $\\sigma_{\\theta}$?  How high would the perceived unemployment probability have to be?\n",
    "\n",
    "The first step is to create the agents we want to solve the model for.\n",
    "\n",
    "Model set up:\n",
    "- \"Standard\" infinite horizon consumption/saving model, with mortality and permanent and temporary shocks to income\n",
    "- Ex-ante heterogeneity in consumers' discount factors\n",
    "\n",
    "With this basic setup, HARK's `IndShockConsumerType` is the appropriate subclass of $\\texttt{AgentType}$. So we need to prepare the parameters to create instances of that class.\n"
   ]
  },
  {
   "cell_type": "code",
   "execution_count": null,
   "id": "67f13cae",
   "metadata": {},
   "outputs": [],
   "source": [
    "# Choose some calibrated parameters that roughly match steady state\n",
    "init_infinite = {\n",
    "    \"CRRA\": 1.0,  # Coefficient of relative risk aversion\n",
    "    \"Rfree\": 1.01 / (1.0 - 1.0 / 240.0),  # Survival probability,\n",
    "    # Permanent income growth factor (no perm growth),\n",
    "    \"PermGroFac\": [1.000**0.25],\n",
    "    \"PermGroFacAgg\": 1.0,\n",
    "    \"BoroCnstArt\": 0.0,\n",
    "    \"CubicBool\": False,\n",
    "    \"vFuncBool\": False,\n",
    "    \"PermShkStd\": [\n",
    "        (0.01 * 4 / 11) ** 0.5\n",
    "    ],  # Standard deviation of permanent shocks to income\n",
    "    \"PermShkCount\": 7,  # Number of points in permanent income shock grid\n",
    "    \"TranShkStd\": [\n",
    "        (0.01 * 4) ** 0.5\n",
    "    ],  # Standard deviation of transitory shocks to income,\n",
    "    \"TranShkCount\": 5,  # Number of points in transitory income shock grid\n",
    "    \"UnempPrb\": 0.07,  # Probability of unemployment while working\n",
    "    \"IncUnemp\": 0.15,  # Unemployment benefit replacement rate\n",
    "    \"UnempPrbRet\": 0.07,\n",
    "    \"IncUnempRet\": 0.15,\n",
    "    \"aXtraMin\": 0.00001,  # Minimum end-of-period assets in grid\n",
    "    \"aXtraMax\": 20,  # Maximum end-of-period assets in grid\n",
    "    \"aXtraCount\": 20,  # Number of points in assets grid,\n",
    "    \"aXtraExtra\": [None],\n",
    "    \"aXtraNestFac\": 3,  # Number of times to 'exponentially nest' when constructing assets grid\n",
    "    \"LivPrb\": [1.0 - 1.0 / 240.0],  # Survival probability\n",
    "    \"DiscFac\": 0.97,  # Default intertemporal discount factor, # dummy value, will be overwritten\n",
    "    \"cycles\": 0,\n",
    "    \"T_cycle\": 1,\n",
    "    \"T_retire\": 0,\n",
    "    # Number of periods to simulate (idiosyncratic shocks model, perpetual youth)\n",
    "    \"T_sim\": 2000,\n",
    "    \"T_age\": 1000,\n",
    "    \"IndL\": 10.0 / 9.0,  # Labor supply per individual (constant),\n",
    "    \"aNrmInitMean\": np.log(0.00001),\n",
    "    \"aNrmInitStd\": 0.0,\n",
    "    \"pLvlInitMean\": 0.0,\n",
    "    \"pLvlInitStd\": 0.0,\n",
    "    \"AgentCount\": 10000,\n",
    "}"
   ]
  },
  {
   "cell_type": "markdown",
   "id": "832ddfbc",
   "metadata": {},
   "source": [
    "Now we import the class itself and make a baseline type."
   ]
  },
  {
   "cell_type": "code",
   "execution_count": null,
   "id": "b9742cc1",
   "metadata": {},
   "outputs": [],
   "source": [
    "BaselineType = IndShockConsumerType(**init_infinite)"
   ]
  },
  {
   "cell_type": "markdown",
   "id": "725e0162",
   "metadata": {},
   "source": [
    "For this exercise, we will introduce _ex ante_ heterogeneity, so the baseline type will be copied several times.\n",
    "\n",
    "First, let's create a list with seven copies of our baseline type."
   ]
  },
  {
   "cell_type": "code",
   "execution_count": null,
   "id": "e3e0551a",
   "metadata": {},
   "outputs": [],
   "source": [
    "# A list in python can contain anything -- including consumers\n",
    "num_consumer_types = 7  # declare the number of types we want\n",
    "ConsumerTypes = []  # initialize an empty list\n",
    "\n",
    "for nn in range(num_consumer_types):\n",
    "    # Now create the types, and append them to the list ConsumerTypes\n",
    "    NewType = deepcopy(BaselineType)\n",
    "    NewType.seed = nn  # give each consumer type a different RNG seed\n",
    "    ConsumerTypes.append(NewType)"
   ]
  },
  {
   "cell_type": "markdown",
   "id": "367addbd",
   "metadata": {},
   "source": [
    "Now we can give each of the consumer types their own discount factor. (This approximates the distribution of parameters estimated in [\"The Distribution of Wealth and the Marginal Propensity to Consume\"](https://www.econ2.jhu.edu/people/ccarroll/papers/cstwMPC))."
   ]
  },
  {
   "cell_type": "code",
   "execution_count": null,
   "id": "eee39fab",
   "metadata": {},
   "outputs": [],
   "source": [
    "# Seven types is enough to approximate the uniform distribution (5 is not quite enough)\n",
    "\n",
    "# Calibrations from cstwMPC\n",
    "bottomDiscFac = 0.9800\n",
    "topDiscFac = 0.9934\n",
    "DiscFac_list = (\n",
    "    Uniform(bot=bottomDiscFac, top=topDiscFac)\n",
    "    .discretize(N=num_consumer_types)\n",
    "    .atoms.flatten()\n",
    ")\n",
    "\n",
    "# Now, assign the discount factors\n",
    "for j in range(num_consumer_types):\n",
    "    ConsumerTypes[j].DiscFac = DiscFac_list[j]\n",
    "    ConsumerTypes[j].quiet = True  # Turn off some output"
   ]
  },
  {
   "cell_type": "markdown",
   "id": "e79b90b0",
   "metadata": {},
   "source": [
    "Our agents now exist and have a concept of the problem they face, but we still need them to solve that problem.\n",
    "\n",
    "Once we have solved each type of consumer's individual problem, we need to know the distribution of wealth (and permanent income) that the population would achieve in the long run.\n",
    "\n",
    "The cell below does both of those tasks, looping through the consumer types. For each one, it solves that type's infinite horizon model, then simulates 1000 periods to generate an approximation to the long run distribution of wealth."
   ]
  },
  {
   "cell_type": "code",
   "execution_count": null,
   "id": "0ae58afc",
   "metadata": {},
   "outputs": [],
   "source": [
    "# tqdm presents a pretty bar that interactively shows how far the calculations have gotten\n",
    "for ConsumerType in tqdm(ConsumerTypes):\n",
    "    # We configured their discount factor above.  Now solve\n",
    "    ConsumerType.solve(verbose=False)\n",
    "\n",
    "    # Now simulate many periods to get to the stationary distribution\n",
    "    ConsumerType.T_sim = 2000\n",
    "    ConsumerType.initialize_sim()\n",
    "    ConsumerType.simulate()"
   ]
  },
  {
   "cell_type": "markdown",
   "id": "98ad3736",
   "metadata": {},
   "source": [
    "With all of that setup taken care of, let's write some functions to run our counterfactual exercise and extract the information we want.\n",
    "\n",
    "First, let's define a simple function that merely calculates the average consumption level across the entire population in the most recent simulated period."
   ]
  },
  {
   "cell_type": "code",
   "execution_count": null,
   "id": "2addf79c",
   "metadata": {},
   "outputs": [],
   "source": [
    "# We just merge the cNrm and pNrm lists already constructed for each ConsumerType\n",
    "\n",
    "\n",
    "def calcAvgC(ConsumerTypes):\n",
    "    \"\"\"\n",
    "    This function calculates average consumption in the economy in last simulated period,\n",
    "    averaging across ConsumerTypes.\n",
    "    \"\"\"\n",
    "    # Make arrays with all types' (normalized) consumption and permanent income level\n",
    "    # The brackets indicate that the contents will be a list (in this case, of lists)\n",
    "    cNrm = np.concatenate([ThisType.controls[\"cNrm\"] for ThisType in ConsumerTypes])\n",
    "    pLvl = np.concatenate([ThisType.state_now[\"pLvl\"] for ThisType in ConsumerTypes])\n",
    "\n",
    "    # Calculate and return average consumption level in the economy\n",
    "    avgC = np.mean(cNrm * pLvl)  # c is the ratio to p, so C = c*p\n",
    "    return avgC"
   ]
  },
  {
   "cell_type": "markdown",
   "id": "a3815276",
   "metadata": {},
   "source": [
    "Now let's create a function to run the experiment we want -- change income uncertainty, and see how consumption changes.\n",
    "To keep the code block below (mostly) clean, we'll describe the procedure below step by step here, with accompanying annotations in the codeblock.\n",
    "\n",
    "1. Initialize an empty list to\n",
    "   * hold the changes in consumption that happen after parameters change, and\n",
    "   * calculate average consumption before the change in uncertainty\n",
    "2. Loop through the new uncertainty parameter values to assign. For each:\n",
    "   1. Assign the parameter value to the agents\n",
    "   2. Re-solve the agent's model under that degree of uncertainty\n",
    "   3. Construct a popn of agents distributed in the pre-crisis steady state\n",
    "   4. Simulate one more period-- the first period after the change in risk.\n",
    "   5. Calculate the popn avg C level given the new consumption rule\n",
    "   6. Calculate the new average consumption level as percentage change vs the prior level.\n",
    "   7. Return the list of percentage changes"
   ]
  },
  {
   "cell_type": "code",
   "execution_count": null,
   "id": "7d76b40c",
   "metadata": {},
   "outputs": [],
   "source": [
    "# Whenever you define a function, you should describe it (with a \"docstring\")\n",
    "def calcConsChangeAfterUncertaintyChange(OriginalTypes, NewVals, ParamToChange):\n",
    "    \"\"\"\n",
    "    Calculate the change in aggregate consumption for a list of values that a\n",
    "    parameter will take on.\n",
    "\n",
    "    Parameters\n",
    "    ----------\n",
    "    OriginalTypes : [IndShockConsumerType]\n",
    "        List of consumer types, who have already had their \"pre-shock\" problem solved and simulated.\n",
    "    NewVals : np.array\n",
    "        List or array of new values that the parameter of interest will take on.\n",
    "    ParamToChange : str\n",
    "        Name of the income distribution parameter that will be changed.\n",
    "\n",
    "    Returns\n",
    "    -------\n",
    "    ChangesInConsumption : [float]\n",
    "        List of changes in aggregate consumption corresponding to the values in NewVals, as a percentage\n",
    "        of the original aggregate consumption level.\n",
    "    \"\"\"\n",
    "    ChangesInConsumption = []  # Step 1\n",
    "    OldAvgC = calcAvgC(OriginalTypes)\n",
    "\n",
    "    # Step 2 (the loop over counterfactual parameter values)\n",
    "    for NewVal in tqdm(NewVals):\n",
    "        if ParamToChange in [\"PermShkStd\", \"TranShkStd\"]:\n",
    "            ThisVal = [NewVal]\n",
    "        else:\n",
    "            ThisVal = NewVal\n",
    "\n",
    "        ConsumerTypesNew = deepcopy(OriginalTypes)\n",
    "        for index, ConsumerTypeNew in enumerate(ConsumerTypesNew):\n",
    "            setattr(ConsumerTypeNew, ParamToChange, ThisVal)  # Step 2A\n",
    "            ConsumerTypeNew.update_income_process()\n",
    "            ConsumerTypeNew.solve()  # Step 2B\n",
    "\n",
    "            ConsumerTypeNew.initialize_sim()  # Step 2C\n",
    "            ConsumerTypeNew.aNrm = OriginalTypes[index].state_now[\"aNrm\"]\n",
    "            ConsumerTypeNew.pLvl = OriginalTypes[index].state_now[\"pLvl\"]\n",
    "\n",
    "            ConsumerTypeNew.sim_one_period()  # Step 2D\n",
    "\n",
    "        NewAvgC = calcAvgC(ConsumerTypesNew)  # Step 2E\n",
    "        ChangeInConsumption = 100.0 * (NewAvgC - OldAvgC) / OldAvgC  # Step 2F\n",
    "        ChangesInConsumption.append(ChangeInConsumption)\n",
    "\n",
    "    return ChangesInConsumption  # Step 3, returning the output"
   ]
  },
  {
   "cell_type": "markdown",
   "id": "d9a92185",
   "metadata": {},
   "source": [
    "Our counterfactual experiment function takes three inputs-- consumer types, counterfactual values, and the name of the parameter we want to change. For the sake of convenience, let's define small functions to run the experiment for each parameter with just a single input."
   ]
  },
  {
   "cell_type": "code",
   "execution_count": null,
   "id": "baac89df",
   "metadata": {},
   "outputs": [],
   "source": [
    "# Trivial functions can be useful in making the logic of your program clear\n",
    "def calcConsChangeAfterPermShkChange(newVals):\n",
    "    return calcConsChangeAfterUncertaintyChange(ConsumerTypes, newVals, \"PermShkStd\")\n",
    "\n",
    "\n",
    "def calcConsChangeAfterTranShkChange(newVals):\n",
    "    return calcConsChangeAfterUncertaintyChange(ConsumerTypes, newVals, \"TranShkStd\")\n",
    "\n",
    "\n",
    "def calcConsChangeAfterUnempPrbChange(newVals):\n",
    "    return calcConsChangeAfterUncertaintyChange(ConsumerTypes, newVals, \"UnempPrb\")"
   ]
  },
  {
   "cell_type": "markdown",
   "id": "3f6d8cd0",
   "metadata": {},
   "source": [
    "Now we can finally run our experiment.  In the cell below, we generate a plot of the change in aggregate consumption vs the (underlying) standard deviation of permanent income shocks."
   ]
  },
  {
   "cell_type": "code",
   "execution_count": null,
   "id": "cbf7dd85-62bb-4002-a735-99b14373e0a2",
   "metadata": {},
   "outputs": [],
   "source": [
    "# Calculate the consequences of a permanent \"MIT shock\" to the standard deviation of permanent shocks\n",
    "ratio_min = 0.8  # minimum number to multiply uncertainty parameter by\n",
    "TargetChangeInC = -4.1  # Source: see comment above\n",
    "num_points = 10  # number of parameter values to plot in graphs. More=slower\n",
    "\n",
    "# First change the variance of the permanent income shock\n",
    "# Put whatever value in you want!  maximum number to multiply var of perm income shock by\n",
    "perm_ratio_max = 2.5\n",
    "\n",
    "perm_min = BaselineType.PermShkStd[0] * ratio_min\n",
    "perm_max = BaselineType.PermShkStd[0] * perm_ratio_max\n",
    "\n",
    "plt.ylabel(\"% Change in Consumption\")\n",
    "plt.xlabel(\n",
    "    \"Std. Dev. of Perm. Income Shock (Baseline = \"\n",
    "    + str(round(BaselineType.PermShkStd[0], 2))\n",
    "    + \")\"\n",
    ")\n",
    "plt.title(\"Change in Cons. Following Increase in Perm. Income Uncertainty\")\n",
    "plt.ylim(-40.0, 5.0)\n",
    "plt.hlines(TargetChangeInC, perm_min, perm_max)\n",
    "# The expression below shows the power of python\n",
    "plot_funcs([calcConsChangeAfterPermShkChange], perm_min, perm_max, N=num_points)"
   ]
  },
  {
   "cell_type": "code",
   "execution_count": null,
   "id": "804f0881-3f2d-424e-8880-977dfafeeabc",
   "metadata": {},
   "outputs": [],
   "source": []
  },
  {
   "cell_type": "markdown",
   "id": "5ab090eb",
   "metadata": {},
   "source": [
    "The figure shows that if people's beliefs about the standard deviation of permanent shocks to their incomes had changed from 0.06 (the default value) to about 0.012, the model would predict an immediate drop in consumption spending of about the magnitude seen in 2008.\n",
    "\n",
    "The question is whether this is a reasonable or an unreasonable magnitude for a change in uncertainty.  Some perspective on that question is offered by the large literature that attempts to estimate the magnitude of persistent or permanent shocks to household income.  The answer varies substantially across household types, countries, and time periods, but our sense of the literature is that the whole span of the territory between 0.04 and ranging nearly up to 0.20 is well populated (in the sense that substantial populations of people or countries have been estimated to experience shocks of this magnitude).\n",
    "\n",
    "The conclusion is that, in order for an increase in permanent income uncertainty to explain the entire drop in consumption spending, uncertainty in permanent income would have to have roughly doubled between Q2 and Q4 of 2008.  While this seems rather a large increase in uncertainty, it is by no means an absurdly large increase.  And, there is no reason to rule out the possibility that people perceived a likely change in the _level_ of their permanent income as well, which of course would translate one-for-one into a change in the appropriate level of consumption.\n",
    "\n",
    "The point is that it is not at all implausible, as a quantitative proposition, that an increase in uncertainty could have been responsible for a substantial portion of the decline in nondurable expenditures in the Great Recesssion.  (And it is even easier for an increase in uncertainty to induce a decline in durable goods purchases."
   ]
  }
 ],
 "metadata": {
  "jupytext": {
   "cell_metadata_filter": "ExecuteTime,collapsed,code_folding,-autoscroll",
   "cell_metadata_json": true,
   "formats": "ipynb,py:percent",
   "notebook_metadata_filter": "all,-widgets,-varInspector"
  },
  "kernelspec": {
   "display_name": "Python 3 (ipykernel)",
   "language": "python",
   "name": "python3"
  },
  "language_info": {
   "codemirror_mode": {
    "name": "ipython",
    "version": 3
   },
   "file_extension": ".py",
   "mimetype": "text/x-python",
   "name": "python",
   "nbconvert_exporter": "python",
   "pygments_lexer": "ipython3"
  },
  "latex_envs": {
   "LaTeX_envs_menu_present": true,
   "autoclose": false,
   "autocomplete": true,
   "bibliofile": "biblio.bib",
   "cite_by": "apalike",
   "current_citInitial": 1,
   "eqLabelWithNumbers": true,
   "eqNumInitial": 1,
   "hotkeys": {
    "equation": "Ctrl-E",
    "itemize": "Ctrl-I"
   },
   "labels_anchors": false,
   "latex_user_defs": false,
   "report_style_numbering": false,
   "user_envs_cfg": false
  },
  "toc": {
   "base_numbering": 1,
   "nav_menu": {},
   "number_sections": true,
   "sideBar": true,
   "skip_h1_title": false,
   "title_cell": "Table of Contents",
   "title_sidebar": "Contents",
   "toc_cell": false,
   "toc_position": {},
   "toc_section_display": true,
   "toc_window_display": false
  }
 },
 "nbformat": 4,
 "nbformat_minor": 5
}
